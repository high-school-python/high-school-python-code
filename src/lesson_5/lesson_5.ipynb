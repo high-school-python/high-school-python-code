{
 "cells": [
  {
   "cell_type": "markdown",
   "metadata": {},
   "source": [
    "基本的なリストの作成"
   ]
  },
  {
   "cell_type": "code",
   "execution_count": null,
   "metadata": {},
   "outputs": [],
   "source": [
    "fruits = [\"りんご\", \"バナナ\", \"オレンジ\"]\n",
    "numbers = [1, 2, 3, 4, 5]\n",
    "\n",
    "# 異なる型のデータも OK\n",
    "mix = [\"太郎\", 15, \"東京\", 172.5]\n",
    "\n",
    "# 空のリストを定義する\n",
    "my_list = []"
   ]
  },
  {
   "cell_type": "markdown",
   "metadata": {},
   "source": [
    "リストの要素を取り出す"
   ]
  },
  {
   "cell_type": "code",
   "execution_count": null,
   "metadata": {},
   "outputs": [],
   "source": [
    "fruits = [\"りんご\", \"バナナ\", \"オレンジ\", \"ぶどう\", \"メロン\"]\n",
    "\n",
    "# インデックスで要素を取り出す\n",
    "print(fruits[0])  # りんご （最初の要素）\n",
    "print(fruits[1])  # バナナ （2 番目の要素）\n",
    "print(fruits[-1])  # メロン （最後の要素）\n",
    "print(fruits[-2])  # ぶどう （後ろから 2 番目の要素）\n",
    "\n",
    "# 範囲を指定して取り出す （スライス）\n",
    "print(fruits[1:3])  # ['バナナ', 'オレンジ']\n",
    "print(fruits[:3])  # ['りんご', 'バナナ', 'オレンジ']\n",
    "print(fruits[2:])  # ['オレンジ', 'ぶどう', 'メロン']"
   ]
  },
  {
   "cell_type": "markdown",
   "metadata": {},
   "source": [
    "リストの長さを調べる"
   ]
  },
  {
   "cell_type": "code",
   "execution_count": null,
   "metadata": {},
   "outputs": [],
   "source": [
    "fruits = [\"りんご\", \"バナナ\", \"オレンジ\"]\n",
    "length = len(fruits)\n",
    "print(f\"リストの長さ：{length}\")  # 3"
   ]
  },
  {
   "cell_type": "markdown",
   "metadata": {},
   "source": [
    "リストの型ヒント"
   ]
  },
  {
   "cell_type": "code",
   "execution_count": null,
   "metadata": {},
   "outputs": [],
   "source": [
    "fruits: list[str] = [\"りんご\", \"バナナ\", \"オレンジ\"]\n",
    "numbers: list[int] = [1, 2, 3, 4, 5]"
   ]
  },
  {
   "cell_type": "markdown",
   "metadata": {},
   "source": [
    "append() で末尾に追加"
   ]
  },
  {
   "cell_type": "code",
   "execution_count": null,
   "metadata": {},
   "outputs": [],
   "source": [
    "foods = [\"カレー\", \"ラーメン\"]\n",
    "foods.append(\"寿司\")\n",
    "print(foods)  # ['カレー', 'ラーメン', '寿司']\n",
    "\n",
    "# 複数回追加\n",
    "foods.append(\"うどん\")\n",
    "foods.append(\"そば\")\n",
    "print(foods)  # ['カレー', 'ラーメン', '寿司', 'うどん', 'そば']"
   ]
  },
  {
   "cell_type": "markdown",
   "metadata": {},
   "source": [
    "insert() で指定位置に追加"
   ]
  },
  {
   "cell_type": "code",
   "execution_count": null,
   "metadata": {},
   "outputs": [],
   "source": [
    "foods = [\"カレー\", \"ラーメン\", \"寿司\"]\n",
    "# インデックス 1 の位置に挿入\n",
    "foods.insert(1, \"うどん\")\n",
    "print(foods)  # ['カレー', 'うどん', 'ラーメン', '寿司']\n",
    "\n",
    "# 先頭に追加\n",
    "foods.insert(0, \"そば\")\n",
    "print(foods)  # ['そば', 'カレー', 'うどん', 'ラーメン', '寿司']\n"
   ]
  },
  {
   "cell_type": "markdown",
   "metadata": {},
   "source": [
    "remove() で指定した要素を削除"
   ]
  },
  {
   "cell_type": "code",
   "execution_count": null,
   "metadata": {},
   "outputs": [],
   "source": [
    "foods = [\"カレー\", \"ラーメン\", \"寿司\", \"うどん\"]\n",
    "foods.remove(\"ラーメン\")\n",
    "print(foods)  # ['カレー', '寿司', 'うどん']\n",
    "\n",
    "# 存在しない要素を削除しようとするとエラーになります\n",
    "foods.remove(\"パスタ\")"
   ]
  },
  {
   "cell_type": "markdown",
   "metadata": {},
   "source": [
    "del でインデックスを指定して削除"
   ]
  },
  {
   "cell_type": "code",
   "execution_count": null,
   "metadata": {},
   "outputs": [],
   "source": [
    "foods = [\"カレー\", \"ラーメン\", \"寿司\", \"うどん\"]\n",
    "# インデックス 1 の要素を削除\n",
    "del foods[1]\n",
    "print(foods)  # ['カレー', '寿司', 'うどん']\n",
    "\n",
    "# 範囲を指定して削除\n",
    "# インデックス 1 から 2 までを削除\n",
    "del foods[1:3]\n",
    "print(foods)  # ['カレー']\n",
    "\n",
    "# 範囲外のインデックスを指定するとエラーになります\n",
    "del foods[10]"
   ]
  },
  {
   "cell_type": "markdown",
   "metadata": {},
   "source": [
    "pop() で要素を取り出して削除"
   ]
  },
  {
   "cell_type": "code",
   "execution_count": null,
   "metadata": {},
   "outputs": [],
   "source": [
    "foods = [\"カレー\", \"ラーメン\", \"寿司\"]\n",
    "last_food = foods.pop()\n",
    "print(f\"取り出した要素: {last_food}\")  # 寿司\n",
    "print(f\"残りのリスト: {foods}\")  # ['カレー', 'ラーメン']\n",
    "\n",
    "# インデックスを指定して取り出し\n",
    "second_food = foods.pop(1)  # インデックス1の要素を取り出す\n",
    "print(f\"取り出した要素: {second_food}\")  # ラーメン\n",
    "print(f\"残りのリスト: {foods}\")  # ['カレー']"
   ]
  },
  {
   "cell_type": "markdown",
   "metadata": {},
   "source": [
    "sort() で要素の並び替え"
   ]
  },
  {
   "cell_type": "code",
   "execution_count": null,
   "metadata": {},
   "outputs": [],
   "source": [
    "# 数値のソート\n",
    "numbers = [3, 1, 4, 1, 5, 9, 2]\n",
    "numbers.sort()  # 昇順に並び替え\n",
    "print(numbers)  # [1, 1, 2, 3, 4, 5, 9]\n",
    "\n",
    "numbers.sort(reverse=True)  # 降順に並び替え\n",
    "print(numbers)  # [9, 5, 4, 3, 2, 1, 1]\n",
    "\n",
    "# 文字列のソート\n",
    "names = [\"田中\", \"山田\", \"佐藤\", \"鈴木\"]\n",
    "names.sort()  # 50音順に並び替え\n",
    "print(names)  # ['佐藤', '鈴木', '田中', '山田']"
   ]
  },
  {
   "cell_type": "markdown",
   "metadata": {},
   "source": [
    "reverse() で順序を反転"
   ]
  },
  {
   "cell_type": "code",
   "execution_count": null,
   "metadata": {},
   "outputs": [],
   "source": [
    "foods = [\"カレー\", \"ラーメン\", \"寿司\"]\n",
    "foods.reverse()\n",
    "print(foods)  # ['寿司', 'ラーメン', 'カレー']"
   ]
  },
  {
   "cell_type": "markdown",
   "metadata": {},
   "source": [
    "count() で要素の数を数える"
   ]
  },
  {
   "cell_type": "code",
   "execution_count": null,
   "metadata": {},
   "outputs": [],
   "source": [
    "numbers = [1, 2, 3, 2, 1, 2, 4, 5]\n",
    "count_2 = numbers.count(2)\n",
    "print(f\"2 の出現回数: {count_2}\")  # 3\n",
    "\n",
    "# 文字列でも使える\n",
    "fruits = [\"りんご\", \"バナナ\", \"りんご\", \"オレンジ\", \"りんご\"]\n",
    "count_apple = fruits.count(\"りんご\")\n",
    "print(f\"りんごの数: {count_apple}\")  # 3"
   ]
  },
  {
   "cell_type": "markdown",
   "metadata": {},
   "source": [
    "生徒の情報を辞書で管理"
   ]
  },
  {
   "cell_type": "code",
   "execution_count": null,
   "metadata": {},
   "outputs": [],
   "source": [
    "student = {\n",
    "    \"name\": \"山田太郎\",  # キー: \"name\", 値: \"山田太郎\"\n",
    "    \"age\": 16,  # キー: \"age\", 値: 16\n",
    "    \"grade\": 2,  # キー: \"grade\", 値: 2\n",
    "    \"class\": \"A\",  # キー: \"class\", 値: \"A\"\n",
    "}\n",
    "\n",
    "# 空の辞書を作る\n",
    "my_dict = {}"
   ]
  },
  {
   "cell_type": "markdown",
   "metadata": {},
   "source": [
    "辞書の値を取り出す"
   ]
  },
  {
   "cell_type": "code",
   "execution_count": null,
   "metadata": {},
   "outputs": [],
   "source": [
    "student = {\"name\": \"山田太郎\", \"age\": 16, \"grade\": 2, \"class\": \"A\"}\n",
    "\n",
    "# [ ] を使って取り出す\n",
    "print(student[\"name\"])  # 山田太郎\n",
    "print(student[\"age\"])  # 16\n",
    "\n",
    "# get() を使って安全に取り出す\n",
    "print(student.get(\"name\"))  # 山田太郎\n",
    "print(student.get(\"height\"))  # None （キーが存在しない場合）\n",
    "print(student.get(\"height\", 0))  # 0 （デフォルト値を指定）"
   ]
  },
  {
   "cell_type": "markdown",
   "metadata": {},
   "source": [
    "キーと値の取得"
   ]
  },
  {
   "cell_type": "code",
   "execution_count": null,
   "metadata": {},
   "outputs": [],
   "source": [
    "student = {\"name\": \"山田太郎\", \"age\": 16, \"grade\": 2, \"class\": \"A\"}\n",
    "\n",
    "# キーの一覧を取得\n",
    "keys = student.keys()\n",
    "print(list(keys))  # ['name', 'age', 'grade', 'class']\n",
    "\n",
    "# 値の一覧を取得\n",
    "values = student.values()\n",
    "print(list(values))  # ['山田太郎', 16, 2, 'A']\n",
    "\n",
    "# キーと値のペアを取得\n",
    "items = student.items()\n",
    "for key, value in items:\n",
    "    print(f\"{key}: {value}\")"
   ]
  },
  {
   "cell_type": "markdown",
   "metadata": {},
   "source": [
    "辞書の値の追加・更新"
   ]
  },
  {
   "cell_type": "code",
   "execution_count": null,
   "metadata": {},
   "outputs": [],
   "source": [
    "student = {\"name\": \"山田太郎\", \"age\": 16}\n",
    "\n",
    "# 新しい要素の追加\n",
    "student[\"grade\"] = 2\n",
    "student[\"class\"] = \"A\"\n",
    "print(student)  # {'name': '山田太郎', 'age': 16, 'grade': 2, 'class': 'A'}\n",
    "\n",
    "# 値の更新\n",
    "student[\"age\"] = 17\n",
    "print(student)  # {'name': '山田太郎', 'age': 17, 'grade': 2, 'class': 'A'}"
   ]
  },
  {
   "cell_type": "markdown",
   "metadata": {},
   "source": [
    "複数の要素を一度に追加"
   ]
  },
  {
   "cell_type": "code",
   "execution_count": null,
   "metadata": {},
   "outputs": [],
   "source": [
    "student = {\"name\": \"山田太郎\", \"age\": 16, \"class\": \"A\"}\n",
    "student.update({\"grade\": 2, \"club\": \"サッカー部\"})\n",
    "print(student)"
   ]
  },
  {
   "cell_type": "markdown",
   "metadata": {},
   "source": [
    "del による削除"
   ]
  },
  {
   "cell_type": "code",
   "execution_count": null,
   "metadata": {},
   "outputs": [],
   "source": [
    "student = {\"name\": \"山田太郎\", \"age\": 16, \"grade\": 2, \"temp\": \"仮データ\"}\n",
    "\n",
    "# 特定の要素を削除\n",
    "del student[\"temp\"]\n",
    "print(student)  # temp キーが削除された辞書が表示される"
   ]
  },
  {
   "cell_type": "markdown",
   "metadata": {},
   "source": [
    "pop による削除（値の取り出し）"
   ]
  },
  {
   "cell_type": "code",
   "execution_count": null,
   "metadata": {},
   "outputs": [],
   "source": [
    "# popで要素を削除しながら値を取得\n",
    "student = {\"name\": \"山田太郎\", \"age\": 16, \"grade\": 2}\n",
    "\n",
    "# 要素を削除して値を取得\n",
    "age = student.pop(\"age\")\n",
    "print(f\"取り出した年齢: {age}\")\n",
    "print(f\"残りのデータ: {student}\")\n",
    "\n",
    "# 存在しないキーでもエラーにならない\n",
    "club = student.pop(\"club\", \"未所属\")  # キーが存在しない場合のデフォルト値\n",
    "print(f\"部活動: {club}\")  # 未所属"
   ]
  },
  {
   "cell_type": "markdown",
   "metadata": {},
   "source": [
    "clear() による全要素の削除"
   ]
  },
  {
   "cell_type": "code",
   "execution_count": null,
   "metadata": {},
   "outputs": [],
   "source": [
    "scores = {\"国語\": 85, \"数学\": 92, \"英語\": 78}\n",
    "print(f\"クリア前: {scores}\")\n",
    "\n",
    "scores.clear()  # すべての要素を削除\n",
    "print(f\"クリア後: {scores}\")  # {}"
   ]
  },
  {
   "cell_type": "markdown",
   "metadata": {},
   "source": [
    "パンの作り方の手順"
   ]
  },
  {
   "cell_type": "code",
   "execution_count": null,
   "metadata": {},
   "outputs": [],
   "source": [
    "steps = [\"材料を集める\", \"粉と水を混ぜる\", \"こねる\", \"発酵させる\", \"焼く\"]\n",
    "print(\"\\nパンの作り方：\")\n",
    "\n",
    "for i, step in enumerate(steps, 1):\n",
    "    print(f\"手順{i}: {step}\")"
   ]
  },
  {
   "cell_type": "markdown",
   "metadata": {},
   "source": [
    "テストの点数リスト"
   ]
  },
  {
   "cell_type": "code",
   "execution_count": null,
   "metadata": {},
   "outputs": [],
   "source": [
    "test_scores: list[int] = [85, 92, 78, 90, 88]\n",
    "\n",
    "# 基本的な統計計算\n",
    "average = sum(test_scores) / len(test_scores)\n",
    "highest = max(test_scores)\n",
    "lowest = min(test_scores)\n",
    "\n",
    "print(f\"平均点: {average}\")\n",
    "print(f\"最高点: {highest}\")\n",
    "print(f\"最低点: {lowest}\")"
   ]
  },
  {
   "cell_type": "markdown",
   "metadata": {},
   "source": [
    "生徒の情報"
   ]
  },
  {
   "cell_type": "code",
   "execution_count": null,
   "metadata": {},
   "outputs": [],
   "source": [
    "student = {\n",
    "    \"name\": \"鈴木花子\",\n",
    "    \"age\": 16,\n",
    "    \"grade\": 2,\n",
    "    \"class\": \"A\",\n",
    "    \"hobby\": \"バスケ\",\n",
    "    \"favorite_subject\": \"数学\",\n",
    "}\n",
    "\n",
    "# 必要な情報だけを取り出せる\n",
    "print(f\"{student['name']}さん（{student['grade']}-{student['class']}）\")\n",
    "print(f\"趣味: {student['hobby']}\")"
   ]
  },
  {
   "cell_type": "markdown",
   "metadata": {},
   "source": [
    "電話帳"
   ]
  },
  {
   "cell_type": "code",
   "execution_count": null,
   "metadata": {},
   "outputs": [],
   "source": [
    "phone_book = {\n",
    "    \"太郎\": \"090-1111-2222\",\n",
    "    \"花子\": \"080-3333-4444\",\n",
    "    \"次郎\": \"070-5555-6666\",\n",
    "}\n",
    "\n",
    "# 名前 （キー） から電話番号の取得ができる\n",
    "print(phone_book[\"太郎\"])"
   ]
  },
  {
   "cell_type": "markdown",
   "metadata": {},
   "source": [
    "リスト内包表記の基本的な形"
   ]
  },
  {
   "cell_type": "code",
   "execution_count": null,
   "metadata": {},
   "outputs": [],
   "source": [
    "# 通常の for 文での書き方\n",
    "numbers = []\n",
    "\n",
    "for i in range(1, 6):\n",
    "    numbers.append(i)\n",
    "\n",
    "print(numbers)  # [1, 2, 3, 4, 5]\n",
    "\n",
    "# リスト内包表記での書き方\n",
    "numbers = [i for i in range(1, 6)]\n",
    "print(numbers)  # [1, 2, 3, 4, 5]"
   ]
  },
  {
   "cell_type": "markdown",
   "metadata": {},
   "source": [
    "計算を含むリスト内包表記"
   ]
  },
  {
   "cell_type": "code",
   "execution_count": null,
   "metadata": {},
   "outputs": [],
   "source": [
    "# 1 から 5 までの二乗のリスト\n",
    "\n",
    "# 通常の for 文\n",
    "squares = []\n",
    "\n",
    "for i in range(1, 6):\n",
    "    squares.append(i**2)\n",
    "\n",
    "print(squares)  # [1, 4, 9, 16, 25]\n",
    "\n",
    "# リスト内包表記\n",
    "squares = [i**2 for i in range(1, 6)]\n",
    "print(squares)  # [1, 4, 9, 16, 25]"
   ]
  },
  {
   "cell_type": "markdown",
   "metadata": {},
   "source": [
    "文字列の処理を含むリスト内包表記"
   ]
  },
  {
   "cell_type": "code",
   "execution_count": null,
   "metadata": {},
   "outputs": [],
   "source": [
    "# 文字列の各文字を大文字にする\n",
    "word = \"Python\"\n",
    "\n",
    "# 通常の for 文\n",
    "upper_chars = []\n",
    "\n",
    "for char in word:\n",
    "    upper_chars.append(char.upper())\n",
    "\n",
    "print(upper_chars)  # ['P', 'Y', 'T', 'H', 'O', 'N']\n",
    "\n",
    "# リスト内包表記\n",
    "upper_chars = [char.upper() for char in word]\n",
    "print(upper_chars)  # ['P', 'Y', 'T', 'H', 'O', 'N']"
   ]
  },
  {
   "cell_type": "markdown",
   "metadata": {},
   "source": [
    "if 条件を使ったリスト内包表記"
   ]
  },
  {
   "cell_type": "code",
   "execution_count": null,
   "metadata": {},
   "outputs": [],
   "source": [
    "# 10 以下の偶数をリストにする\n",
    "# 通常の for 文\n",
    "evens = []\n",
    "for i in range(11):\n",
    "    if i % 2 == 0:\n",
    "        evens.append(i)\n",
    "print(evens)  # [0, 2, 4, 6, 8, 10]\n",
    "\n",
    "# リスト内包表記\n",
    "evens = [i for i in range(11) if i % 2 == 0]\n",
    "print(evens)  # [0, 2, 4, 6, 8, 10]"
   ]
  },
  {
   "cell_type": "markdown",
   "metadata": {},
   "source": [
    "複雑で読みにくいリスト内包表記"
   ]
  },
  {
   "cell_type": "code",
   "execution_count": null,
   "metadata": {},
   "outputs": [],
   "source": [
    "# 複雑で読みにくい (かもしれない)\n",
    "matrix = [[1, 2, 3], [4, 5, 6], [7, 8, 9]]\n",
    "flattened = [x for row in matrix for x in row if x % 2 == 0]\n",
    "print(flattened)  # [2, 4, 6, 8]\n",
    "\n",
    "# 普通に for 文で書く場合\n",
    "flattened = []\n",
    "\n",
    "for row in matrix:\n",
    "    for x in row:\n",
    "        if x % 2 == 0:\n",
    "            flattened.append(x)\n",
    "\n",
    "print(flattened)  # [2, 4, 6, 8]"
   ]
  },
  {
   "cell_type": "markdown",
   "metadata": {},
   "source": [
    "辞書内包表記の基本的な形"
   ]
  },
  {
   "cell_type": "code",
   "execution_count": null,
   "metadata": {},
   "outputs": [],
   "source": [
    "# 通常の for 文での書き方\n",
    "squares_dict = {}\n",
    "\n",
    "for i in range(1, 6):\n",
    "    squares_dict[i] = i**2\n",
    "\n",
    "print(squares_dict)  # {1: 1, 2: 4, 3: 9, 4: 16, 5: 25}\n",
    "\n",
    "# 辞書内包表記での書き方\n",
    "squares_dict = {i: i**2 for i in range(1, 6)}\n",
    "print(squares_dict)  # {1: 1, 2: 4, 3: 9, 4: 16, 5: 25}"
   ]
  },
  {
   "cell_type": "markdown",
   "metadata": {},
   "source": [
    "if 条件を使った辞書内包表記"
   ]
  },
  {
   "cell_type": "code",
   "execution_count": null,
   "metadata": {},
   "outputs": [],
   "source": [
    "# 値が 10 以上の要素だけを含める\n",
    "scores = {\"Alice\": 12, \"Bob\": 8, \"Charlie\": 15, \"David\": 9}\n",
    "\n",
    "# 通常の for 文\n",
    "high_scores = {}\n",
    "\n",
    "for name, score in scores.items():\n",
    "    if score >= 10:\n",
    "        high_scores[name] = score\n",
    "\n",
    "print(high_scores)  # {'Alice': 12, 'Charlie': 15}\n",
    "\n",
    "# 辞書内包表記\n",
    "high_scores = {name: score for name, score in scores.items() if score >= 10}\n",
    "print(high_scores)  # {'Alice': 12, 'Charlie': 15}"
   ]
  },
  {
   "cell_type": "markdown",
   "metadata": {},
   "source": [
    "生徒の辞書リスト"
   ]
  },
  {
   "cell_type": "code",
   "execution_count": null,
   "metadata": {},
   "outputs": [],
   "source": [
    "students = [\n",
    "    {\"name\": \"山田太郎\", \"age\": 16, \"class\": \"A\"},\n",
    "    {\"name\": \"鈴木花子\", \"age\": 15, \"class\": \"B\"},\n",
    "    {\"name\": \"佐藤次郎\", \"age\": 17, \"class\": \"C\"},\n",
    "]\n",
    "\n",
    "# データの表示\n",
    "for student in students:\n",
    "    print(f\"{student['name']} ({student['age']}歳) - {student['class']}組\")"
   ]
  },
  {
   "cell_type": "markdown",
   "metadata": {},
   "source": [
    "各教科の試験結果"
   ]
  },
  {
   "cell_type": "code",
   "execution_count": null,
   "metadata": {},
   "outputs": [],
   "source": [
    "# 4 人分の試験結果\n",
    "test_results = {\n",
    "    \"数学\": [85, 92, 78, 90],\n",
    "    \"英語\": [92, 88, 85, 95],\n",
    "    \"国語\": [88, 90, 85, 82],\n",
    "}\n",
    "\n",
    "# 教科ごとの平均点を計算\n",
    "for subject, scores in test_results.items():\n",
    "    average = sum(scores) / len(scores)\n",
    "    # 平均点を小数第 1 位まで表示\n",
    "    print(f\"{subject}の平均点: {average:.1f}\")"
   ]
  },
  {
   "cell_type": "markdown",
   "metadata": {},
   "source": [
    "クラスごとの成績管理"
   ]
  },
  {
   "cell_type": "code",
   "execution_count": null,
   "metadata": {},
   "outputs": [],
   "source": [
    "classes_data = {\n",
    "    \"A組\": [\n",
    "        {\"name\": \"山田太郎\", \"scores\": {\"数学\": 85, \"英語\": 92, \"国語\": 88}},\n",
    "        {\"name\": \"鈴木花子\", \"scores\": {\"数学\": 92, \"英語\": 88, \"国語\": 90}},\n",
    "    ],\n",
    "    \"B組\": [\n",
    "        {\"name\": \"佐藤次郎\", \"scores\": {\"数学\": 78, \"英語\": 85, \"国語\": 85}},\n",
    "        {\"name\": \"田中明\", \"scores\": {\"数学\": 90, \"英語\": 95, \"国語\": 82}},\n",
    "    ],\n",
    "}\n",
    "\n",
    "# クラスごとの成績表示\n",
    "for class_name, students in classes_data.items():\n",
    "    print(f\"{class_name}の成績:\")\n",
    "\n",
    "    for student in students:\n",
    "        print(f\"{student['name']}の成績:\")\n",
    "\n",
    "        for subject, score in student[\"scores\"].items():\n",
    "            print(f\"  {subject}: {score}点\")\n",
    "\n",
    "    print()"
   ]
  },
  {
   "cell_type": "markdown",
   "metadata": {},
   "source": [
    "クラスの成績管理プログラム"
   ]
  },
  {
   "cell_type": "code",
   "execution_count": null,
   "metadata": {},
   "outputs": [],
   "source": [
    "class_scores = {\n",
    "    \"山田太郎\": 85,\n",
    "    \"鈴木花子\": 92,\n",
    "    \"佐藤次郎\": 78,\n",
    "    \"田中美咲\": 95,\n",
    "    \"高橋健一\": 88,\n",
    "}\n",
    "\n",
    "# 平均点を計算\n",
    "total = sum(class_scores.values())\n",
    "average = total / len(class_scores)\n",
    "# 平均点を小数第 1 位まで表示\n",
    "print(f\"クラスの平均点：{average:.1f}\")\n",
    "\n",
    "# 平均点以上の生徒を表示\n",
    "print(\"\\n平均点以上の生徒：\")\n",
    "\n",
    "for name, score in class_scores.items():\n",
    "    if score >= average:\n",
    "        print(f\"{name}: {score}点\")"
   ]
  },
  {
   "cell_type": "markdown",
   "metadata": {},
   "source": [
    "好きな果物リストを作り、最初と最後の要素を表示するプログラム"
   ]
  },
  {
   "cell_type": "code",
   "execution_count": null,
   "metadata": {},
   "outputs": [],
   "source": [
    "# 果物リストを作成\n",
    "fruits = []\n",
    "\n",
    "# 果物を追加\n",
    "while True:\n",
    "    fruit = input(\"好きな果物を入力してください（終了する場合は quit と入力してください）:\")\n",
    "\n",
    "    if fruit == \"quit\":\n",
    "        break\n",
    "\n",
    "    fruits.append(fruit)\n",
    "\n",
    "# リストが空でない場合のみ表示\n",
    "if fruits:\n",
    "    print(\"\\n入力された果物リスト：\")\n",
    "    print(fruits)\n",
    "    print(f\"最初の果物：{fruits[0]}\")\n",
    "    print(f\"最後の果物：{fruits[-1]}\")\n",
    "    print(f\"果物の総数：{len(fruits)}個\")\n",
    "else:\n",
    "    print(\"果物が入力されませんでした\")"
   ]
  }
 ],
 "metadata": {
  "language_info": {
   "name": "python"
  }
 },
 "nbformat": 4,
 "nbformat_minor": 2
}
