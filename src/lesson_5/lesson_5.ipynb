{
 "cells": [
  {
   "cell_type": "markdown",
   "metadata": {},
   "source": [
    "基本的なリストの作成"
   ]
  },
  {
   "cell_type": "code",
   "execution_count": null,
   "metadata": {},
   "outputs": [],
   "source": [
    "fruits = [\"りんご\", \"バナナ\", \"オレンジ\"]\n",
    "numbers = [1, 2, 3, 4, 5]\n",
    "\n",
    "# 異なる型のデータも OK\n",
    "mix = [\"太郎\", 15, \"東京\", 172.5]\n",
    "\n",
    "# 空のリストを定義する\n",
    "my_list = []"
   ]
  },
  {
   "cell_type": "markdown",
   "metadata": {},
   "source": [
    "リストの要素を取り出す"
   ]
  },
  {
   "cell_type": "code",
   "execution_count": null,
   "metadata": {},
   "outputs": [],
   "source": [
    "fruits = [\"りんご\", \"バナナ\", \"オレンジ\", \"ぶどう\", \"メロン\"]\n",
    "\n",
    "# インデックスで要素を取り出す\n",
    "print(fruits[0])  # りんご （最初の要素）\n",
    "print(fruits[1])  # バナナ （2 番目の要素）\n",
    "print(fruits[-1])  # メロン （最後の要素）\n",
    "print(fruits[-2])  # ぶどう （後ろから 2 番目の要素）\n",
    "\n",
    "# 範囲を指定して取り出す （スライス）\n",
    "print(fruits[1:3])  # ['バナナ', 'オレンジ']\n",
    "print(fruits[:3])  # ['りんご', 'バナナ', 'オレンジ']\n",
    "print(fruits[2:])  # ['オレンジ', 'ぶどう', 'メロン']"
   ]
  },
  {
   "cell_type": "markdown",
   "metadata": {},
   "source": [
    "リストの長さを調べる"
   ]
  },
  {
   "cell_type": "code",
   "execution_count": null,
   "metadata": {},
   "outputs": [],
   "source": [
    "fruits = [\"りんご\", \"バナナ\", \"オレンジ\"]\n",
    "length = len(fruits)\n",
    "print(f\"リストの長さ：{length}\")  # 3"
   ]
  },
  {
   "cell_type": "markdown",
   "metadata": {},
   "source": [
    "リストの型ヒント"
   ]
  },
  {
   "cell_type": "code",
   "execution_count": null,
   "metadata": {},
   "outputs": [],
   "source": [
    "fruits: list[str] = [\"りんご\", \"バナナ\", \"オレンジ\"]\n",
    "numbers: list[int] = [1, 2, 3, 4, 5]"
   ]
  },
  {
   "cell_type": "markdown",
   "metadata": {},
   "source": [
    "append() で末尾に追加"
   ]
  },
  {
   "cell_type": "code",
   "execution_count": null,
   "metadata": {},
   "outputs": [],
   "source": [
    "foods = [\"カレー\", \"ラーメン\"]\n",
    "foods.append(\"寿司\")\n",
    "print(foods)  # ['カレー', 'ラーメン', '寿司']\n",
    "\n",
    "# 複数回追加\n",
    "foods.append(\"うどん\")\n",
    "foods.append(\"そば\")\n",
    "print(foods)  # ['カレー', 'ラーメン', '寿司', 'うどん', 'そば']"
   ]
  },
  {
   "cell_type": "markdown",
   "metadata": {},
   "source": [
    "insert() で指定位置に追加"
   ]
  },
  {
   "cell_type": "code",
   "execution_count": null,
   "metadata": {},
   "outputs": [],
   "source": [
    "foods = [\"カレー\", \"ラーメン\", \"寿司\"]\n",
    "# インデックス 1 の位置に挿入\n",
    "foods.insert(1, \"うどん\")\n",
    "print(foods)  # ['カレー', 'うどん', 'ラーメン', '寿司']\n",
    "\n",
    "# 先頭に追加\n",
    "foods.insert(0, \"そば\")\n",
    "print(foods)  # ['そば', 'カレー', 'うどん', 'ラーメン', '寿司']\n"
   ]
  },
  {
   "cell_type": "markdown",
   "metadata": {},
   "source": [
    "remove() で指定した要素を削除"
   ]
  },
  {
   "cell_type": "code",
   "execution_count": null,
   "metadata": {},
   "outputs": [],
   "source": [
    "foods = [\"カレー\", \"ラーメン\", \"寿司\", \"うどん\"]\n",
    "foods.remove(\"ラーメン\")\n",
    "print(foods)  # ['カレー', '寿司', 'うどん']\n",
    "\n",
    "# 存在しない要素を削除しようとするとエラーになります\n",
    "foods.remove(\"パスタ\")"
   ]
  },
  {
   "cell_type": "markdown",
   "metadata": {},
   "source": [
    "del でインデックスを指定して削除"
   ]
  },
  {
   "cell_type": "code",
   "execution_count": null,
   "metadata": {},
   "outputs": [],
   "source": [
    "foods = [\"カレー\", \"ラーメン\", \"寿司\", \"うどん\"]\n",
    "# インデックス 1 の要素を削除\n",
    "del foods[1]\n",
    "print(foods)  # ['カレー', '寿司', 'うどん']\n",
    "\n",
    "# 範囲を指定して削除\n",
    "# インデックス 1 から 2 までを削除\n",
    "del foods[1:3]\n",
    "print(foods)  # ['カレー']\n",
    "\n",
    "# 範囲外のインデックスを指定するとエラーになります\n",
    "del foods[10]"
   ]
  },
  {
   "cell_type": "markdown",
   "metadata": {},
   "source": [
    "pop() で要素を取り出して削除"
   ]
  },
  {
   "cell_type": "code",
   "execution_count": null,
   "metadata": {},
   "outputs": [],
   "source": [
    "foods = [\"カレー\", \"ラーメン\", \"寿司\"]\n",
    "last_food = foods.pop()\n",
    "print(f\"取り出した要素: {last_food}\")  # 寿司\n",
    "print(f\"残りのリスト: {foods}\")  # ['カレー', 'ラーメン']\n",
    "\n",
    "# インデックスを指定して取り出し\n",
    "second_food = foods.pop(1)  # インデックス1の要素を取り出す\n",
    "print(f\"取り出した要素: {second_food}\")  # ラーメン\n",
    "print(f\"残りのリスト: {foods}\")  # ['カレー']"
   ]
  },
  {
   "cell_type": "markdown",
   "metadata": {},
   "source": [
    "sort() で要素の並び替え"
   ]
  },
  {
   "cell_type": "code",
   "execution_count": null,
   "metadata": {},
   "outputs": [],
   "source": [
    "# 数値のソート\n",
    "numbers = [3, 1, 4, 1, 5, 9, 2]\n",
    "numbers.sort()  # 昇順に並び替え\n",
    "print(numbers)  # [1, 1, 2, 3, 4, 5, 9]\n",
    "\n",
    "numbers.sort(reverse=True)  # 降順に並び替え\n",
    "print(numbers)  # [9, 5, 4, 3, 2, 1, 1]\n",
    "\n",
    "# 文字列のソート\n",
    "names = [\"田中\", \"山田\", \"佐藤\", \"鈴木\"]\n",
    "names.sort()  # 50音順に並び替え\n",
    "print(names)  # ['佐藤', '鈴木', '田中', '山田']"
   ]
  },
  {
   "cell_type": "markdown",
   "metadata": {},
   "source": [
    "reverse() で順序を反転"
   ]
  },
  {
   "cell_type": "code",
   "execution_count": null,
   "metadata": {},
   "outputs": [],
   "source": [
    "foods = [\"カレー\", \"ラーメン\", \"寿司\"]\n",
    "foods.reverse()\n",
    "print(foods)  # ['寿司', 'ラーメン', 'カレー']"
   ]
  },
  {
   "cell_type": "markdown",
   "metadata": {},
   "source": [
    "count() で要素の数を数える"
   ]
  },
  {
   "cell_type": "code",
   "execution_count": null,
   "metadata": {},
   "outputs": [],
   "source": [
    "numbers = [1, 2, 3, 2, 1, 2, 4, 5]\n",
    "count_2 = numbers.count(2)\n",
    "print(f\"2 の出現回数: {count_2}\")  # 3\n",
    "\n",
    "# 文字列でも使える\n",
    "fruits = [\"りんご\", \"バナナ\", \"りんご\", \"オレンジ\", \"りんご\"]\n",
    "count_apple = fruits.count(\"りんご\")\n",
    "print(f\"りんごの数: {count_apple}\")  # 3"
   ]
  },
  {
   "cell_type": "markdown",
   "metadata": {},
   "source": [
    "生徒の情報を辞書で管理"
   ]
  },
  {
   "cell_type": "code",
   "execution_count": null,
   "metadata": {},
   "outputs": [],
   "source": [
    "student = {\n",
    "    \"name\": \"山田太郎\",  # キー: \"name\", 値: \"山田太郎\"\n",
    "    \"age\": 16,  # キー: \"age\", 値: 16\n",
    "    \"grade\": 2,  # キー: \"grade\", 値: 2\n",
    "    \"class\": \"A\",  # キー: \"class\", 値: \"A\"\n",
    "}\n",
    "\n",
    "# 空の辞書を作る\n",
    "my_dict = {}"
   ]
  },
  {
   "cell_type": "markdown",
   "metadata": {},
   "source": [
    "辞書の値を取り出す"
   ]
  },
  {
   "cell_type": "code",
   "execution_count": null,
   "metadata": {},
   "outputs": [],
   "source": [
    "student = {\"name\": \"山田太郎\", \"age\": 16, \"grade\": 2, \"class\": \"A\"}\n",
    "\n",
    "# [ ] を使って取り出す\n",
    "print(student[\"name\"])  # 山田太郎\n",
    "print(student[\"age\"])  # 16\n",
    "\n",
    "# get() を使って安全に取り出す\n",
    "print(student.get(\"name\"))  # 山田太郎\n",
    "print(student.get(\"height\"))  # None （キーが存在しない場合）\n",
    "print(student.get(\"height\", 0))  # 0 （デフォルト値を指定）"
   ]
  },
  {
   "cell_type": "markdown",
   "metadata": {},
   "source": [
    "キーと値の取得"
   ]
  },
  {
   "cell_type": "code",
   "execution_count": null,
   "metadata": {},
   "outputs": [],
   "source": [
    "student = {\"name\": \"山田太郎\", \"age\": 16, \"grade\": 2, \"class\": \"A\"}\n",
    "\n",
    "# キーの一覧を取得\n",
    "keys = student.keys()\n",
    "print(list(keys))  # ['name', 'age', 'grade', 'class']\n",
    "\n",
    "# 値の一覧を取得\n",
    "values = student.values()\n",
    "print(list(values))  # ['山田太郎', 16, 2, 'A']\n",
    "\n",
    "# キーと値のペアを取得\n",
    "items = student.items()\n",
    "for key, value in items:\n",
    "    print(f\"{key}: {value}\")"
   ]
  }
 ],
 "metadata": {
  "language_info": {
   "name": "python"
  }
 },
 "nbformat": 4,
 "nbformat_minor": 2
}
