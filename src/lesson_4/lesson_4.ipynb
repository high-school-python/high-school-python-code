{
 "cells": [
  {
   "cell_type": "markdown",
   "metadata": {},
   "source": [
    "単純な繰り返し"
   ]
  },
  {
   "cell_type": "code",
   "execution_count": null,
   "metadata": {},
   "outputs": [],
   "source": [
    "for i in range(5):\n",
    "    print(\"こんにちは\")\n",
    "\n",
    "# 実行結果\n",
    "# こんにちは\n",
    "# こんにちは\n",
    "# こんにちは\n",
    "# こんにちは\n",
    "# こんにちは"
   ]
  },
  {
   "cell_type": "markdown",
   "metadata": {},
   "source": [
    "繰り返しの番号を使う"
   ]
  },
  {
   "cell_type": "code",
   "execution_count": null,
   "metadata": {},
   "outputs": [],
   "source": [
    "for i in range(3):\n",
    "    print(f\"{i + 1}回目：こんにちは\")\n",
    "\n",
    "# 実行結果\n",
    "# 1回目：こんにちは\n",
    "# 2回目：こんにちは\n",
    "# 3回目：こんにちは"
   ]
  },
  {
   "cell_type": "markdown",
   "metadata": {},
   "source": [
    "文字列の一文字ずつ処理"
   ]
  },
  {
   "cell_type": "code",
   "execution_count": null,
   "metadata": {},
   "outputs": [],
   "source": [
    "# 文字列の各文字を表示\n",
    "word = \"Python\"\n",
    "for char in word:\n",
    "    print(char)\n",
    "\n",
    "# 実行結果\n",
    "# P\n",
    "# y\n",
    "# t\n",
    "# h\n",
    "# o\n",
    "# n"
   ]
  },
  {
   "cell_type": "markdown",
   "metadata": {},
   "source": [
    "数値の範囲を指定する"
   ]
  },
  {
   "cell_type": "code",
   "execution_count": null,
   "metadata": {},
   "outputs": [],
   "source": [
    "# 1 から 5 までを表示\n",
    "for i in range(1, 6):\n",
    "    print(f\"数字：{i}\")\n",
    "\n",
    "# 2 ずつ増やす\n",
    "for i in range(0, 10, 2):\n",
    "    print(f\"偶数：{i}\")"
   ]
  },
  {
   "cell_type": "markdown",
   "metadata": {},
   "source": [
    "合計値を計算する"
   ]
  },
  {
   "cell_type": "code",
   "execution_count": null,
   "metadata": {},
   "outputs": [],
   "source": [
    "# 1 から 10 までの合計値を計算\n",
    "total = 0\n",
    "for i in range(1, 11):\n",
    "    total = total + i\n",
    "print(f\"合計：{total}\")  # 55\n",
    "\n",
    "# テストの平均点を計算\n",
    "scores = [85, 92, 78, 90, 88]\n",
    "sum = 0\n",
    "for score in scores:\n",
    "    sum = sum + score\n",
    "average = sum / len(scores)\n",
    "print(f\"平均点：{average}\")"
   ]
  },
  {
   "cell_type": "markdown",
   "metadata": {},
   "source": [
    "range(stop) の使い方"
   ]
  },
  {
   "cell_type": "code",
   "execution_count": null,
   "metadata": {},
   "outputs": [],
   "source": [
    "print(\"5 回繰り返し:\")\n",
    "\n",
    "for i in range(5):\n",
    "    print(i)\n",
    "\n",
    "# 5 回繰り返し:\n",
    "# 0\n",
    "# 1\n",
    "# 2\n",
    "# 3\n",
    "# 4"
   ]
  },
  {
   "cell_type": "markdown",
   "metadata": {},
   "source": [
    "range(start, stop) の使い方"
   ]
  },
  {
   "cell_type": "code",
   "execution_count": null,
   "metadata": {},
   "outputs": [],
   "source": [
    "print(\"1 から 5 まで表示:\")\n",
    "\n",
    "for i in range(1, 6):\n",
    "    print(i)\n",
    "\n",
    "# 1 から 5 まで表示:\n",
    "# 1\n",
    "# 2\n",
    "# 3\n",
    "# 4\n",
    "# 5"
   ]
  },
  {
   "cell_type": "markdown",
   "metadata": {},
   "source": [
    "range(start, stop, step) の使い方"
   ]
  },
  {
   "cell_type": "code",
   "execution_count": null,
   "metadata": {},
   "outputs": [],
   "source": [
    "# 0 から 8 まで 2 ずつ増やす\n",
    "print(\"偶数の表示:\")\n",
    "\n",
    "for i in range(0, 10, 2):\n",
    "    print(i)\n",
    "\n",
    "# 偶数の表示:\n",
    "# 0\n",
    "# 2\n",
    "# 4\n",
    "# 6\n",
    "# 8"
   ]
  },
  {
   "cell_type": "markdown",
   "metadata": {},
   "source": [
    "逆順に使う"
   ]
  },
  {
   "cell_type": "code",
   "execution_count": null,
   "metadata": {},
   "outputs": [],
   "source": [
    "# 5 から 1 まで表示\n",
    "for i in range(5, 0, -1):\n",
    "    print(i)\n",
    "\n",
    "# 5 から 1 まで表示:\n",
    "# 5\n",
    "# 4\n",
    "# 3\n",
    "# 2\n",
    "# 1"
   ]
  },
  {
   "cell_type": "markdown",
   "metadata": {},
   "source": [
    "カウントダウンタイマー"
   ]
  },
  {
   "cell_type": "code",
   "execution_count": null,
   "metadata": {},
   "outputs": [],
   "source": [
    "# カウントダウンタイマー\n",
    "count = 5\n",
    "\n",
    "while count > 0:\n",
    "    print(count)\n",
    "    count = count - 1\n",
    "\n",
    "print(\"時間切れ！\")\n",
    "\n",
    "# 実行結果\n",
    "# 5\n",
    "# 4\n",
    "# 3\n",
    "# 2\n",
    "# 1\n",
    "# 時間切れ！"
   ]
  },
  {
   "cell_type": "markdown",
   "metadata": {},
   "source": [
    "パスワード入力"
   ]
  },
  {
   "cell_type": "code",
   "execution_count": null,
   "metadata": {},
   "outputs": [],
   "source": [
    "# 正しいパスワードが入力されるまで繰り返す\n",
    "password = \"\"\n",
    "attempts = 0  # 試行回数\n",
    "\n",
    "while password != \"secret\":\n",
    "    attempts += 1\n",
    "    password = input(f\"パスワードを入力してください（{attempts}回目）：\")\n",
    "\n",
    "    if attempts >= 3:  # 3回まで\n",
    "        print(\"回数の上限を超えました\")\n",
    "        break\n",
    "\n",
    "if password == \"secret\":\n",
    "    print(\"ログイン成功！\")"
   ]
  },
  {
   "cell_type": "markdown",
   "metadata": {},
   "source": [
    "数当てゲーム"
   ]
  },
  {
   "cell_type": "code",
   "execution_count": null,
   "metadata": {},
   "outputs": [],
   "source": [
    "import random\n",
    "\n",
    "# 1 から 100 までのランダムな数を当てるゲーム\n",
    "target = random.randint(1, 100)\n",
    "guess = 0\n",
    "tries = 0\n",
    "\n",
    "print(\"1 から 100 までの数を当ててください\")\n",
    "\n",
    "while guess != target:\n",
    "    tries += 1\n",
    "    guess = int(input(f\"{tries}回目の予想：\"))\n",
    "\n",
    "    if guess > target:\n",
    "        print(\"もっと小さい数です\")\n",
    "    elif guess < target:\n",
    "        print(\"もっと大きい数です\")\n",
    "\n",
    "print(f\"正解！{tries}回で当てました！\")\n"
   ]
  },
  {
   "cell_type": "markdown",
   "metadata": {},
   "source": [
    "合計値の計算"
   ]
  },
  {
   "cell_type": "code",
   "execution_count": null,
   "metadata": {},
   "outputs": [],
   "source": [
    "# 合計が 100 を超えるまで数を足していく\n",
    "total = 0\n",
    "count = 0\n",
    "\n",
    "while total <= 100:\n",
    "    count += 1\n",
    "    total += count\n",
    "    print(f\"現在の合計: {total}\")\n",
    "\n",
    "print(f\"{count}回で合計が{total}になりました\")"
   ]
  },
  {
   "cell_type": "markdown",
   "metadata": {},
   "source": [
    "無限ループの例"
   ]
  },
  {
   "cell_type": "code",
   "execution_count": null,
   "metadata": {},
   "outputs": [],
   "source": [
    "# 無限ループの例 (実行しないでください！)\n",
    "count = 1\n",
    "while count > 0:\n",
    "    print(count)  # count が減らないので永遠に続く\n",
    "\n",
    "# 正しい例\n",
    "count = 1\n",
    "while count > 0:\n",
    "    print(count)\n",
    "    # count を減らして必ず終わるようにする\n",
    "    count -= 1"
   ]
  },
  {
   "cell_type": "markdown",
   "metadata": {},
   "source": [
    "yes, no で終了を制御"
   ]
  },
  {
   "cell_type": "code",
   "execution_count": null,
   "metadata": {},
   "outputs": [],
   "source": [
    "while True:\n",
    "    answer = input(\"続けますか？(y/n):\")\n",
    "\n",
    "    if answer == \"n\":\n",
    "        print(\"終了します\")\n",
    "        break\n",
    "\n",
    "    print(\"続けます\")\n",
    "\n",
    "print(\"プログラムを終了しました\")"
   ]
  },
  {
   "cell_type": "markdown",
   "metadata": {},
   "source": [
    "数当てゲームの例"
   ]
  },
  {
   "cell_type": "code",
   "execution_count": null,
   "metadata": {},
   "outputs": [],
   "source": [
    "\n",
    "target = 7\n",
    "\n",
    "for i in range(5):\n",
    "    guess = int(input(f\"1 から 10 の数を当ててください（残り {5 - i} 回）：\"))\n",
    "\n",
    "    if guess == target:\n",
    "        print(\"正解！おめでとう！\")\n",
    "        break\n",
    "\n",
    "    print(\"違います\")\n",
    "\n",
    "else:  # for ループが正常に （break されずに） 終了した場合\n",
    "    print(\"ゲームオーバー\")\n",
    "\n",
    "\n",
    "# while 文でも同様に else が使えます\n",
    "count = 5\n",
    "while count > 0:\n",
    "    guess = int(input(f\"1 から 10 の数を当ててください（残り {count} 回）：\"))\n",
    "    count -= 1\n",
    "\n",
    "    if guess == target:\n",
    "        print(\"正解！おめでとう！\")\n",
    "        break\n",
    "\n",
    "    print(\"違います\")\n",
    "\n",
    "else:  # while ループが正常に （break されずに） 終了した場合\n",
    "    print(\"ゲームオーバー\")"
   ]
  },
  {
   "cell_type": "markdown",
   "metadata": {},
   "source": [
    "3 の倍数をスキップする"
   ]
  },
  {
   "cell_type": "code",
   "execution_count": null,
   "metadata": {},
   "outputs": [],
   "source": [
    "for i in range(1, 6):\n",
    "    if i % 3 == 0:\n",
    "        print(f\"{i} はスキップします\")\n",
    "        continue\n",
    "\n",
    "    print(f\"数字: {i}\")\n",
    "\n",
    "# 実行結果\n",
    "# 数字: 1\n",
    "# 数字: 2\n",
    "# 3 はスキップします\n",
    "# 数字: 4\n",
    "# 数字: 5"
   ]
  },
  {
   "cell_type": "markdown",
   "metadata": {},
   "source": [
    "正しい点数が入力されるまで繰り返す"
   ]
  },
  {
   "cell_type": "code",
   "execution_count": null,
   "metadata": {},
   "outputs": [],
   "source": [
    "while True:\n",
    "    score = int(input(\"テストの点数を入力してください (0 〜 100):\"))\n",
    "\n",
    "    # 範囲外の値はスキップ\n",
    "    if score < 0 or score > 100:\n",
    "        print(\"0 から 100 の間で入力してください\")\n",
    "        # continue で次回のループに移動\n",
    "        continue\n",
    "\n",
    "    # 正しい値が入力された\n",
    "    print(f\"入力された点数：{score}\")\n",
    "    break"
   ]
  },
  {
   "cell_type": "markdown",
   "metadata": {},
   "source": [
    "テストの点数の計算"
   ]
  },
  {
   "cell_type": "code",
   "execution_count": null,
   "metadata": {},
   "outputs": [],
   "source": [
    "# 5 教科の点数\n",
    "scores = [85, 92, 78, 90, 88]\n",
    "\n",
    "# 合計点を計算\n",
    "total = 0\n",
    "for score in scores:\n",
    "    total += score\n",
    "\n",
    "# 平均点を計算\n",
    "# len 関数は、 str 型の場合は文字数でしたが、 list 型の場合は要素数です\n",
    "average = total / len(scores)\n",
    "\n",
    "print(f\"点数：{scores}\")\n",
    "print(f\"合計：{total}\")\n",
    "print(f\"平均：{average}\")\n",
    "\n",
    "# 合格した教科の数を数える （80 点以上）\n",
    "pass_count = 0\n",
    "\n",
    "for score in scores:\n",
    "    if score >= 80:\n",
    "        pass_count += 1\n",
    "\n",
    "print(f\"合格した教科：{pass_count}教科\")"
   ]
  },
  {
   "cell_type": "markdown",
   "metadata": {},
   "source": [
    "名前の検索"
   ]
  },
  {
   "cell_type": "code",
   "execution_count": null,
   "metadata": {},
   "outputs": [],
   "source": [
    "names = [\"山田\", \"田中\", \"佐藤\", \"鈴木\", \"高橋\"]\n",
    "\n",
    "# 「田中」 さんを探す\n",
    "for name in names:\n",
    "    if name == \"田中\":\n",
    "        print(\"田中さんが見つかりました！\")\n",
    "        break\n",
    "else:\n",
    "    print(\"田中さんは見つかりませんでした\")\n",
    "\n",
    "# 「山」 のつく名前を探す\n",
    "print(\"\\n「山」のつく名前：\")\n",
    "for name in names:\n",
    "    if \"山\" in name:\n",
    "        print(name)"
   ]
  },
  {
   "cell_type": "markdown",
   "metadata": {},
   "source": [
    "二重ループの例"
   ]
  },
  {
   "cell_type": "code",
   "execution_count": null,
   "metadata": {},
   "outputs": [],
   "source": [
    "for i in range(3):  # 外側: 3 回\n",
    "    for j in range(2):  # 内側: 2 回\n",
    "        print(f\"i={i}, j={j}\")\n",
    "\n",
    "# 実行結果\n",
    "# i=0, j=0\n",
    "# i=0, j=1\n",
    "# i=1, j=0\n",
    "# i=1, j=1\n",
    "# i=2, j=0\n",
    "# i=2, j=1"
   ]
  },
  {
   "cell_type": "markdown",
   "metadata": {},
   "source": [
    "掛け算表"
   ]
  },
  {
   "cell_type": "code",
   "execution_count": null,
   "metadata": {},
   "outputs": [],
   "source": [
    "for i in range(1, 4):  # 外側のループ（行）\n",
    "    for j in range(1, 4):  # 内側のループ（列）\n",
    "        # end=\" \" を指定することで、改行する代わりにスペースを入れます\n",
    "        print(f\"{i}×{j}={i * j}\", end=\" \")\n",
    "\n",
    "    # 行の終わりで改行\n",
    "    print()\n",
    "\n",
    "# 実行結果\n",
    "# 1×1=1 1×2=2 1×3=3\n",
    "# 2×1=2 2×2=4 2×3=6\n",
    "# 3×1=3 3×2=6 3×3=9"
   ]
  },
  {
   "cell_type": "markdown",
   "metadata": {},
   "source": [
    "星のピラミッド"
   ]
  },
  {
   "cell_type": "code",
   "execution_count": null,
   "metadata": {},
   "outputs": [],
   "source": [
    "for i in range(1, 6):  # 行数を制御\n",
    "    for j in range(i):  # 各行の ★ の数を制御\n",
    "        print(\"★\", end=\"\")\n",
    "\n",
    "    # 行の終わりで改行\n",
    "    print()\n",
    "\n",
    "# 実行結果\n",
    "# ★\n",
    "# ★★\n",
    "# ★★★\n",
    "# ★★★★\n",
    "# ★★★★★\n"
   ]
  },
  {
   "cell_type": "markdown",
   "metadata": {},
   "source": [
    "座席表の作成"
   ]
  },
  {
   "cell_type": "code",
   "execution_count": null,
   "metadata": {},
   "outputs": [],
   "source": [
    "# トレイリングカンマを付けています\n",
    "seats = [\n",
    "    [\"山田\", \"田中\", \"佐藤\"],\n",
    "    [\"鈴木\", \"高橋\", \"伊藤\"],\n",
    "    [\"渡辺\", \"山本\", \"中村\"],\n",
    "]\n",
    "\n",
    "print(\"=== 座席表 ===\")\n",
    "\n",
    "for i in range(len(seats)):\n",
    "    print(f\"列{i + 1}:\", end=\" \")\n",
    "\n",
    "    for j in range(len(seats[i])):\n",
    "        print(f\"{seats[i][j]}\", end=\" \")\n",
    "\n",
    "    # 改行\n",
    "    print()\n",
    "\n",
    "# 実行結果\n",
    "# === 座席表 ===\n",
    "# 列1: 山田 田中 佐藤\n",
    "# 列2: 鈴木 高橋 伊藤\n",
    "# 列3: 渡辺 山本 中村"
   ]
  },
  {
   "cell_type": "markdown",
   "metadata": {},
   "source": [
    "市松模様を描く"
   ]
  },
  {
   "cell_type": "code",
   "execution_count": null,
   "metadata": {},
   "outputs": [],
   "source": [
    "size = 5\n",
    "\n",
    "# 偶数なら ■, 奇数なら □ を描く\n",
    "for i in range(size):\n",
    "    for j in range(size):\n",
    "        if (i + j) % 2 == 0:\n",
    "            print(\"■\", end=\"\")\n",
    "        else:\n",
    "            print(\"□\", end=\"\")\n",
    "\n",
    "    # 改行\n",
    "    print()\n",
    "\n",
    "# 実行結果\n",
    "# ■□■□■\n",
    "# □■□■□\n",
    "# ■□■□■\n",
    "# □■□■□\n",
    "# ■□■□■"
   ]
  },
  {
   "cell_type": "markdown",
   "metadata": {},
   "source": [
    "無限ループの例"
   ]
  },
  {
   "cell_type": "code",
   "execution_count": null,
   "metadata": {},
   "outputs": [],
   "source": [
    "count = 1\n",
    "\n",
    "# count が 0 より大きい間はループが続く\n",
    "while count > 0:\n",
    "    print(count)\n",
    "    # count が増え続けるので永遠に終わらない\n",
    "    count += 1"
   ]
  },
  {
   "cell_type": "markdown",
   "metadata": {},
   "source": [
    "安全な例（proper な終了条件）"
   ]
  },
  {
   "cell_type": "code",
   "execution_count": null,
   "metadata": {},
   "outputs": [],
   "source": [
    "count = 1\n",
    "\n",
    "# count が 5 まで増えたら終了\n",
    "while count <= 5:\n",
    "    print(count)\n",
    "    count += 1\n",
    "\n",
    "print(\"ループが正常に終了しました\")"
   ]
  },
  {
   "cell_type": "markdown",
   "metadata": {},
   "source": [
    "条件の間違い: 間違った例"
   ]
  },
  {
   "cell_type": "code",
   "execution_count": null,
   "metadata": {},
   "outputs": [],
   "source": [
    "total = 0\n",
    "\n",
    "while total < 100:\n",
    "    print(total)\n",
    "    # マイナスになり続けて終わらない\n",
    "    total -= 10"
   ]
  },
  {
   "cell_type": "markdown",
   "metadata": {},
   "source": [
    "条件の間違い: 正しい例"
   ]
  },
  {
   "cell_type": "code",
   "execution_count": null,
   "metadata": {},
   "outputs": [],
   "source": [
    "total = 0\n",
    "\n",
    "while total < 100:\n",
    "    print(total)\n",
    "    # 100 に近づく\n",
    "    total += 10"
   ]
  },
  {
   "cell_type": "markdown",
   "metadata": {},
   "source": [
    "条件の更新忘れ: 間違った例"
   ]
  },
  {
   "cell_type": "code",
   "execution_count": null,
   "metadata": {},
   "outputs": [],
   "source": [
    "answer = \"\"\n",
    "\n",
    "while answer != \"exit\":\n",
    "    print(\"現在実行中...\")\n",
    "    # answer の値を更新し忘れている"
   ]
  },
  {
   "cell_type": "markdown",
   "metadata": {},
   "source": [
    "条件の更新忘れ: 正しい例"
   ]
  },
  {
   "cell_type": "code",
   "execution_count": null,
   "metadata": {},
   "outputs": [],
   "source": [
    "answer = \"\"\n",
    "while answer != \"exit\":\n",
    "    print(\"現在実行中...\")\n",
    "    answer = input(\"終了するには'exit'と入力：\")"
   ]
  },
  {
   "cell_type": "markdown",
   "metadata": {},
   "source": [
    "メニュー選択プログラム"
   ]
  },
  {
   "cell_type": "code",
   "execution_count": null,
   "metadata": {},
   "outputs": [],
   "source": [
    "while True:\n",
    "    print(\"\\n=== メニュー ===\")\n",
    "    print(\"1: 新規作成\")\n",
    "    print(\"2: 編集\")\n",
    "    print(\"3: 終了\")\n",
    "\n",
    "    choice = input(\"選択してください：\")\n",
    "\n",
    "    if choice == \"1\":\n",
    "        print(\"新規作成します\")\n",
    "    elif choice == \"2\":\n",
    "        print(\"編集を開始します\")\n",
    "    elif choice == \"3\":\n",
    "        print(\"プログラムを終了します\")\n",
    "        break  # ここで適切に終了\n",
    "    else:\n",
    "        print(\"正しい選択肢を入力してください\")"
   ]
  },
  {
   "cell_type": "markdown",
   "metadata": {},
   "source": [
    "最大試行回数付きのパスワード入力"
   ]
  },
  {
   "cell_type": "code",
   "execution_count": null,
   "metadata": {},
   "outputs": [],
   "source": [
    "max_attempts = 3\n",
    "attempts = 0\n",
    "password = \"\"\n",
    "\n",
    "while attempts < max_attempts:\n",
    "    password = input(\"パスワードを入力：\")\n",
    "    attempts += 1\n",
    "\n",
    "    if password == \"secret\":\n",
    "        print(\"ログイン成功！\")\n",
    "        break\n",
    "\n",
    "    remaining = max_attempts - attempts\n",
    "    print(f\"パスワードが違います。残り{remaining}回\")\n",
    "\n",
    "if attempts >= max_attempts:\n",
    "    print(\"ログインに失敗しました\")"
   ]
  },
  {
   "cell_type": "markdown",
   "metadata": {},
   "source": [
    "タイムアウトの設定"
   ]
  },
  {
   "cell_type": "code",
   "execution_count": null,
   "metadata": {},
   "outputs": [],
   "source": [
    "import time\n",
    "\n",
    "\n",
    "start_time = time.time()\n",
    "# 10 秒でタイムアウト\n",
    "timeout = 10\n",
    "\n",
    "while True:\n",
    "    current_time = time.time()\n",
    "    if current_time - start_time > timeout:\n",
    "        print(\"タイムアウトしました\")\n",
    "        break\n",
    "\n",
    "    # 何らかの処理\n",
    "    print(\"処理中...\")\n",
    "    # 1 秒待機\n",
    "    time.sleep(1)"
   ]
  },
  {
   "cell_type": "markdown",
   "metadata": {},
   "source": [
    "1 から 100 までの合計を求めるプログラム"
   ]
  },
  {
   "cell_type": "code",
   "execution_count": null,
   "metadata": {},
   "outputs": [],
   "source": [
    "# 方法 1: for ループを使う\n",
    "total = 0\n",
    "for i in range(1, 101):\n",
    "    total += i\n",
    "print(f\"1から100までの合計：{total}\")\n",
    "\n",
    "# 方法 2: while ループを使う\n",
    "total = 0\n",
    "num = 1\n",
    "while num <= 100:\n",
    "    total += num\n",
    "    num += 1\n",
    "print(f\"1から100までの合計：{total}\")"
   ]
  },
  {
   "cell_type": "markdown",
   "metadata": {},
   "source": [
    "1 から 10 までの数字で掛け算表を表示するプログラム"
   ]
  },
  {
   "cell_type": "code",
   "execution_count": null,
   "metadata": {},
   "outputs": [],
   "source": [
    "# 見やすい九九表を作成\n",
    "print(\"     \", end=\"\")\n",
    "for i in range(1, 11):\n",
    "    print(f\"{i:4}\", end=\"\")\n",
    "print(\"\\n\" + \"-\" * 50)\n",
    "\n",
    "for i in range(1, 11):\n",
    "    print(f\"{i:2}  |\", end=\"\")\n",
    "    for j in range(1, 11):\n",
    "        print(f\"{i * j:4}\", end=\"\")\n",
    "    print()  # 改行\n",
    "\n",
    "\"\"\"\n",
    "出力例：\n",
    "     1   2   3   4   5   6   7   8   9  10\n",
    "--------------------------------------------------\n",
    "1  |   1   2   3   4   5   6   7   8   9  10\n",
    "2  |   2   4   6   8  10  12  14  16  18  20\n",
    "...\n",
    "\"\"\""
   ]
  }
 ],
 "metadata": {
  "language_info": {
   "name": "python"
  }
 },
 "nbformat": 4,
 "nbformat_minor": 2
}
