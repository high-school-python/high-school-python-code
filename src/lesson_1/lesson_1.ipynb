{
 "cells": [
  {
   "cell_type": "markdown",
   "metadata": {},
   "source": [
    "print 関数の基本的な使い方"
   ]
  },
  {
   "cell_type": "code",
   "execution_count": null,
   "metadata": {},
   "outputs": [],
   "source": [
    "print(\"Hello, World!\")  # 文字列を表示 - Hello, World!\n",
    "print(42)  # 数値を表示 - 42\n",
    "print(\"私は\", 16, \"歳です\")  # 複数の値を表示 - 私は 16 歳です"
   ]
  },
  {
   "cell_type": "markdown",
   "metadata": {},
   "source": [
    "文字列の表示の例"
   ]
  },
  {
   "cell_type": "code",
   "execution_count": null,
   "metadata": {},
   "outputs": [],
   "source": [
    "print(\"こんにちは\")  # こんにちは\n",
    "print(\"Hello\")  # Hello"
   ]
  },
  {
   "cell_type": "markdown",
   "metadata": {},
   "source": [
    "数値の表示の例"
   ]
  },
  {
   "cell_type": "code",
   "execution_count": null,
   "metadata": {},
   "outputs": [],
   "source": [
    "print(42)  # 42\n",
    "print(3 + 5)  # 8"
   ]
  },
  {
   "cell_type": "markdown",
   "metadata": {},
   "source": [
    "複数の値を表示する例"
   ]
  },
  {
   "cell_type": "code",
   "execution_count": null,
   "metadata": {},
   "outputs": [],
   "source": [
    "print(\"私の名前は\", \"太郎\", \"です\")  # 私の名前は 太郎 です\n",
    "print(\"計算結果:\", 3 * 4)  # 計算結果: 12"
   ]
  },
  {
   "cell_type": "markdown",
   "metadata": {},
   "source": [
    "四則演算の基本的な使い方"
   ]
  },
  {
   "cell_type": "code",
   "execution_count": null,
   "metadata": {},
   "outputs": [],
   "source": [
    "# 足し算\n",
    "print(5 + 3)  # 8\n",
    "\n",
    "# 引き算\n",
    "print(5 - 3)  # 2\n",
    "\n",
    "# 掛け算\n",
    "print(5 * 3)  # 15\n",
    "\n",
    "# 割り算\n",
    "print(5 / 3)  # 1.6666..."
   ]
  },
  {
   "cell_type": "markdown",
   "metadata": {},
   "source": [
    "他の色々な計算"
   ]
  },
  {
   "cell_type": "code",
   "execution_count": null,
   "metadata": {},
   "outputs": [],
   "source": [
    "# べき乗 （累乗）\n",
    "print(2**3)  # 2 の 3 乗 = 8\n",
    "\n",
    "# 余りを求める （剰余演算）\n",
    "print(7 % 3)  # 7 ÷ 3 の余り = 1\n",
    "\n",
    "# 整数の商を求める （切り捨て除算）\n",
    "print(7 // 3)  # 7 ÷ 3 の商 = 2"
   ]
  },
  {
   "cell_type": "markdown",
   "metadata": {},
   "source": [
    "計算の優先順位の例"
   ]
  },
  {
   "cell_type": "code",
   "execution_count": null,
   "metadata": {},
   "outputs": [],
   "source": [
    "print(2 + 3 * 4)  # 14 (3 * 4 が先)\n",
    "print((2 + 3) * 4)  # 20 (2 + 3 が先)"
   ]
  },
  {
   "cell_type": "markdown",
   "metadata": {},
   "source": [
    "よくある計算例"
   ]
  },
  {
   "cell_type": "code",
   "execution_count": null,
   "metadata": {},
   "outputs": [],
   "source": [
    "# 平均値を求める\n",
    "print((80 + 95 + 90) / 3)  # 88.33...\n",
    "\n",
    "# 消費税を計算する （10%）\n",
    "print(1000 * 0.1)  # 100\n",
    "\n",
    "# 割引後の価格を計算する （20% オフ）\n",
    "print(1000 * 0.8)  # 800"
   ]
  },
  {
   "cell_type": "markdown",
   "metadata": {},
   "source": [
    "1 行コメントの例"
   ]
  },
  {
   "cell_type": "code",
   "execution_count": null,
   "metadata": {},
   "outputs": [],
   "source": [
    "# これは 1 行コメントです\n",
    "\n",
    "print(\"Hello\")  # 行の右側にも書けます"
   ]
  },
  {
   "cell_type": "markdown",
   "metadata": {},
   "source": [
    "複数行コメントの例"
   ]
  },
  {
   "cell_type": "code",
   "execution_count": null,
   "metadata": {},
   "outputs": [],
   "source": [
    "\"\"\"\n",
    "これは\n",
    "複数行の\n",
    "コメントです\n",
    "\"\"\"\n",
    "\n",
    "\"\"\"\n",
    "これも\n",
    "複数行の\n",
    "コメントです\n",
    "\"\"\""
   ]
  },
  {
   "cell_type": "markdown",
   "metadata": {},
   "source": [
    "目的を説明する例"
   ]
  },
  {
   "cell_type": "code",
   "execution_count": null,
   "metadata": {},
   "outputs": [],
   "source": [
    "# 5 教科の試験の平均点を計算する\n",
    "# 数学 (80点), 英語 (90点), 国語 (85点), 理科 (92点), 社会 (88点)\n",
    "score = (80 + 90 + 85 + 92 + 88) / 5\n",
    "print(f\"5教科の平均点: {score}点\")"
   ]
  },
  {
   "cell_type": "markdown",
   "metadata": {},
   "source": [
    "難しい処理の説明"
   ]
  },
  {
   "cell_type": "code",
   "execution_count": null,
   "metadata": {},
   "outputs": [],
   "source": [
    "# 商品の合計金額を計算\n",
    "# 1. 本体価格に消費税 10% を加算\n",
    "# 2. 1000 円以上で 5% 割引を適用\n",
    "price = 1200  # 本体価格\n",
    "tax = price * 0.1  # 消費税の計算\n",
    "subtotal = price + tax  # 税込価格\n",
    "\n",
    "# 1000 円以上なら 5% 割引を適用\n",
    "if subtotal >= 1000:\n",
    "    discount = subtotal * 0.05\n",
    "    total = subtotal - discount"
   ]
  },
  {
   "cell_type": "markdown",
   "metadata": {},
   "source": [
    "TODO の例"
   ]
  },
  {
   "cell_type": "code",
   "execution_count": null,
   "metadata": {},
   "outputs": [],
   "source": [
    "# TODO: 後でエラー処理を追加する\n",
    "# - 負の数値のチェック\n",
    "# - 100 点を超える値のチェック\n",
    "# - 数値以外が入力された場合の処理\n",
    "score = int(input(\"点数を入力: \"))\n",
    "print(f\"入力された点数: {score}点\")"
   ]
  },
  {
   "cell_type": "markdown",
   "metadata": {},
   "source": [
    "警告や注意点の例"
   ]
  },
  {
   "cell_type": "code",
   "execution_count": null,
   "metadata": {},
   "outputs": [],
   "source": [
    "# NOTE: この API キーは開発環境専用です\n",
    "# 本番環境では、セキュリティの観点から、環境変数から読み込むこと！\n",
    "API_KEY = \"dev_1234567890\""
   ]
  },
  {
   "cell_type": "markdown",
   "metadata": {},
   "source": [
    "当たり前のことはコメントしない"
   ]
  },
  {
   "cell_type": "code",
   "execution_count": null,
   "metadata": {},
   "outputs": [],
   "source": [
    "x = 10  # x に 10 を代入\n",
    "x = x + 1  # x に 1 を足す"
   ]
  },
  {
   "cell_type": "markdown",
   "metadata": {},
   "source": [
    "コードの内容と矛盾するコメントの例"
   ]
  },
  {
   "cell_type": "code",
   "execution_count": null,
   "metadata": {},
   "outputs": [],
   "source": [
    "# 悪い例\n",
    "# 税率 8% で計算\n",
    "tax_rate = 0.1  # 実際は 10% で計算している\n",
    "\n",
    "# 良い例\n",
    "# 2023 年 10 月現在の税率 (10%) で計算\n",
    "tax_rate = 0.1"
   ]
  },
  {
   "cell_type": "markdown",
   "metadata": {},
   "source": [
    "コメントよりもコードの改善を優先する"
   ]
  },
  {
   "cell_type": "code",
   "execution_count": null,
   "metadata": {},
   "outputs": [],
   "source": [
    "age = 22\n",
    "\n",
    "# 悪い例\n",
    "# 年齢が 18 以上なら成人と表示する\n",
    "if age >= 18:\n",
    "    print(\"成人です\")\n",
    "\n",
    "# 良い例\n",
    "ADULT_AGE = 18\n",
    "if age >= ADULT_AGE:\n",
    "    print(\"成人です\")"
   ]
  },
  {
   "cell_type": "markdown",
   "metadata": {},
   "source": [
    "プログラムの実行順序の例"
   ]
  },
  {
   "cell_type": "code",
   "execution_count": null,
   "metadata": {},
   "outputs": [],
   "source": [
    "# 1 番目に実行\n",
    "print(\"おはよう！\")\n",
    "\n",
    "# 2 番目に実行\n",
    "print(\"今日の予定:\")\n",
    "\n",
    "# 3 番目に実行\n",
    "print(\"1. 勉強\")\n",
    "print(\"2. 部活\")\n",
    "print(\"3. 買い物\")"
   ]
  },
  {
   "cell_type": "markdown",
   "metadata": {},
   "source": [
    "エラーが起きたら停止する例"
   ]
  },
  {
   "cell_type": "code",
   "execution_count": null,
   "metadata": {},
   "outputs": [],
   "source": [
    "print(\"正常な行\")\n",
    "print(未定義の変数)  # ここでエラー\n",
    "print(\"ここは実行されない\")"
   ]
  },
  {
   "cell_type": "markdown",
   "metadata": {},
   "source": [
    "自己紹介プログラムの例"
   ]
  },
  {
   "cell_type": "code",
   "execution_count": null,
   "metadata": {},
   "outputs": [],
   "source": [
    "print(\"━━━ 自己紹介 ━━━\")\n",
    "print(\"名前：山田太郎\")\n",
    "print(\"年齢：16歳\")\n",
    "print(\"好きな教科：数学、情報\")\n",
    "print(\"趣味：バスケットボール\")"
   ]
  },
  {
   "cell_type": "markdown",
   "metadata": {},
   "source": [
    "1 日の予定を計算するプログラム"
   ]
  },
  {
   "cell_type": "code",
   "execution_count": null,
   "metadata": {},
   "outputs": [],
   "source": [
    "print(\"━━━ 1 日の予定時間 ━━━\")\n",
    "print(\"学校：\", 6, \"時間\")\n",
    "print(\"部活：\", 2, \"時間\")\n",
    "print(\"勉強：\", 3, \"時間\")\n",
    "print(\"━━━━━━━━━━━━━━━\")\n",
    "print(\"合計時間：\", 6 + 2 + 3, \"時間\")"
   ]
  }
 ],
 "metadata": {
  "language_info": {
   "name": "python"
  }
 },
 "nbformat": 4,
 "nbformat_minor": 2
}
