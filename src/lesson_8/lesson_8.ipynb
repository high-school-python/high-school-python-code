{
 "cells": [
  {
   "cell_type": "markdown",
   "metadata": {},
   "source": [
    "テストの点数データ"
   ]
  },
  {
   "cell_type": "code",
   "execution_count": null,
   "metadata": {},
   "outputs": [],
   "source": [
    "# テストの点数データ\n",
    "scores = [78, 85, 92, 67, 88, 73, 95, 82, 89, 70]\n",
    "\n",
    "# 基本的な統計値の計算\n",
    "total = sum(scores)            # 合計\n",
    "average = total / len(scores)  # 平均\n",
    "maximum = max(scores)          # 最大値\n",
    "minimum = min(scores)          # 最小値\n",
    "\n",
    "print(f\"合計点：{total}\")\n",
    "print(f\"平均点：{average:.1f}\")  # 小数点以下 1 桁まで表示\n",
    "print(f\"最高点：{maximum}\")\n",
    "print(f\"最低点：{minimum}\")"
   ]
  },
  {
   "cell_type": "markdown",
   "metadata": {},
   "source": [
    "statistics モジュールの基本"
   ]
  },
  {
   "cell_type": "code",
   "execution_count": null,
   "metadata": {},
   "outputs": [],
   "source": [
    "import statistics\n",
    "\n",
    "\n",
    "# サンプルデータ\n",
    "data = [75, 82, 91, 68, 88, 85, 77, 93, 84, 79]\n",
    "\n",
    "# 基本統計量の計算\n",
    "mean = statistics.mean(data)  # 平均値\n",
    "median = statistics.median(data)  # 中央値\n",
    "mode = statistics.mode(data)  # 最頻値 （モード） ※ 同数の場合はエラーが出ます\n",
    "range = max(data) - min(data)  # 範囲\n",
    "iqr = statistics.quantiles(data, n=4)[2] - statistics.quantiles(data, n=4)[0]  # 四分位範囲\n",
    "stdev = statistics.stdev(data)  # 標準偏差\n",
    "variance = statistics.variance(data)  # 分散\n",
    "\n",
    "print(f\"平均値: {mean:.1f}\")\n",
    "print(f\"中央値: {median}\")\n",
    "print(f\"最頻値: {mode}\")\n",
    "print(f\"範囲: {range}\")\n",
    "print(f\"四分位範囲: {iqr}\")\n",
    "print(f\"標準偏差: {stdev:.2f}\")\n",
    "print(f\"分散: {variance:.2f}\")"
   ]
  },
  {
   "cell_type": "markdown",
   "metadata": {},
   "source": [
    "テスト結果からクラスの傾向を読む"
   ]
  },
  {
   "cell_type": "code",
   "execution_count": null,
   "metadata": {},
   "outputs": [],
   "source": [
    "import statistics\n",
    "\n",
    "\n",
    "# テストの点数データ （各教科 10 人分）\n",
    "test_scores = {\n",
    "    \"国語\": [75, 82, 91, 68, 88, 85, 77, 93, 84, 79],\n",
    "    \"数学\": [82, 79, 88, 92, 75, 85, 88, 90, 78, 84],\n",
    "    \"英語\": [88, 85, 92, 78, 85, 82, 87, 95, 89, 83],\n",
    "}\n",
    "\n",
    "for subject, scores in test_scores.items():\n",
    "    # 基本統計量の計算\n",
    "    mean = statistics.mean(scores)  # 平均\n",
    "    median = statistics.median(scores)  # 中央値\n",
    "    stdev = statistics.stdev(scores)  # 標準偏差\n",
    "\n",
    "    print(f\"\\n{subject}の分析結果:\")\n",
    "    print(f\"平均点：{mean:.1f}\")\n",
    "    print(f\"中央値：{median}\")\n",
    "    print(f\"標準偏差：{stdev:.1f}\")\n",
    "    print(f\"点数分布：{min(scores)} ～ {max(scores)}\")\n"
   ]
  },
  {
   "cell_type": "markdown",
   "metadata": {},
   "source": [
    "得点の分布"
   ]
  },
  {
   "cell_type": "code",
   "execution_count": null,
   "metadata": {},
   "outputs": [],
   "source": [
    "import statistics\n",
    "\n",
    "\n",
    "# 国語のテスト結果\n",
    "japanese_scores = [75, 82, 91, 68, 88, 85, 77, 93, 84, 79]\n",
    "\n",
    "# 得点帯ごとの人数をカウント\n",
    "ranges = {\n",
    "    \"90点以上\": 0,\n",
    "    \"80-89点\": 0,\n",
    "    \"70-79点\": 0,\n",
    "    \"60-69点\": 0,\n",
    "    \"60点未満\": 0,\n",
    "}\n",
    "\n",
    "for score in japanese_scores:\n",
    "    if score >= 90:\n",
    "        ranges[\"90点以上\"] += 1\n",
    "    elif score >= 80:\n",
    "        ranges[\"80-89点\"] += 1\n",
    "    elif score >= 70:\n",
    "        ranges[\"70-79点\"] += 1\n",
    "    elif score >= 60:\n",
    "        ranges[\"60-69点\"] += 1\n",
    "    else:\n",
    "        ranges[\"60点未満\"] += 1\n",
    "\n",
    "print(\"国語の得点分布:\")\n",
    "\n",
    "for range_name, count in ranges.items():\n",
    "    percentage = count / len(japanese_scores) * 100\n",
    "    print(f\"{range_name}: {count}人 ({percentage:.1f}%)\")"
   ]
  },
  {
   "cell_type": "code",
   "execution_count": null,
   "metadata": {},
   "outputs": [],
   "source": [
    "# !pip install japanize-matplotlib"
   ]
  },
  {
   "cell_type": "code",
   "execution_count": null,
   "metadata": {},
   "outputs": [],
   "source": [
    "# matplotlib の pyplot モジュールをインポートします\n",
    "# 慣習として、 plt という名前で名前付きインポートをすることが多いです\n",
    "import matplotlib.pyplot as plt\n",
    "import japanize_matplotlib\n",
    "\n",
    "\n",
    "# 日々の気温データ\n",
    "days = list(range(1, 8))  # 1 週間分の日付 [1, 2, 3, 4, 5, 6, 7]\n",
    "temperatures = [22, 24, 23, 25, 26, 24, 23]  # 各日の気温（℃）\n",
    "\n",
    "# グラフの作成\n",
    "plt.figure(figsize=(10, 6))  # グラフのサイズ指定（幅 10 インチ、高さ 6 インチ）\n",
    "plt.plot(days, temperatures, marker=\"o\")  # 折れ線グラフの描画、各点に丸印を付ける\n",
    "\n",
    "# グラフの表示\n",
    "plt.title(\"1週間の気温変化\")  # グラフのタイトル\n",
    "plt.xlabel(\"日付\")  # x 軸のラベル\n",
    "plt.ylabel(\"気温（℃）\")  # y 軸のラベル\n",
    "plt.grid(True)  # グリッド線の表示\n",
    "plt.show()  # グラフを画面に表示\n"
   ]
  },
  {
   "cell_type": "markdown",
   "metadata": {},
   "source": [
    "タイトルと軸ラベルの詳細設定"
   ]
  },
  {
   "cell_type": "code",
   "execution_count": null,
   "metadata": {},
   "outputs": [],
   "source": [
    "import matplotlib.pyplot as plt\n",
    "import japanize_matplotlib\n",
    "\n",
    "\n",
    "# データ\n",
    "months = [\"1月\", \"2月\", \"3月\", \"4月\", \"5月\"]\n",
    "sales = [120, 150, 180, 160, 210]\n",
    "\n",
    "plt.figure(figsize=(10, 6))\n",
    "plt.plot(months, sales, marker=\"o\")\n",
    "\n",
    "# タイトルの詳細設定\n",
    "plt.title(\n",
    "    \"2024年上半期 月間販売数の推移\",\n",
    "    fontsize=16,  # フォントサイズ\n",
    "    fontweight=\"bold\",  # 太字\n",
    "    color=\"navy\",  # 色\n",
    "    pad=15,  # タイトルと図の間隔\n",
    ")\n",
    "\n",
    "# 軸ラベルの詳細設定\n",
    "plt.xlabel(\"月\", fontsize=12, labelpad=10, color=\"darkblue\")\n",
    "plt.ylabel(\"販売数（個）\", fontsize=12, labelpad=10, color=\"darkblue\")\n",
    "\n",
    "plt.show()\n"
   ]
  },
  {
   "cell_type": "markdown",
   "metadata": {},
   "source": [
    "グリッド線と目盛りの調整"
   ]
  },
  {
   "cell_type": "code",
   "execution_count": null,
   "metadata": {},
   "outputs": [],
   "source": [
    "import matplotlib.pyplot as plt\n",
    "import japanize_matplotlib\n",
    "\n",
    "\n",
    "months = [\"1月\", \"2月\", \"3月\", \"4月\", \"5月\"]\n",
    "sales = [120, 150, 180, 160, 210]\n",
    "\n",
    "plt.figure(figsize=(10, 6))\n",
    "plt.plot(months, sales, marker=\"o\")\n",
    "\n",
    "# グリッド線の詳細設定\n",
    "plt.grid(\n",
    "    True,  # グリッド線を表示\n",
    "    axis=\"both\",  # x 軸と y 軸の両方にグリッド線\n",
    "    linestyle=\"--\",  # 破線スタイル\n",
    "    color=\"gray\",  # 色\n",
    "    alpha=0.5,  # 透明度\n",
    ")\n",
    "\n",
    "# 目盛りの設定\n",
    "plt.xticks(fontsize=10)  # x 軸目盛りのフォントサイズ\n",
    "plt.yticks(range(100, 221, 20), fontsize=10)  # y 軸目盛りの範囲と間隔を指定\n",
    "\n",
    "plt.show()"
   ]
  },
  {
   "cell_type": "markdown",
   "metadata": {},
   "source": [
    "複数のグラフを並べて表示"
   ]
  },
  {
   "cell_type": "code",
   "execution_count": null,
   "metadata": {},
   "outputs": [],
   "source": [
    "import matplotlib.pyplot as plt\n",
    "import japanize_matplotlib\n",
    "\n",
    "\n",
    "months = [\"1月\", \"2月\", \"3月\", \"4月\", \"5月\"]\n",
    "sales_2023 = [110, 130, 160, 140, 190]\n",
    "sales_2024 = [120, 150, 180, 160, 210]\n",
    "\n",
    "# 2 × 1 のサブプロット （2 行 1 列） を作成\n",
    "plt.figure(figsize=(12, 8))\n",
    "\n",
    "# 1 つ目のサブプロット （2023 年データ）\n",
    "plt.subplot(2, 1, 1)  # 2 行 1 列の 1 番目\n",
    "plt.plot(months, sales_2023, marker=\"o\", color=\"green\")\n",
    "plt.title(\"2023年 月間販売数\", fontsize=14)\n",
    "plt.ylabel(\"販売数（個）\")\n",
    "plt.grid(True, linestyle=\"--\")\n",
    "\n",
    "# 2 つ目のサブプロット （2024 年データ）\n",
    "plt.subplot(2, 1, 2)  # 2 行 1 列の 2 番目\n",
    "plt.plot(months, sales_2024, marker=\"o\", color=\"blue\")\n",
    "plt.title(\"2024年 月間販売数\", fontsize=14)\n",
    "plt.ylabel(\"販売数（個）\")\n",
    "plt.grid(True, linestyle=\"--\")\n",
    "\n",
    "# サブプロット間の余白を調整\n",
    "plt.tight_layout(pad=3.0)\n",
    "\n",
    "plt.show()"
   ]
  },
  {
   "cell_type": "markdown",
   "metadata": {},
   "source": [
    "教科別テスト結果"
   ]
  },
  {
   "cell_type": "code",
   "execution_count": null,
   "metadata": {},
   "outputs": [],
   "source": [
    "import matplotlib.pyplot as plt\n",
    "import japanize_matplotlib\n",
    "\n",
    "\n",
    "# データの準備\n",
    "subjects = [\"国語\", \"数学\", \"英語\", \"理科\", \"社会\"]\n",
    "scores = [75, 82, 88, 85, 78]\n",
    "\n",
    "# 棒グラフの作成\n",
    "plt.figure(figsize=(10, 6))\n",
    "plt.bar(subjects, scores, color=\"skyblue\")\n",
    "\n",
    "# グラフの装飾\n",
    "plt.title(\"教科別テスト結果\")\n",
    "plt.xlabel(\"教科\")\n",
    "plt.ylabel(\"点数\")\n",
    "# Y 軸の範囲を 0 〜 100 に設定\n",
    "plt.ylim(0, 100)\n",
    "\n",
    "# 各棒の上に数値を表示\n",
    "for i, score in enumerate(scores):\n",
    "    plt.text(i, score + 1, str(score), ha=\"center\")\n",
    "\n",
    "plt.show()"
   ]
  },
  {
   "cell_type": "markdown",
   "metadata": {},
   "source": [
    "散布図の基本"
   ]
  },
  {
   "cell_type": "code",
   "execution_count": null,
   "metadata": {},
   "outputs": [],
   "source": [
    "import matplotlib.pyplot as plt\n",
    "import japanize_matplotlib\n",
    "\n",
    "\n",
    "# データの準備\n",
    "math_scores = [65, 75, 60, 85, 70, 80, 75, 90, 95, 55]  # 数学の点数\n",
    "japanese_scores = [70, 65, 80, 75, 65, 90, 85, 80, 75, 60]  # 国語の点数\n",
    "\n",
    "# 散布図の作成\n",
    "plt.figure(figsize=(10, 6))\n",
    "plt.scatter(math_scores, japanese_scores, color=\"blue\", alpha=0.7, s=100)\n",
    "\n",
    "# グラフの装飾\n",
    "plt.title(\"数学と国語のテスト結果の関係\")\n",
    "plt.xlabel(\"数学の点数\")\n",
    "plt.ylabel(\"国語の点数\")\n",
    "plt.grid(True, linestyle=\"--\", alpha=0.7)\n",
    "\n",
    "# 軸の範囲を設定 （0 〜 100 点）\n",
    "plt.xlim(0, 100)\n",
    "plt.ylim(0, 100)\n",
    "\n",
    "# グラフの余白を調整\n",
    "plt.tight_layout()\n",
    "\n",
    "plt.show()"
   ]
  },
  {
   "cell_type": "markdown",
   "metadata": {},
   "source": [
    "同じデータの異なる表現"
   ]
  },
  {
   "cell_type": "code",
   "execution_count": null,
   "metadata": {},
   "outputs": [],
   "source": [
    "import numpy as np\n",
    "import matplotlib.pyplot as plt\n",
    "import japanize_matplotlib\n",
    "\n",
    "\n",
    "# 月間の天気データ\n",
    "weather_data = {\"晴れ\": 18, \"曇り\": 8, \"雨\": 4}\n",
    "\n",
    "# 1. 数値データとして表示\n",
    "print(\"月間の天気データ:\")\n",
    "for weather, days in weather_data.items():\n",
    "    print(f\"{weather}: {days}日\")\n",
    "\n",
    "# 2. 円グラフとして表示\n",
    "plt.figure(figsize=(10, 6))\n",
    "plt.subplot(1, 2, 1)  # 1 行 2 列の 1 番目\n",
    "plt.pie(\n",
    "    weather_data.values(),\n",
    "    labels=weather_data.keys(),\n",
    "    autopct=\"%1.1f%%\",  # パーセント表示\n",
    "    colors=[\"lightskyblue\", \"lightgray\", \"lightgreen\"],\n",
    ")\n",
    "plt.title(\"今月の天気の割合（円グラフ）\")\n",
    "\n",
    "# 3. 棒グラフとして表示\n",
    "plt.subplot(1, 2, 2)  # 1 行 2 列の 2 番目\n",
    "plt.bar(weather_data.keys(), weather_data.values(), color=[\"lightskyblue\", \"lightgray\", \"lightgreen\"])\n",
    "plt.title(\"今月の天気の日数（棒グラフ）\")\n",
    "plt.ylabel(\"日数\")\n",
    "\n",
    "plt.tight_layout()\n",
    "plt.show()"
   ]
  },
  {
   "cell_type": "markdown",
   "metadata": {},
   "source": [
    "同じデータでも印象が変わる例"
   ]
  },
  {
   "cell_type": "code",
   "execution_count": null,
   "metadata": {},
   "outputs": [],
   "source": [
    "import numpy as np\n",
    "import matplotlib.pyplot as plt\n",
    "import japanize_matplotlib\n",
    "\n",
    "\n",
    "months = [\"1月\", \"2月\", \"3月\", \"4月\", \"5月\"]\n",
    "sales = [100, 105, 103, 106, 110]\n",
    "\n",
    "# 2 つのグラフを並べて表示\n",
    "plt.figure(figsize=(12, 5))\n",
    "\n",
    "# 1 つ目: Y 軸が 0 から始まるグラフ\n",
    "plt.subplot(1, 2, 1)\n",
    "plt.plot(months, sales, marker=\"o\", linewidth=2, color=\"blue\")\n",
    "plt.title(\"売上推移（Y 軸: 0 〜 120）\")\n",
    "plt.ylabel(\"売上（万円）\")\n",
    "plt.ylim(0, 120)  # Y 軸の範囲を 0 〜 120 に設定\n",
    "plt.grid(True)\n",
    "\n",
    "# 2 つ目: Y 軸が狭い範囲のグラフ\n",
    "plt.subplot(1, 2, 2)\n",
    "plt.plot(months, sales, marker=\"o\", linewidth=2, color=\"blue\")\n",
    "plt.title(\"売上推移（Y 軸: 95 〜 115）\")\n",
    "plt.ylabel(\"売上（万円）\")\n",
    "plt.ylim(95, 115)  # Y 軸の範囲を 95 〜 115 に設定\n",
    "plt.grid(True)\n",
    "\n",
    "plt.tight_layout()\n",
    "plt.show()"
   ]
  }
 ],
 "metadata": {
  "language_info": {
   "name": "python"
  }
 },
 "nbformat": 4,
 "nbformat_minor": 2
}
