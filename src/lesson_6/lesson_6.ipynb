{
 "cells": [
  {
   "cell_type": "markdown",
   "metadata": {},
   "source": [
    "関数の基本的な使い方"
   ]
  },
  {
   "cell_type": "code",
   "execution_count": null,
   "metadata": {},
   "outputs": [],
   "source": [
    "# --- 関数を「作る」部分 （定義） ---\n",
    "# def 関数名(): の形で、関数を作ります\n",
    "def greet():\n",
    "    print(\"こんにちは！\")\n",
    "    print(\"元気ですか？\")\n",
    "    print(\"今日もよろしくお願いします\")\n",
    "\n",
    "\n",
    "# --- 関数を「使う」部分 （呼び出し） ---\n",
    "# 関数名() で実行します\n",
    "greet()\n",
    "print(\"--- 他の処理 ---\")\n",
    "# 何度でも同じ処理を実行できます\n",
    "greet()"
   ]
  },
  {
   "cell_type": "markdown",
   "metadata": {},
   "source": [
    "関数の定義を表示してみる"
   ]
  },
  {
   "cell_type": "code",
   "execution_count": null,
   "metadata": {},
   "outputs": [],
   "source": [
    "def greet():\n",
    "    print(\"こんにちは！\")\n",
    "    print(\"元気ですか？\")\n",
    "    print(\"今日もよろしくお願いします\")\n",
    "\n",
    "\n",
    "print(\"--- 関数の定義を表示 ---\")\n",
    "# () を付けないと呼び出されません\n",
    "# 関数の定義を表示すると、関数の名前と、その関数がどこにあるかを示すアドレスが表示されます\n",
    "print(greet)  # <function greet at 0x7b70b00c7100>\n",
    "\n",
    "print(\"--- 関数の返す値を表示 ---\")\n",
    "# この関数は、値を返していないので、 print すると None になります\n",
    "print(greet())  # None"
   ]
  },
  {
   "cell_type": "markdown",
   "metadata": {},
   "source": [
    "長方形の面積を計算して返す関数"
   ]
  },
  {
   "cell_type": "code",
   "execution_count": null,
   "metadata": {},
   "outputs": [],
   "source": [
    "def calculate_rectangle_area(width, height):\n",
    "    area = width * height  # 面積を計算\n",
    "    return area  # 計算結果を返す\n",
    "\n",
    "\n",
    "# 関数を使う\n",
    "result = calculate_rectangle_area(5, 3)  # 戻り値を変数に入れる\n",
    "print(f\"面積は{result}平方センチメートルです\")  # 面積は15平方センチメートルです\n",
    "\n",
    "# 関数の結果を直接使うこともできます\n",
    "total_area = calculate_rectangle_area(4, 6) + calculate_rectangle_area(3, 2)\n",
    "print(f\"2つの長方形の面積の合計：{total_area}\")  # 30平方センチメートル"
   ]
  },
  {
   "cell_type": "markdown",
   "metadata": {},
   "source": [
    "型ヒントと Docstring を使った関数"
   ]
  },
  {
   "cell_type": "code",
   "execution_count": null,
   "metadata": {},
   "outputs": [],
   "source": [
    "def calculate_rectangle_area(width: float, height: float) -> float:\n",
    "    \"\"\"長方形の面積を計算して返す.\n",
    "\n",
    "    Args:\n",
    "        width (float): 長方形の幅\n",
    "        height (float): 長方形の高さ\n",
    "\n",
    "    Returns:\n",
    "        float: 長方形の面積\n",
    "    \"\"\"\n",
    "    area = width * height\n",
    "    return area"
   ]
  },
  {
   "cell_type": "markdown",
   "metadata": {},
   "source": [
    "戻り値を使った計算例"
   ]
  },
  {
   "cell_type": "code",
   "execution_count": null,
   "metadata": {},
   "outputs": [],
   "source": [
    "def calculate_price_with_tax(price: float) -> float:\n",
    "    \"\"\"税込価格を計算して返す.\n",
    "\n",
    "    Notes:\n",
    "        消費税率は 10% で計算します。\n",
    "\n",
    "    Args:\n",
    "        price (float): 税抜価格\n",
    "\n",
    "    Returns:\n",
    "        float: 税込価格\n",
    "    \"\"\"\n",
    "    tax_rate = 0.1\n",
    "    tax = price * tax_rate\n",
    "    total = price + tax\n",
    "\n",
    "    return total\n",
    "\n",
    "\n",
    "# 商品の合計金額を計算\n",
    "item1_price = calculate_price_with_tax(1000)  # 1,100 円\n",
    "item2_price = calculate_price_with_tax(2000)  # 2,200 円\n",
    "total_price = int(item1_price + item2_price)\n",
    "\n",
    "# カンマを使って桁区切りを表示\n",
    "print(f\"合計金額（税込）：{total_price:,} 円\")  # 3,300円"
   ]
  },
  {
   "cell_type": "markdown",
   "metadata": {},
   "source": [
    "成績判定をする関数"
   ]
  },
  {
   "cell_type": "code",
   "execution_count": null,
   "metadata": {},
   "outputs": [],
   "source": [
    "def calculate_grade(score: int) -> str:\n",
    "    \"\"\"点数から成績を計算して返す.\n",
    "\n",
    "    Args:\n",
    "        score (int): 点数\n",
    "\n",
    "    Returns:\n",
    "        str: 成績\n",
    "    \"\"\"\n",
    "    if score >= 90:\n",
    "        return \"A\"\n",
    "    if score >= 80:\n",
    "        return \"B\"\n",
    "    if score >= 70:\n",
    "        return \"C\"\n",
    "    if score >= 60:\n",
    "        return \"D\"\n",
    "\n",
    "    # 60 点未満は F\n",
    "    return \"F\"\n",
    "\n",
    "\n",
    "# 関数を使って成績を判定\n",
    "my_score = 85\n",
    "my_grade = calculate_grade(my_score)\n",
    "print(f\"{my_score} 点の成績は {my_grade} です\")  # 85 点の成績は B です"
   ]
  },
  {
   "cell_type": "markdown",
   "metadata": {},
   "source": [
    "引数を使ったあいさつプログラム"
   ]
  },
  {
   "cell_type": "code",
   "execution_count": null,
   "metadata": {},
   "outputs": [],
   "source": [
    "def greet_person(name: str) -> None:\n",
    "    \"\"\"名前を引数に取る関数.\n",
    "\n",
    "    Args:\n",
    "        name (str): 名前\n",
    "    \"\"\"\n",
    "    print(f\"こんにちは、{name}さん！\")\n",
    "    print(\"今日も頑張りましょう！\")\n",
    "\n",
    "\n",
    "# いろいろな名前で呼び出してみる\n",
    "greet_person(\"太郎\")  # こんにちは、太郎さん！\n",
    "greet_person(\"花子\")  # こんにちは、花子さん！\n",
    "greet_person(\"先生\")  # こんにちは、先生さん！"
   ]
  },
  {
   "cell_type": "markdown",
   "metadata": {},
   "source": [
    "BMI を計算する関数"
   ]
  },
  {
   "cell_type": "code",
   "execution_count": null,
   "metadata": {},
   "outputs": [],
   "source": [
    "def calculate_bmi(weight: float, height: float) -> float:\n",
    "    \"\"\"BMI を計算する関数.\n",
    "\n",
    "    Args:\n",
    "        weight (float): 体重（kg）\n",
    "        height (float): 身長（cm）\n",
    "    \"\"\"\n",
    "    # 身長をメートルに変換\n",
    "    height_m = height / 100\n",
    "    # BMI の計算式: 体重 (kg) ÷ 身長 (m) の 2 乗\n",
    "    bmi = weight / (height_m * height_m)\n",
    "    # 小数第 1 位まで丸めて返す\n",
    "    return round(bmi, 1)\n",
    "\n",
    "\n",
    "# 関数を使って BMI を計算\n",
    "my_bmi = calculate_bmi(60, 170)  # 体重 60 kg, 身長 170 cm\n",
    "print(f\"BMI 値: {my_bmi}\")\n",
    "\n",
    "friend_bmi = calculate_bmi(55, 165)  # 体重 55 kg, 身長 165 cm\n",
    "print(f\"友達の BMI 値: {friend_bmi}\")"
   ]
  },
  {
   "cell_type": "markdown",
   "metadata": {},
   "source": [
    "デフォルト値を使った関数"
   ]
  },
  {
   "cell_type": "code",
   "execution_count": null,
   "metadata": {},
   "outputs": [],
   "source": [
    "def power(base: int, exponent: int = 2) -> int:\n",
    "    \"\"\"数値のべき乗を計算する.\n",
    "\n",
    "    Args:\n",
    "        base (int): 基数\n",
    "        exponent (int, optional): 指数（デフォルトは 2）\n",
    "    \"\"\"\n",
    "    return base**exponent\n",
    "\n",
    "\n",
    "# いろいろな使い方\n",
    "print(power(3))  # 3 の 2 乗 = 9 （exponent を省略 → デフォルト値の 2 が使われる）\n",
    "print(power(3, 3))  # 3 の 3 乗 = 27 （exponent に 3 を指定）\n",
    "print(power(2, 4))  # 2 の 4 乗 = 16 （exponent に 4 を指定）\n",
    "\n",
    "\n",
    "def create_greeting(name: str, greeting: str = \"こんにちは\") -> str:\n",
    "    \"\"\"あいさつ文を作る.\n",
    "\n",
    "    Args:\n",
    "        name (str): 名前\n",
    "        greeting (str, optional): あいさつ（デフォルトは「こんにちは」）\n",
    "    \"\"\"\n",
    "    return f\"{greeting}、{name}さん！\"\n",
    "\n",
    "\n",
    "print(create_greeting(\"太郎\"))  # こんにちは、太郎さん！\n",
    "print(create_greeting(\"花子\", \"おはよう\"))  # おはよう、花子さん！"
   ]
  },
  {
   "cell_type": "markdown",
   "metadata": {},
   "source": [
    "キーワード引数を使う"
   ]
  },
  {
   "cell_type": "code",
   "execution_count": null,
   "metadata": {},
   "outputs": [],
   "source": [
    "def create_profile(name: str, age: int, hobby: str) -> str:\n",
    "    return f\"私は{name}です。{age}歳です。趣味は{hobby}です。\"\n",
    "\n",
    "\n",
    "# 通常の呼び出し （順番通りに渡す）\n",
    "profile1 = create_profile(\"太郎\", 16, \"サッカー\")\n",
    "# キーワード引数を使う （順番は関係ない）\n",
    "profile2 = create_profile(hobby=\"野球\", name=\"次郎\", age=15)\n",
    "\n",
    "print(profile1)\n",
    "print(profile2)"
   ]
  },
  {
   "cell_type": "markdown",
   "metadata": {},
   "source": [
    "テストの点数を分析する例"
   ]
  },
  {
   "cell_type": "code",
   "execution_count": null,
   "metadata": {},
   "outputs": [],
   "source": [
    "# クラスのテスト点数リスト\n",
    "scores = [82, 75, 90, 65, 88, 72, 95, 60]\n",
    "\n",
    "# 点数の分析\n",
    "max_score = max(scores)  # 最高点を求める\n",
    "min_score = min(scores)  # 最低点を求める\n",
    "total = sum(scores)  # 合計点を求める\n",
    "count = len(scores)  # 人数を求める\n",
    "average = total / count  # 平均点を計算\n",
    "\n",
    "print(\"テスト結果の分析：\")\n",
    "print(f\"最高点：{max_score}点\")  # 95点\n",
    "print(f\"最低点：{min_score}点\")  # 60点\n",
    "print(f\"平均点：{average:.1f}点\")  # 78.4点\n",
    "print(f\"受験者数：{count}人\")  # 8人"
   ]
  },
  {
   "cell_type": "markdown",
   "metadata": {},
   "source": [
    "文字列を処理する例"
   ]
  },
  {
   "cell_type": "code",
   "execution_count": null,
   "metadata": {},
   "outputs": [],
   "source": [
    "# 名前の処理\n",
    "name = \"python programming\"\n",
    "\n",
    "# 様々な文字列操作\n",
    "print(len(name))  # 文字数: 17\n",
    "print(name.upper())  # すべて大文字: PYTHON PROGRAMMING\n",
    "print(name.lower())  # すべて小文字: python programming\n",
    "print(name.title())  # 単語の先頭を大文字: Python Programming\n",
    "print(name.replace(\"p\", \"P\"))  # 文字の置換: Python Programming\n",
    "\n",
    "# 文字列の検索と判定\n",
    "print(name.startswith(\"py\"))  # \"py\" で始まる？: True\n",
    "print(name.endswith(\"ing\"))  # \"ing\" で終わる？: True\n",
    "print(\"gram\" in name)  # \"gram\" を含む？: True\n",
    "\n",
    "# 空白の処理\n",
    "text = \"   Hello, World!   \"\n",
    "print(text.strip())  # 前後の空白を削除: Hello, World!"
   ]
  },
  {
   "cell_type": "markdown",
   "metadata": {},
   "source": [
    "データ型の変換例"
   ]
  },
  {
   "cell_type": "code",
   "execution_count": null,
   "metadata": {},
   "outputs": [],
   "source": [
    "# 文字列から数値への変換\n",
    "age_str = \"16\"\n",
    "age_num = int(age_str)  # 文字列 → 整数: 16\n",
    "height_str = \"170.5\"\n",
    "height_num = float(height_str)  # 文字列 → 小数: 170.5\n",
    "\n",
    "# 数値を文字列に変換\n",
    "price = 1200\n",
    "price_str = str(price)  # 整数 → 文字列: \"1200\"\n",
    "\n",
    "# ユーザーからの入力を処理\n",
    "height = float(input(\"身長 (cm) を入力：\"))  # 入力: \"165.5\" → 数値: 165.5\n",
    "weight = float(input(\"体重 (kg) を入力：\"))  # 入力: \"60.2\" → 数値: 60.2\n",
    "\n",
    "# BMI の計算 （小数第 1 位まで）\n",
    "bmi = weight / ((height / 100) ** 2)\n",
    "print(f\"BMI 値: {round(bmi, 1)}\")  # 小数第 1 位まで表示"
   ]
  },
  {
   "cell_type": "markdown",
   "metadata": {},
   "source": [
    "リストの操作例"
   ]
  },
  {
   "cell_type": "code",
   "execution_count": null,
   "metadata": {},
   "outputs": [],
   "source": [
    "# 部活動の記録\n",
    "times = [12.3, 11.8, 12.1, 11.5, 12.0]  # 100m 走のタイム\n",
    "\n",
    "# 基本的な統計\n",
    "best_time = min(times)  # ベストタイム\n",
    "worst_time = max(times)  # ワーストタイム\n",
    "average_time = sum(times) / len(times)  # 平均タイム\n",
    "\n",
    "print(\"タイム分析：\")\n",
    "print(f\"ベスト：{best_time}秒\")\n",
    "print(f\"ワースト：{worst_time}秒\")\n",
    "print(f\"平均：{average_time:.1f}秒\")\n",
    "\n",
    "# リストの操作\n",
    "times.sort()  # タイムを昇順に並び替え\n",
    "print(f\"タイム一覧：{times}\")  # [11.5, 11.8, 12.0, 12.1, 12.3]\n",
    "times.reverse()  # 逆順に並び替え\n",
    "print(f\"逆順一覧：{times}\")  # [12.3, 12.1, 12.0, 11.8, 11.5]"
   ]
  },
  {
   "cell_type": "markdown",
   "metadata": {},
   "source": [
    "モジュールの基本的な使い方"
   ]
  },
  {
   "cell_type": "code",
   "execution_count": null,
   "metadata": {},
   "outputs": [],
   "source": [
    "# math モジュールを読み込む\n",
    "import math\n",
    "\n",
    "\n",
    "# モジュールの機能を使う\n",
    "radius = 5\n",
    "area = math.pi * radius * radius  # 円の面積を計算\n",
    "print(f\"半径{radius}の円の面積：{area:.2f}\")"
   ]
  },
  {
   "cell_type": "markdown",
   "metadata": {},
   "source": [
    "数学関連の機能を使う例"
   ]
  },
  {
   "cell_type": "code",
   "execution_count": null,
   "metadata": {},
   "outputs": [],
   "source": [
    "import math\n",
    "\n",
    "\n",
    "# 円周率と平方根\n",
    "print(f\"円周率：{math.pi}\")  # 3.141592...\n",
    "print(f\"2の平方根：{math.sqrt(2)}\")  # 1.4142...\n",
    "\n",
    "# 三角関数（ラジアン）\n",
    "angle_deg = 45  # 45 度\n",
    "angle_rad = math.radians(angle_deg)  # 度 → ラジアン (rad)\n",
    "sin_value = math.sin(angle_rad)  # サイン (sin)\n",
    "cos_value = math.cos(angle_rad)  # コサイン (cos)\n",
    "print(f\"{angle_deg}度の sin 値: {sin_value:.4f}\")\n",
    "\n",
    "# 切り上げ, 切り捨て, 四捨五入\n",
    "price = 1234.56\n",
    "print(f\"切り上げ: {math.ceil(price)}\")  # 1235\n",
    "print(f\"切り捨て: {math.floor(price)}\")  # 1234\n",
    "print(f\"四捨五入: {round(price)}\")  # 1235"
   ]
  },
  {
   "cell_type": "markdown",
   "metadata": {},
   "source": [
    "ランダム機能を使う例"
   ]
  },
  {
   "cell_type": "code",
   "execution_count": null,
   "metadata": {},
   "outputs": [],
   "source": [
    "import random\n",
    "\n",
    "\n",
    "# サイコロを振る\n",
    "dice = random.randint(1, 6)  # 1 から 6 のランダムな整数\n",
    "print(f\"サイコロの目：{dice}\")\n",
    "\n",
    "# じゃんけんをランダムに選ぶ\n",
    "hands = [\"グー\", \"チョキ\", \"パー\"]\n",
    "computer_hand = random.choice(hands)  # リストからランダムに選択\n",
    "print(f\"コンピュータの手：{computer_hand}\")\n",
    "\n",
    "# カードをシャッフル\n",
    "cards = [\"A\", \"2\", \"3\", \"4\", \"5\", \"6\", \"7\", \"8\", \"9\", \"10\", \"J\", \"Q\", \"K\"]\n",
    "random.shuffle(cards)  # リストをシャッフル\n",
    "print(f\"シャッフル後：{cards}\")"
   ]
  },
  {
   "cell_type": "markdown",
   "metadata": {},
   "source": [
    "日付と時刻の処理例"
   ]
  },
  {
   "cell_type": "code",
   "execution_count": null,
   "metadata": {},
   "outputs": [],
   "source": [
    "from datetime import datetime, timedelta\n",
    "\n",
    "\n",
    "# 現在の日時を取得\n",
    "now = datetime.now()\n",
    "print(f\"現在の日時：{now}\")\n",
    "print(f\"今日は{now.year}年{now.month}月{now.day}日\")\n",
    "print(f\"現在時刻：{now.hour}時{now.minute}分{now.second}秒\")\n",
    "\n",
    "# 日付の計算\n",
    "tomorrow = now + timedelta(days=1)  # 1 日後\n",
    "next_week = now + timedelta(weeks=1)  # 1 週間後\n",
    "print(f\"明日：{tomorrow.date()}\")\n",
    "print(f\"来週：{next_week.date()}\")\n",
    "\n",
    "# 誕生日までの日数を計算\n",
    "birthday = datetime(2024, 12, 25)  # 2024年12月25日\n",
    "days_until = (birthday - now).days\n",
    "print(f\"誕生日まであと{days_until}日\")"
   ]
  },
  {
   "cell_type": "markdown",
   "metadata": {},
   "source": [
    "日付と時刻の処理例（まとめて読み込む）"
   ]
  },
  {
   "cell_type": "code",
   "execution_count": null,
   "metadata": {},
   "outputs": [],
   "source": [
    "import datetime\n",
    "\n",
    "\n",
    "# 現在の日時を取得\n",
    "now = datetime.datetime.now()\n",
    "print(f\"現在の日時：{now}\")\n",
    "print(f\"今日は{now.year}年{now.month}月{now.day}日\")\n",
    "print(f\"現在時刻：{now.hour}時{now.minute}分{now.second}秒\")\n",
    "\n",
    "# 日付の計算\n",
    "tomorrow = now + datetime.timedelta(days=1)  # 1 日後\n",
    "next_week = now + datetime.timedelta(weeks=1)  # 1 週間後\n",
    "print(f\"明日：{tomorrow.date()}\")\n",
    "print(f\"来週：{next_week.date()}\")\n",
    "\n",
    "# 誕生日までの日数を計算\n",
    "birthday = datetime.datetime(2024, 12, 25)  # 2024年12月25日\n",
    "days_until = (birthday - now).days\n",
    "print(f\"誕生日まであと{days_until}日\")"
   ]
  },
  {
   "cell_type": "markdown",
   "metadata": {},
   "source": [
    "整理されていないコードの例"
   ]
  },
  {
   "cell_type": "code",
   "execution_count": null,
   "metadata": {},
   "outputs": [],
   "source": [
    "print(\"クラス名簿管理プログラム\")\n",
    "name = input(\"名前を入力してください：\")\n",
    "age = int(input(\"年齢を入力してください：\"))\n",
    "current_year = 2024\n",
    "birth_year = current_year - age\n",
    "blood_type = input(\"血液型を入力してください：\")\n",
    "height = float(input(\"身長を入力してください（cm）：\"))\n",
    "weight = float(input(\"体重を入力してください（kg）：\"))\n",
    "height_m = height / 100\n",
    "bmi = weight / (height_m**2)\n",
    "message = \"【個人データ】\\n\"\n",
    "message += f\"名前：{name}\\n\"\n",
    "message += f\"年齢：{age}歳（{birth_year}年生まれ）\\n\"\n",
    "message += f\"血液型：{blood_type}型\\n\"\n",
    "message += f\"身長：{height}cm\\n\"\n",
    "message += f\"体重：{weight}kg\\n\"\n",
    "message += f\"BMI 値：{bmi:.1f}\"\n",
    "print(message)"
   ]
  },
  {
   "cell_type": "markdown",
   "metadata": {},
   "source": [
    "整理されたコードの例"
   ]
  },
  {
   "cell_type": "code",
   "execution_count": null,
   "metadata": {},
   "outputs": [],
   "source": [
    "def get_personal_info() -> tuple[str, int, str]:\n",
    "    \"\"\"個人情報を入力して取得する.\n",
    "\n",
    "    Returns:\n",
    "        tuple[str, int, str]: 名前, 年齢, 血液型\n",
    "    \"\"\"\n",
    "    name = input(\"名前を入力してください：\")\n",
    "    age = int(input(\"年齢を入力してください：\"))\n",
    "    blood_type = input(\"血液型を入力してください：\")\n",
    "\n",
    "    return name, age, blood_type\n",
    "\n",
    "\n",
    "def get_physical_info() -> tuple[float, float]:\n",
    "    \"\"\"身体情報を入力して取得する.\n",
    "\n",
    "    Returns:\n",
    "        tuple[float, float]: 身長, 体重\n",
    "    \"\"\"\n",
    "    height = float(input(\"身長を入力してください（cm）：\"))\n",
    "    weight = float(input(\"体重を入力してください（kg）：\"))\n",
    "\n",
    "    return height, weight\n",
    "\n",
    "\n",
    "def calculate_birth_year(age: int) -> int:\n",
    "    \"\"\"年齢から生年を計算する.\n",
    "\n",
    "    Args:\n",
    "        age (int): 年齢\n",
    "\n",
    "    Returns:\n",
    "        int: 生年\n",
    "    \"\"\"\n",
    "    current_year = 2024\n",
    "\n",
    "    return current_year - age\n",
    "\n",
    "\n",
    "def calculate_bmi(height: float, weight: float) -> float:\n",
    "    \"\"\"BMI を計算する.\n",
    "\n",
    "    Args:\n",
    "        height (float): 身長\n",
    "        weight (float): 体重\n",
    "\n",
    "    Returns:\n",
    "        float: BMI値\n",
    "    \"\"\"\n",
    "    return weight / (height_m**2)\n",
    "\n",
    "\n",
    "def create_profile(\n",
    "    name: str, age: int, birth_year: int, blood_type: str, height: float, weight: float, bmi: float\n",
    ") -> str:\n",
    "    \"\"\"プロフィール文字列を作成する関数.\n",
    "\n",
    "    Args:\n",
    "        name (str): 名前\n",
    "        age (int): 年齢\n",
    "        birth_year (int): 生年\n",
    "        blood_type (str): 血液型\n",
    "        height (float): 身長\n",
    "        weight (float): 体重\n",
    "        bmi (float): BMI値\n",
    "\n",
    "    Returns:\n",
    "        str: プロフィール文字列\n",
    "    \"\"\"\n",
    "    message = \"【個人データ】\\n\"\n",
    "    message += f\"名前：{name}\\n\"\n",
    "    message += f\"年齢：{age}歳（{birth_year}年生まれ）\\n\"\n",
    "    message += f\"血液型：{blood_type}型\\n\"\n",
    "    message += f\"身長：{height}cm\\n\"\n",
    "    message += f\"体重：{weight}kg\\n\"\n",
    "    message += f\"BMI 値：{bmi:.1f}\"\n",
    "\n",
    "    return message\n",
    "\n",
    "\n",
    "def main() -> None:\n",
    "    \"\"\"メインの処理を行う関数\"\"\"\n",
    "    print(\"クラス名簿管理プログラム\")\n",
    "\n",
    "    # 個人情報の入力\n",
    "    name, age, blood_type = get_personal_info()\n",
    "\n",
    "    # 身体情報の入力\n",
    "    height, weight = get_physical_info()\n",
    "\n",
    "    # 各種計算\n",
    "    birth_year = calculate_birth_year(age)\n",
    "    bmi = calculate_bmi(height, weight)\n",
    "\n",
    "    # プロフィール作成と表示\n",
    "    profile = create_profile(name, age, birth_year, blood_type, height, weight, bmi)\n",
    "    print(\"\\n\" + profile)\n",
    "\n",
    "\n",
    "# プログラムの実行\n",
    "if __name__ == \"__main__\":\n",
    "    main()"
   ]
  },
  {
   "cell_type": "markdown",
   "metadata": {},
   "source": [
    "重複の多いコード例"
   ]
  },
  {
   "cell_type": "code",
   "execution_count": null,
   "metadata": {},
   "outputs": [],
   "source": [
    "print(\"1 番目の生徒\")\n",
    "name1 = \"田中\"\n",
    "score1 = 85\n",
    "\n",
    "grade1 = \"\"\n",
    "if score1 >= 90:\n",
    "    grade1 = \"A\"\n",
    "elif score1 >= 80:\n",
    "    grade1 = \"B\"\n",
    "elif score1 >= 70:\n",
    "    grade1 = \"C\"\n",
    "else:\n",
    "    grade1 = \"D\"\n",
    "\n",
    "print(f\"{name1}さんの成績は{grade1}です\")\n",
    "\n",
    "print(\"\\n2 番目の生徒\")\n",
    "name2 = \"鈴木\"\n",
    "score2 = 92\n",
    "grade2 = \"\"\n",
    "\n",
    "if score2 >= 90:\n",
    "    grade2 = \"A\"\n",
    "elif score2 >= 80:\n",
    "    grade2 = \"B\"\n",
    "elif score2 >= 70:\n",
    "    grade2 = \"C\"\n",
    "else:\n",
    "    grade2 = \"D\"\n",
    "\n",
    "print(f\"{name2}さんの成績は{grade2}です\")"
   ]
  },
  {
   "cell_type": "markdown",
   "metadata": {},
   "source": [
    "関数を使って整理したコード"
   ]
  },
  {
   "cell_type": "code",
   "execution_count": null,
   "metadata": {},
   "outputs": [],
   "source": [
    "def get_grade(score: int) -> str:\n",
    "    \"\"\"点数から成績（A / B / C / D）を判定する.\n",
    "\n",
    "    Args:\n",
    "        score (int): 点数\n",
    "\n",
    "    Returns:\n",
    "        str: 成績（A / B / C / D）\n",
    "    \"\"\"\n",
    "    if score >= 90:\n",
    "        return \"A\"\n",
    "    elif score >= 80:\n",
    "        return \"B\"\n",
    "    elif score >= 70:\n",
    "        return \"C\"\n",
    "    else:\n",
    "        return \"D\"\n",
    "\n",
    "\n",
    "def print_result(name: str, score: int) -> None:\n",
    "    \"\"\"生徒の成績を表示する.\n",
    "\n",
    "    Args:\n",
    "        name (str): 名前\n",
    "        score (int): 点数\n",
    "    \"\"\"\n",
    "    grade = get_grade(score)\n",
    "    print(f\"{name}さんの成績は{grade}です\")\n",
    "\n",
    "\n",
    "# 複数の生徒を簡単に処理\n",
    "students = [(\"田中\", 85), (\"鈴木\", 92), (\"佐藤\", 78)]\n",
    "\n",
    "for name, score in students:\n",
    "    print_result(name, score)"
   ]
  },
  {
   "cell_type": "markdown",
   "metadata": {},
   "source": [
    "足し算・引き算・平均値を計算する関数を作り、モジュールとして利用するプログラム"
   ]
  },
  {
   "cell_type": "code",
   "execution_count": null,
   "metadata": {},
   "outputs": [],
   "source": [
    "def add(a: int, b: int) -> int:\n",
    "    \"\"\"2 つの数の和を返す.\n",
    "\n",
    "    Args:\n",
    "        a (int): 数値 1\n",
    "        b (int): 数値 2\n",
    "\n",
    "    Returns:\n",
    "        int: 和\n",
    "    \"\"\"\n",
    "    return a + b\n",
    "\n",
    "\n",
    "def subtract(a: int, b: int) -> int:\n",
    "    \"\"\"2 つの数の差を返す.\n",
    "\n",
    "    Args:\n",
    "        a (int): 数値 1\n",
    "        b (int): 数値 2\n",
    "\n",
    "    Returns:\n",
    "        int: 差\n",
    "    \"\"\"\n",
    "    return a - b\n",
    "\n",
    "\n",
    "def average(numbers: list[int]) -> float:\n",
    "    \"\"\"数値リストの平均を返す.\n",
    "\n",
    "    Args:\n",
    "        numbers (list[int]): 数値リスト\n",
    "\n",
    "    Returns:\n",
    "        float: 平均\n",
    "    \"\"\"\n",
    "    return sum(numbers) / len(numbers)\n",
    "\n",
    "\n",
    "# メイン処理\n",
    "if __name__ == \"__main__\":\n",
    "    # テスト用のコード\n",
    "    print(add(10, 5))  # 15\n",
    "    print(subtract(10, 5))  # 5\n",
    "    print(average([1, 2, 3, 4, 5]))  # 3.0"
   ]
  },
  {
   "cell_type": "markdown",
   "metadata": {},
   "source": [
    "2 つの数値を入力して最大公約数を求める関数を作成するプログラム"
   ]
  },
  {
   "cell_type": "code",
   "execution_count": null,
   "metadata": {},
   "outputs": [],
   "source": [
    "def gcd(a: int, b: int) -> int:\n",
    "    \"\"\"ユークリッドの互除法で最大公約数を求める.\n",
    "\n",
    "    Args:\n",
    "        a (int): 数値 1\n",
    "        b (int): 数値 2\n",
    "\n",
    "    Returns:\n",
    "        int: 最大公約数\n",
    "    \"\"\"\n",
    "    while b:\n",
    "        a, b = b, a % b\n",
    "\n",
    "    return a\n",
    "\n",
    "\n",
    "def get_positive_number(prompt: str) -> int:\n",
    "    \"\"\"正の整数を入力させる.\n",
    "\n",
    "    Args:\n",
    "        prompt (str): 入力を促すメッセージ\n",
    "\n",
    "    Returns:\n",
    "        int: 正の整数\n",
    "    \"\"\"\n",
    "    while True:\n",
    "        try:\n",
    "            num = int(input(prompt))\n",
    "\n",
    "            if num > 0:\n",
    "                return num\n",
    "\n",
    "            print(\"正の整数を入力してください\")\n",
    "        except ValueError:\n",
    "            print(\"正しい数値を入力してください\")\n",
    "\n",
    "\n",
    "def main() -> None:\n",
    "    # 2 つの数を入力\n",
    "    num1 = get_positive_number(\"1 つ目の数を入力：\")\n",
    "    num2 = get_positive_number(\"2 つ目の数を入力：\")\n",
    "\n",
    "    # 最大公約数を計算\n",
    "    result = gcd(num1, num2)\n",
    "\n",
    "    # 結果を表示\n",
    "    print(f\"{num1}と{num2}の最大公約数は{result}です\")\n",
    "\n",
    "\n",
    "# プログラムの実行\n",
    "if __name__ == \"__main__\":\n",
    "    main()"
   ]
  }
 ],
 "metadata": {
  "language_info": {
   "name": "python"
  }
 },
 "nbformat": 4,
 "nbformat_minor": 2
}
