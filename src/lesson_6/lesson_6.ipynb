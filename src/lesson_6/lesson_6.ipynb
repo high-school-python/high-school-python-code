{
 "cells": [
  {
   "cell_type": "markdown",
   "metadata": {},
   "source": [
    "関数の基本的な使い方"
   ]
  },
  {
   "cell_type": "code",
   "execution_count": null,
   "metadata": {},
   "outputs": [],
   "source": [
    "# --- 関数を「作る」部分 （定義） ---\n",
    "# def 関数名(): の形で、関数を作ります\n",
    "def greet():\n",
    "    print(\"こんにちは！\")\n",
    "    print(\"元気ですか？\")\n",
    "    print(\"今日もよろしくお願いします\")\n",
    "\n",
    "\n",
    "# --- 関数を「使う」部分 （呼び出し） ---\n",
    "# 関数名() で実行します\n",
    "greet()\n",
    "print(\"--- 他の処理 ---\")\n",
    "# 何度でも同じ処理を実行できます\n",
    "greet()"
   ]
  },
  {
   "cell_type": "markdown",
   "metadata": {},
   "source": [
    "関数の定義を表示してみる"
   ]
  },
  {
   "cell_type": "code",
   "execution_count": null,
   "metadata": {},
   "outputs": [],
   "source": [
    "def greet():\n",
    "    print(\"こんにちは！\")\n",
    "    print(\"元気ですか？\")\n",
    "    print(\"今日もよろしくお願いします\")\n",
    "\n",
    "\n",
    "print(\"--- 関数の定義を表示 ---\")\n",
    "# () を付けないと呼び出されません\n",
    "# 関数の定義を表示すると、関数の名前と、その関数がどこにあるかを示すアドレスが表示されます\n",
    "print(greet)  # <function greet at 0x7b70b00c7100>\n",
    "\n",
    "print(\"--- 関数の返す値を表示 ---\")\n",
    "# この関数は、値を返していないので、 print すると None になります\n",
    "print(greet())  # None"
   ]
  },
  {
   "cell_type": "markdown",
   "metadata": {},
   "source": [
    "長方形の面積を計算して返す関数"
   ]
  },
  {
   "cell_type": "code",
   "execution_count": null,
   "metadata": {},
   "outputs": [],
   "source": [
    "def calculate_rectangle_area(width, height):\n",
    "    area = width * height  # 面積を計算\n",
    "    return area  # 計算結果を返す\n",
    "\n",
    "\n",
    "# 関数を使う\n",
    "result = calculate_rectangle_area(5, 3)  # 戻り値を変数に入れる\n",
    "print(f\"面積は{result}平方センチメートルです\")  # 面積は15平方センチメートルです\n",
    "\n",
    "# 関数の結果を直接使うこともできます\n",
    "total_area = calculate_rectangle_area(4, 6) + calculate_rectangle_area(3, 2)\n",
    "print(f\"2つの長方形の面積の合計：{total_area}\")  # 30平方センチメートル"
   ]
  },
  {
   "cell_type": "markdown",
   "metadata": {},
   "source": [
    "型ヒントと Docstring を使った関数"
   ]
  },
  {
   "cell_type": "code",
   "execution_count": null,
   "metadata": {},
   "outputs": [],
   "source": [
    "def calculate_rectangle_area(width: float, height: float) -> float:\n",
    "    \"\"\"長方形の面積を計算して返す.\n",
    "\n",
    "    Args:\n",
    "        width (float): 長方形の幅\n",
    "        height (float): 長方形の高さ\n",
    "\n",
    "    Returns:\n",
    "        float: 長方形の面積\n",
    "    \"\"\"\n",
    "    area = width * height\n",
    "    return area"
   ]
  },
  {
   "cell_type": "markdown",
   "metadata": {},
   "source": [
    "戻り値を使った計算例"
   ]
  },
  {
   "cell_type": "code",
   "execution_count": null,
   "metadata": {},
   "outputs": [],
   "source": [
    "def calculate_price_with_tax(price: float) -> float:\n",
    "    \"\"\"税込価格を計算して返す.\n",
    "\n",
    "    Notes:\n",
    "        消費税率は 10% で計算します。\n",
    "\n",
    "    Args:\n",
    "        price (float): 税抜価格\n",
    "\n",
    "    Returns:\n",
    "        float: 税込価格\n",
    "    \"\"\"\n",
    "    tax_rate = 0.1\n",
    "    tax = price * tax_rate\n",
    "    total = price + tax\n",
    "\n",
    "    return total\n",
    "\n",
    "\n",
    "# 商品の合計金額を計算\n",
    "item1_price = calculate_price_with_tax(1000)  # 1,100 円\n",
    "item2_price = calculate_price_with_tax(2000)  # 2,200 円\n",
    "total_price = int(item1_price + item2_price)\n",
    "\n",
    "# カンマを使って桁区切りを表示\n",
    "print(f\"合計金額（税込）：{total_price:,} 円\")  # 3,300円"
   ]
  },
  {
   "cell_type": "markdown",
   "metadata": {},
   "source": [
    "成績判定をする関数"
   ]
  },
  {
   "cell_type": "code",
   "execution_count": null,
   "metadata": {},
   "outputs": [],
   "source": [
    "def calculate_grade(score: int) -> str:\n",
    "    \"\"\"点数から成績を計算して返す.\n",
    "\n",
    "    Args:\n",
    "        score (int): 点数\n",
    "\n",
    "    Returns:\n",
    "        str: 成績\n",
    "    \"\"\"\n",
    "    if score >= 90:\n",
    "        return \"A\"\n",
    "    if score >= 80:\n",
    "        return \"B\"\n",
    "    if score >= 70:\n",
    "        return \"C\"\n",
    "    if score >= 60:\n",
    "        return \"D\"\n",
    "\n",
    "    # 60 点未満は F\n",
    "    return \"F\"\n",
    "\n",
    "\n",
    "# 関数を使って成績を判定\n",
    "my_score = 85\n",
    "my_grade = calculate_grade(my_score)\n",
    "print(f\"{my_score} 点の成績は {my_grade} です\")  # 85 点の成績は B です"
   ]
  }
 ],
 "metadata": {
  "language_info": {
   "name": "python"
  }
 },
 "nbformat": 4,
 "nbformat_minor": 2
}
