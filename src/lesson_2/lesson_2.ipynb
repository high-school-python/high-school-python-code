{
 "cells": [
  {
   "cell_type": "markdown",
   "metadata": {},
   "source": [
    "変数にデータを入れる (代入する)"
   ]
  },
  {
   "cell_type": "code",
   "execution_count": null,
   "metadata": {},
   "outputs": [],
   "source": [
    "score = 85  # score という箱に 85 を入れる\n",
    "name = \"田中\"  # name という箱に \"田中\" を入れる\n",
    "\n",
    "# 変数の中身を表示する\n",
    "print(score)  # 85 が表示される\n",
    "print(name)   # 田中が表示される"
   ]
  },
  {
   "cell_type": "markdown",
   "metadata": {},
   "source": [
    "変数の値を変更する"
   ]
  },
  {
   "cell_type": "code",
   "execution_count": null,
   "metadata": {},
   "outputs": [],
   "source": [
    "print(\"1回目のテスト:\", score)  # 1回目のテスト: 85\n",
    "# 同じ変数に新しい値を代入\n",
    "score = 92\n",
    "print(\"2回目のテスト:\", score)  # 2回目のテスト: 92\n",
    "\n",
    "name = \"山田\"\n",
    "print(\"以前の名前:\", name)  # 以前の名前: 山田\n",
    "name = \"鈴木\"\n",
    "print(\"新しい名前:\", name)  # 新しい名前: 鈴木"
   ]
  },
  {
   "cell_type": "markdown",
   "metadata": {},
   "source": [
    "変数を使って平均点を計算する"
   ]
  },
  {
   "cell_type": "code",
   "execution_count": null,
   "metadata": {},
   "outputs": [],
   "source": [
    "math_score = 85\n",
    "english_score = 92\n",
    "total = math_score + english_score  # 合計点\n",
    "average = total / 2  # 平均点\n",
    "print(\"平均点:\", average)  # 平均点: 88.5"
   ]
  },
  {
   "cell_type": "markdown",
   "metadata": {},
   "source": [
    "日本語の変数名でも一応書ける (非推奨)"
   ]
  },
  {
   "cell_type": "code",
   "execution_count": null,
   "metadata": {},
   "outputs": [],
   "source": [
    "なまえ = \"山田\"\n",
    "print(なまえ)  # 山田"
   ]
  },
  {
   "cell_type": "markdown",
   "metadata": {},
   "source": [
    "値が入っていない変数を使うと例外になる"
   ]
  },
  {
   "cell_type": "code",
   "execution_count": null,
   "metadata": {},
   "outputs": [],
   "source": [
    "print(undefined_score)  # NameError: name 'undefined_score' is not defined"
   ]
  },
  {
   "cell_type": "markdown",
   "metadata": {},
   "source": [
    "色々なデータ型"
   ]
  },
  {
   "cell_type": "code",
   "execution_count": null,
   "metadata": {},
   "outputs": [],
   "source": [
    "# 整数型 （int）\n",
    "age = 16\n",
    "year = 2024\n",
    "\n",
    "# 小数型 （float）\n",
    "height = 170.5\n",
    "weight = 58.3\n",
    "\n",
    "# 文字列型 （str）\n",
    "name = \"鈴木\"\n",
    "message = \"今日は晴れです\"\n",
    "\n",
    "# データ型を確認するには type() を使う\n",
    "print(type(age))  # <class 'int'>\n",
    "print(type(height))  # <class 'float'>\n",
    "print(type(name))  # <class 'str'>"
   ]
  },
  {
   "cell_type": "markdown",
   "metadata": {},
   "source": [
    "整数型の例"
   ]
  },
  {
   "cell_type": "code",
   "execution_count": null,
   "metadata": {},
   "outputs": [],
   "source": [
    "students = 40  # クラスの人数\n",
    "score = 85  # テストの点数\n",
    "year = 2024  # 西暦\n",
    "\n",
    "# 整数の計算\n",
    "total = students + 5  # 足し算\n",
    "double = score * 2  # 掛け算"
   ]
  },
  {
   "cell_type": "markdown",
   "metadata": {},
   "source": [
    "小数型の例"
   ]
  },
  {
   "cell_type": "code",
   "execution_count": null,
   "metadata": {},
   "outputs": [],
   "source": [
    "height = 170.5  # 身長 (cm)\n",
    "weight = 58.3  # 体重 (kg)\n",
    "\n",
    "# 小数の計算\n",
    "bmi = weight / (height / 100) ** 2  # BMI の計算\n",
    "average = (80.5 + 92.0 + 88.5) / 3  # 平均点の計算\n",
    "\n",
    "# その他の例\n",
    "temperature = 22.8  # 気温 (度)\n",
    "price = 1200.50  # 価格 (円)"
   ]
  },
  {
   "cell_type": "markdown",
   "metadata": {},
   "source": [
    "文字列型の例"
   ]
  },
  {
   "cell_type": "code",
   "execution_count": null,
   "metadata": {},
   "outputs": [],
   "source": [
    "name = \"山田太郎\"  # 名前\n",
    "message = \"こんにちは\"  # メッセージ\n",
    "address = \"東京都渋谷区\"  # 住所\n",
    "\n",
    "# 文字列の連結\n",
    "full_message = \"こんにちは、\" + name + \"さん\"\n",
    "print(full_message)  # こんにちは、山田太郎さん"
   ]
  },
  {
   "cell_type": "markdown",
   "metadata": {},
   "source": [
    "様々な変数の型を確認する"
   ]
  },
  {
   "cell_type": "code",
   "execution_count": null,
   "metadata": {},
   "outputs": [],
   "source": [
    "age = 16\n",
    "height = 170.5\n",
    "name = \"鈴木\"\n",
    "\n",
    "print(type(age))  # <class 'int'>\n",
    "print(type(height))  # <class 'float'>\n",
    "print(type(name))  # <class 'str'>"
   ]
  },
  {
   "cell_type": "markdown",
   "metadata": {},
   "source": [
    "データ型の違いによる計算の例"
   ]
  },
  {
   "cell_type": "code",
   "execution_count": null,
   "metadata": {},
   "outputs": [],
   "source": [
    "print(5 / 2)  # 2.5 （小数の割り算）\n",
    "print(5 // 2)  # 2 （整数の割り算）\n",
    "print(\"ABC\" * 3)  # ABCABCABC （文字列の繰り返し）"
   ]
  },
  {
   "cell_type": "markdown",
   "metadata": {},
   "source": [
    "変数名の付け方の良い例"
   ]
  },
  {
   "cell_type": "code",
   "execution_count": null,
   "metadata": {},
   "outputs": [],
   "source": [
    "student_name = \"山田\"  # 生徒の名前\n",
    "test_score = 85  # テストの点数\n",
    "total_price = 1200  # 合計金額\n",
    "first_name = \"太郎\"  # 名前（氏名の一部）\n",
    "birth_year = 2007  # 生まれた年"
   ]
  },
  {
   "cell_type": "markdown",
   "metadata": {},
   "source": [
    "変数名の付け方の悪い例"
   ]
  },
  {
   "cell_type": "code",
   "execution_count": null,
   "metadata": {},
   "outputs": [],
   "source": [
    "なまえ = \"山田\"      # 日本語は避ける\n",
    "test score = 85    # スペースは使えない\n",
    "1st_place = \"金賞\"  # 数字から始まれない\n",
    "if = \"条件\"         # 予約語は使えない\n",
    "$price = 100       # 記号は使えない （ _ 以外）"
   ]
  },
  {
   "cell_type": "markdown",
   "metadata": {},
   "source": [
    "具体的な名前をつける"
   ]
  },
  {
   "cell_type": "code",
   "execution_count": null,
   "metadata": {},
   "outputs": [],
   "source": [
    "# 悪い例\n",
    "x = 85  # x が何を表すのか分からない\n",
    "n = \"山田\"  # n が何を表すのか分からない\n",
    "\n",
    "# 良い例\n",
    "math_score = 85  # 数学の点数だと分かる\n",
    "student_name = \"山田\"  # 生徒の名前だと分かる"
   ]
  },
  {
   "cell_type": "markdown",
   "metadata": {},
   "source": [
    "複数の単語は _（アンダースコア）でつなぐ"
   ]
  },
  {
   "cell_type": "code",
   "execution_count": null,
   "metadata": {},
   "outputs": [],
   "source": [
    "# 推奨される書き方 （スネークケース）\n",
    "user_age = 16\n",
    "total_score = 85\n",
    "average_height = 170.5\n",
    "\n",
    "# スペースは使えません\n",
    "user age = 16  # エラーになる"
   ]
  },
  {
   "cell_type": "markdown",
   "metadata": {},
   "source": [
    "省略しすぎない"
   ]
  },
  {
   "cell_type": "code",
   "execution_count": null,
   "metadata": {},
   "outputs": [],
   "source": [
    "# 悪い例 （意味が分かりづらい）\n",
    "num = 30  # number の意味？ count の意味？\n",
    "calc = 85 + 90  # calculation? calculator?\n",
    "\n",
    "# 良い例 （分かりやすい）\n",
    "student_count = 30\n",
    "total_score = 85 + 90"
   ]
  },
  {
   "cell_type": "markdown",
   "metadata": {},
   "source": [
    "成績管理プログラムの例"
   ]
  },
  {
   "cell_type": "code",
   "execution_count": null,
   "metadata": {},
   "outputs": [],
   "source": [
    "student_name = \"山田太郎\"  # 生徒の名前\n",
    "math_score = 85  # 数学の点数\n",
    "english_score = 92  # 英語の点数\n",
    "total_score = math_score + english_score  # 合計点\n",
    "average_score = total_score / 2  # 平均点"
   ]
  },
  {
   "cell_type": "markdown",
   "metadata": {},
   "source": [
    "買い物プログラムの例"
   ]
  },
  {
   "cell_type": "code",
   "execution_count": null,
   "metadata": {},
   "outputs": [],
   "source": [
    "item_name = \"リンゴ\"  # 商品名\n",
    "unit_price = 120  # 1個の値段\n",
    "quantity = 5  # 個数\n",
    "total_price = unit_price * quantity  # 合計金額"
   ]
  },
  {
   "cell_type": "markdown",
   "metadata": {},
   "source": [
    "文字列の連結"
   ]
  },
  {
   "cell_type": "code",
   "execution_count": null,
   "metadata": {},
   "outputs": [],
   "source": [
    "first = \"山田\"\n",
    "last = \"太郎\"\n",
    "full_name = first + last\n",
    "print(full_name)  # 山田太郎\n",
    "\n",
    "# スペースを入れて連結\n",
    "full_name = first + \" \" + last\n",
    "print(full_name)  # 山田 太郎\n",
    "\n",
    "# 文字列と数値を連結する時は str() で変換が必要\n",
    "age = 16\n",
    "message = \"私は\" + str(age) + \"歳です\"\n",
    "print(message)  # 私は16歳です"
   ]
  },
  {
   "cell_type": "markdown",
   "metadata": {},
   "source": [
    "文字列の繰り返し"
   ]
  },
  {
   "cell_type": "code",
   "execution_count": null,
   "metadata": {},
   "outputs": [],
   "source": [
    "star = \"★\"\n",
    "print(star * 3)  # ★★★\n",
    "print(\"わくわく\" * 2)  # わくわくわくわく\n",
    "\n",
    "# 装飾的な使い方\n",
    "print(\"=\" * 20)  # ====================\n",
    "print(\"Hello!\")  # Hello!\n",
    "print(\"=\" * 20)  # ===================="
   ]
  },
  {
   "cell_type": "markdown",
   "metadata": {},
   "source": [
    "文字列の長さを調べる"
   ]
  },
  {
   "cell_type": "code",
   "execution_count": null,
   "metadata": {},
   "outputs": [],
   "source": [
    "message = \"こんにちは\"\n",
    "print(len(message))  # 5\n",
    "\n",
    "name = \"山田 太郎\"  # スペースも 1 文字として数えます\n",
    "print(len(name))  # 5\n",
    "\n",
    "english = \"Hello!\"\n",
    "print(len(english))  # 6"
   ]
  },
  {
   "cell_type": "markdown",
   "metadata": {},
   "source": [
    "文字列から一部を取り出す"
   ]
  },
  {
   "cell_type": "code",
   "execution_count": null,
   "metadata": {},
   "outputs": [],
   "source": [
    "text = \"Python\"\n",
    "print(text[0])  # P （最初の文字）\n",
    "print(text[1])  # y （2番目の文字）\n",
    "print(text[-1])  # n （最後の文字）\n",
    "\n",
    "# スライスで範囲を指定して取り出す\n",
    "print(text[0:2])  # Py （0 番目から 2 番目の手前まで）\n",
    "print(text[2:4])  # th （2 番目から 4 番目の手前まで）\n",
    "print(text[:3])  # Pyt （最初から 3 番目の手前まで）\n",
    "print(text[2:])  # thon （2 番目から最後まで）"
   ]
  },
  {
   "cell_type": "markdown",
   "metadata": {},
   "source": [
    "文字列の検索と置換"
   ]
  },
  {
   "cell_type": "code",
   "execution_count": null,
   "metadata": {},
   "outputs": [],
   "source": [
    "# 文字列の検索\n",
    "text = \"私は Python が好きです\"\n",
    "print(\"Python\" in text)  # True （含まれているか確認）\n",
    "print(text.find(\"Python\"))  # 3 （出現位置。見つからない場合は -1）\n",
    "print(text.find(\"JavaScript\"))  # -1 （見つからないので -1）\n",
    "\n",
    "# 文字列の置換\n",
    "message = \"私はりんごが好きです\"\n",
    "new_message = message.replace(\"りんご\", \"バナナ\")\n",
    "print(new_message)  # 私はバナナが好きです"
   ]
  },
  {
   "cell_type": "markdown",
   "metadata": {},
   "source": [
    "よく使う文字列メソッド"
   ]
  },
  {
   "cell_type": "code",
   "execution_count": null,
   "metadata": {},
   "outputs": [],
   "source": [
    "# あえて左右に空白を入れています\n",
    "text = \"  Hello, Python!  \"\n",
    "\n",
    "# 空白の削除\n",
    "print(text.strip())  # \"Hello, Python!\" (前後の空白を削除)\n",
    "\n",
    "# 大文字・小文字の変換\n",
    "print(text.upper())  # \"  HELLO, PYTHON!  \" (大文字に)\n",
    "print(text.lower())  # \"  hello, python!  \" (小文字に)\n",
    "\n",
    "# 文字列の分割\n",
    "words = \"りんご,バナナ,オレンジ\"\n",
    "fruit_list = words.split(\",\")  # [\"りんご\", \"バナナ\", \"オレンジ\"]"
   ]
  },
  {
   "cell_type": "markdown",
   "metadata": {},
   "source": [
    "実践的な文字列操作の例"
   ]
  },
  {
   "cell_type": "code",
   "execution_count": null,
   "metadata": {},
   "outputs": [],
   "source": [
    "# ユーザー名とパスワードの作成\n",
    "username = \"yamada_taro\"\n",
    "domain = \"example.com\"\n",
    "email = username + \"@\" + domain  # メールアドレスの作成\n",
    "print(email)  # yamada_taro@example.com\n",
    "\n",
    "# 整形された出力の作成\n",
    "name = \"山田太郎\"\n",
    "score = 85\n",
    "result = f\"{name}さんの点数は{score}点です\"\n",
    "print(result)  # 山田太郎さんの点数は85点です\n",
    "\n",
    "# ファイル名から拡張子を取り出す\n",
    "filename = \"report.pdf\"\n",
    "extension = filename[-4:]  # 後ろから 4 文字を取得\n",
    "print(extension)  # .pdf"
   ]
  },
  {
   "cell_type": "markdown",
   "metadata": {},
   "source": [
    "型変換が必要なケース"
   ]
  },
  {
   "cell_type": "code",
   "execution_count": null,
   "metadata": {},
   "outputs": [],
   "source": [
    "score = 85\n",
    "message = \"得点は\" + score + \"点です\"  # エラー！\n",
    "# TypeError: can only concatenate str (not \"int\") to str"
   ]
  },
  {
   "cell_type": "markdown",
   "metadata": {},
   "source": [
    "型変換をしたケース"
   ]
  },
  {
   "cell_type": "code",
   "execution_count": null,
   "metadata": {},
   "outputs": [],
   "source": [
    "score = 85\n",
    "message = \"得点は\" + str(score) + \"点です\"  # 得点は85点です"
   ]
  },
  {
   "cell_type": "markdown",
   "metadata": {},
   "source": [
    "文字列を数値に変換"
   ]
  },
  {
   "cell_type": "code",
   "execution_count": null,
   "metadata": {},
   "outputs": [],
   "source": [
    "# 文字列 → 整数 int()\n",
    "age_str = \"16\"\n",
    "age_num = int(age_str)  # 文字列を整数に変換\n",
    "print(age_num + 1)  # 17 (計算ができる)\n",
    "\n",
    "# 文字列 → 小数 float()\n",
    "height_str = \"170.5\"\n",
    "height_num = float(height_str)  # 文字列を小数に変換\n",
    "print(height_num + 1)  # 171.5 (計算ができる)"
   ]
  },
  {
   "cell_type": "markdown",
   "metadata": {},
   "source": [
    "数値を文字列に変換"
   ]
  },
  {
   "cell_type": "code",
   "execution_count": null,
   "metadata": {},
   "outputs": [],
   "source": [
    "# 数値 → 文字列 str()\n",
    "score = 85\n",
    "score_str = str(score)  # 数値を文字列に変換\n",
    "message = \"得点は\" + score_str + \"点です\"\n",
    "print(message)  # 得点は85点です\n",
    "\n",
    "# 小数 → 文字列 str()\n",
    "height = 170.5\n",
    "height_str = str(height)  # 小数を文字列に変換\n",
    "print(\"身長は\" + height_str + \"cmです\")  # 身長は170.5cmです"
   ]
  },
  {
   "cell_type": "markdown",
   "metadata": {},
   "source": [
    "整数と小数の変換"
   ]
  },
  {
   "cell_type": "code",
   "execution_count": null,
   "metadata": {},
   "outputs": [],
   "source": [
    "# 小数 → 整数 (小数点以下切り捨て)\n",
    "height = int(170.8)  # 170\n",
    "price = int(1200.9)  # 1200\n",
    "\n",
    "# 整数 → 小数\n",
    "count = float(80)  # 80.0\n",
    "rate = float(100)  # 100.0"
   ]
  },
  {
   "cell_type": "markdown",
   "metadata": {},
   "source": [
    "具体的な型変換の例"
   ]
  },
  {
   "cell_type": "code",
   "execution_count": null,
   "metadata": {},
   "outputs": [],
   "source": [
    "# 入力された文字列を数値として計算\n",
    "height_str = \"170.5\"\n",
    "weight_str = \"60.2\"\n",
    "\n",
    "height = float(height_str)\n",
    "weight = float(weight_str)\n",
    "\n",
    "# BMI の計算\n",
    "bmi = weight / (height / 100) ** 2\n",
    "# 小数点第 1 位まで表示\n",
    "print(\"BMI:\", round(bmi, 1))  # BMI: 24.2\n",
    "\n",
    "# 計算結果を文字列として整形\n",
    "result = f\"身長 {height} cm, 体重 {weight} kg の BMI は {round(bmi, 1)} です\"\n",
    "print(result)  # 身長 170.5cm, 体重60.2kg の BMI は 24.2 です"
   ]
  },
  {
   "cell_type": "markdown",
   "metadata": {},
   "source": [
    "ユーザー入力の処理"
   ]
  },
  {
   "cell_type": "code",
   "execution_count": null,
   "metadata": {},
   "outputs": [],
   "source": [
    "# ユーザーからの入力は常に文字列として扱われます\n",
    "# 実際のプログラムでは input() を使って、ユーザーからの入力を受け取ります\n",
    "age_str = \"16\"\n",
    "age = int(age_str)\n",
    "next_year = age + 1\n",
    "print(f\"来年は{next_year}歳になります\")  # 来年は17歳になります"
   ]
  },
  {
   "cell_type": "markdown",
   "metadata": {},
   "source": [
    "データの表示整形"
   ]
  },
  {
   "cell_type": "code",
   "execution_count": null,
   "metadata": {},
   "outputs": [],
   "source": [
    "score = 85\n",
    "total = 100\n",
    "rate = score / total * 100\n",
    "message = f\"得点率は {str(round(rate, 1))}% です\"\n",
    "print(message)  # 得点率は 85.0% です"
   ]
  },
  {
   "cell_type": "markdown",
   "metadata": {},
   "source": [
    "複数の型変換を組み合わせる"
   ]
  },
  {
   "cell_type": "code",
   "execution_count": null,
   "metadata": {},
   "outputs": [],
   "source": [
    "# 文字列の小数を整数に変換\n",
    "price_str = \"1200.8\"\n",
    "price = int(float(price_str))  # 一度 float に変換してから int に変換\n",
    "print(price)  # 1200"
   ]
  },
  {
   "cell_type": "markdown",
   "metadata": {},
   "source": [
    "真偽値の基本"
   ]
  },
  {
   "cell_type": "code",
   "execution_count": null,
   "metadata": {},
   "outputs": [],
   "source": [
    "is_student = True  # はい、学生です\n",
    "has_pet = False  # いいえ、ペットは飼っていません\n",
    "\n",
    "print(type(is_student))  # <class 'bool'>"
   ]
  },
  {
   "cell_type": "markdown",
   "metadata": {},
   "source": [
    "数値の比較"
   ]
  },
  {
   "cell_type": "code",
   "execution_count": null,
   "metadata": {},
   "outputs": [],
   "source": [
    "age = 16\n",
    "print(age > 15)  # True （15 より大きい）\n",
    "print(age < 20)  # True （20 より小さい）\n",
    "print(age == 16)  # True （16 と等しい）\n",
    "print(age != 18)  # True （18 と異なる）\n",
    "print(age >= 16)  # True （16 以上）\n",
    "print(age <= 16)  # True （16 以下）"
   ]
  },
  {
   "cell_type": "markdown",
   "metadata": {},
   "source": [
    "テストの合否判定"
   ]
  },
  {
   "cell_type": "code",
   "execution_count": null,
   "metadata": {},
   "outputs": [],
   "source": [
    "score = 85\n",
    "pass_score = 70\n",
    "\n",
    "is_passed: bool = score >= pass_score\n",
    "print(\"合格ですか？:\", is_passed)  # True\n",
    "\n",
    "# 点数の範囲チェック\n",
    "is_excellent: bool = score >= 90\n",
    "is_good: bool = score >= 80 and score < 90\n",
    "is_average: bool = score >= 70 and score < 80\n",
    "\n",
    "print(\"優秀な成績ですか？:\", is_excellent)  # False\n",
    "print(\"良い成績ですか？:\", is_good)  # True\n",
    "print(\"平均的な成績ですか？:\", is_average)  # False"
   ]
  },
  {
   "cell_type": "markdown",
   "metadata": {},
   "source": [
    "文字列の比較"
   ]
  },
  {
   "cell_type": "code",
   "execution_count": null,
   "metadata": {},
   "outputs": [],
   "source": [
    "name = \"山田\"\n",
    "print(name == \"山田\")  # True （完全に一致）\n",
    "print(name != \"田中\")  # True （異なる）\n",
    "\n",
    "# 文字の大小比較 （辞書順）\n",
    "print(\"apple\" < \"banana\")  # True （アルファベット順）\n",
    "print(\"山田\" < \"田中\")  # True （50 音順）"
   ]
  },
  {
   "cell_type": "markdown",
   "metadata": {},
   "source": [
    "複数の条件を組み合わせる"
   ]
  },
  {
   "cell_type": "code",
   "execution_count": null,
   "metadata": {},
   "outputs": [],
   "source": [
    "age = 16\n",
    "score = 85\n",
    "\n",
    "# and （両方の条件が True なら True）\n",
    "is_eligible = age >= 15 and score >= 80\n",
    "print(\"参加資格がありますか？:\", is_eligible)  # True\n",
    "\n",
    "# or （どちらかの条件が True なら True）\n",
    "needs_support = score < 60 or age < 15\n",
    "print(\"サポートが必要ですか？:\", needs_support)  # False\n",
    "\n",
    "# not （条件を逆転させる）\n",
    "is_adult = age >= 18\n",
    "is_child = not is_adult\n",
    "print(\"子供ですか？:\", is_child)  # True"
   ]
  },
  {
   "cell_type": "markdown",
   "metadata": {},
   "source": [
    "真偽値の計算例"
   ]
  },
  {
   "cell_type": "code",
   "execution_count": null,
   "metadata": {},
   "outputs": [],
   "source": [
    "age = 16\n",
    "score = 85\n",
    "print(age > 15 and score < 90)  # True\n",
    "print(age == 18 or score >= 80)  # True\n",
    "print(not (age < 15))  # True"
   ]
  },
  {
   "cell_type": "markdown",
   "metadata": {},
   "source": [
    "実際のプログラムでの使用例"
   ]
  },
  {
   "cell_type": "code",
   "execution_count": null,
   "metadata": {},
   "outputs": [],
   "source": [
    "# 映画の年齢制限チェック\n",
    "age = 16\n",
    "movie_rating = 15\n",
    "can_watch = age >= movie_rating\n",
    "print(\"映画を見られますか？:\", can_watch)  # True\n",
    "\n",
    "# 商品の在庫チェック\n",
    "stock = 5\n",
    "min_stock = 3\n",
    "needs_restock = stock <= min_stock\n",
    "print(\"在庫の補充が必要ですか？:\", needs_restock)  # False\n",
    "\n",
    "# クーポン使用の条件チェック\n",
    "purchase_amount = 3000\n",
    "is_member = True\n",
    "can_use_coupon = purchase_amount >= 2000 and is_member\n",
    "print(\"クーポンは使用できますか？:\", can_use_coupon)  # True"
   ]
  },
  {
   "cell_type": "markdown",
   "metadata": {},
   "source": [
    "成績管理プログラムの例"
   ]
  },
  {
   "cell_type": "code",
   "execution_count": null,
   "metadata": {},
   "outputs": [],
   "source": [
    "# 生徒の情報を変数で管理\n",
    "name: str = \"山田太郎\"\n",
    "grade: int = 2\n",
    "class_number: str = \"A\"\n",
    "math_score: int = 92\n",
    "english_score: int = 78\n",
    "is_passed: bool = True\n",
    "\n",
    "# 情報を整形して表示\n",
    "print(\"=== 成績情報 ===\")\n",
    "print(\"名前：\" + name)\n",
    "print(\"学年：\" + str(grade))\n",
    "print(\"クラス：\" + class_number)\n",
    "print(\"数学：\" + str(math_score) + \"点\")\n",
    "print(\"英語：\" + str(english_score) + \"点\")\n",
    "print(\"合格：\" + str(is_passed))\n",
    "\n",
    "# 平均点の計算と判定\n",
    "total = math_score + english_score\n",
    "average = total / 2\n",
    "is_excellent = average >= 90\n",
    "\n",
    "print(\"合計点：\" + str(total) + \"点\")\n",
    "print(\"平均点：\" + str(average) + \"点\")\n",
    "print(\"優秀者：\" + str(is_excellent))"
   ]
  },
  {
   "cell_type": "markdown",
   "metadata": {},
   "source": [
    "f-strings を使った表示方法"
   ]
  },
  {
   "cell_type": "code",
   "execution_count": null,
   "metadata": {},
   "outputs": [],
   "source": [
    "print(f\"=== {name}の成績情報 ===\")\n",
    "print(f\"学年：{grade}年{class_number}組\")\n",
    "print(f\"数学：{math_score}点\")\n",
    "print(f\"英語：{english_score}点\")\n",
    "print(f\"平均：{average:.1f}点\")  # 小数点 1 桁まで表示"
   ]
  },
  {
   "cell_type": "markdown",
   "metadata": {},
   "source": [
    "商品情報の管理"
   ]
  },
  {
   "cell_type": "code",
   "execution_count": null,
   "metadata": {},
   "outputs": [],
   "source": [
    "product_name: str = \"ノート\"\n",
    "price: int = 280\n",
    "quantity: int = 25\n",
    "tax_rate: float = 0.10\n",
    "is_available: bool = True\n",
    "\n",
    "# 在庫金額の計算\n",
    "total_price: int = price * quantity\n",
    "tax_amount: float = total_price * tax_rate\n",
    "total_with_tax: float = float(total_price) + tax_amount\n",
    "\n",
    "# 在庫状況の判定\n",
    "is_low_stock: bool = quantity < 20\n",
    "needs_reorder: bool = quantity <= 10\n",
    "\n",
    "# 情報の表示\n",
    "print(f\"【商品情報】\")\n",
    "print(f\"商品名：{product_name}\")\n",
    "print(f\"単価：{price}円\")\n",
    "print(f\"在庫数：{quantity}個\")\n",
    "print(f\"在庫金額：{total_price}円\")\n",
    "print(f\"消費税：{tax_amount}円\")\n",
    "print(f\"税込金額：{total_with_tax}円\")\n",
    "print(f\"販売可能：{is_available}\")\n",
    "print(f\"在庫少：{is_low_stock}\")\n",
    "print(f\"要発注：{needs_reorder}\")"
   ]
  },
  {
   "cell_type": "markdown",
   "metadata": {},
   "source": [
    "f-strings の便利な機能"
   ]
  },
  {
   "cell_type": "code",
   "execution_count": null,
   "metadata": {},
   "outputs": [],
   "source": [
    "price: int = 1234567\n",
    "rate: float = 3.14159\n",
    "\n",
    "print(f\"価格：{price:,}円\")  # カンマ区切り\n",
    "print(f\"比率：{rate:.2f}\")  # 小数点 2 桁まで\n",
    "print(f\"名前：{'山田':10}さん\")  # 10 文字分の空白確保"
   ]
  },
  {
   "cell_type": "markdown",
   "metadata": {},
   "source": [
    "名前と年齢を入力し、「あなたは ◯ 歳です」と表示するプログラム"
   ]
  },
  {
   "cell_type": "code",
   "execution_count": null,
   "metadata": {},
   "outputs": [],
   "source": [
    "# input() 関数を使ってキーボードから入力を受け取る\n",
    "name = input(\"お名前を入力してください：\")\n",
    "age: str = input(\"年齢を入力してください：\")\n",
    "\n",
    "# 入力された年齢は文字列なので、計算するときは数値に変換する\n",
    "age_num = int(age)\n",
    "\n",
    "print(\"こんにちは、\" + name + \"さん！\")\n",
    "print(\"あなたは\" + age + \"歳です\")\n",
    "print(\"来年は\" + str(age_num + 1) + \"歳になりますね\")\n",
    "\n",
    "# f-strings を使うと、もっと簡潔に書けます。自動で str に変換してくれます。\n",
    "print(f\"こんにちは、{name}さん！\")\n",
    "print(f\"あなたは{age}歳です\")\n",
    "print(f\"来年は{age_num + 1}歳になりますね\")"
   ]
  },
  {
   "cell_type": "markdown",
   "metadata": {},
   "source": [
    "2 つの数字を入力し、その合計を「◯ + ◯ = ◯」と表示するプログラム"
   ]
  },
  {
   "cell_type": "code",
   "execution_count": null,
   "metadata": {},
   "outputs": [],
   "source": [
    "num1 = input(\"1 つ目の数字を入力してください：\")\n",
    "num2 = input(\"2 つ目の数字を入力してください：\")\n",
    "\n",
    "num1 = int(num1)\n",
    "num2 = int(num2)\n",
    "\n",
    "sum_result = num1 + num2\n",
    "print(f\"{num1} + {num2} = {sum_result}\")"
   ]
  }
 ],
 "metadata": {
  "language_info": {
   "name": "python"
  }
 },
 "nbformat": 4,
 "nbformat_minor": 2
}
