{
 "cells": [
  {
   "cell_type": "markdown",
   "metadata": {},
   "source": [
    "構文エラーの例"
   ]
  },
  {
   "cell_type": "code",
   "execution_count": null,
   "metadata": {},
   "outputs": [],
   "source": [
    "# カッコの閉じ忘れ\n",
    "print(\"Hello World\"  # 閉じカッコがない\n",
    "\n",
    "# コロンの忘れ\n",
    "if x > 5\n",
    "    print(\"x は 5 より大きい\")  # if 文の後のコロンがない"
   ]
  },
  {
   "cell_type": "markdown",
   "metadata": {},
   "source": [
    "インデントエラーの例"
   ]
  },
  {
   "cell_type": "code",
   "execution_count": null,
   "metadata": {},
   "outputs": [],
   "source": [
    "if x > 5:\n",
    "print(\"x は 5 より大きい\")  # インデントがない\n",
    "\n",
    "# または混在したインデント\n",
    "if x > 5:\n",
    "    print(\"正しいインデント\")\n",
    "   print(\"間違ったインデント\")  # スペースの数が違う"
   ]
  },
  {
   "cell_type": "markdown",
   "metadata": {},
   "source": [
    "名前エラーの例"
   ]
  },
  {
   "cell_type": "code",
   "execution_count": null,
   "metadata": {},
   "outputs": [],
   "source": [
    "# 変数名のタイプミス\n",
    "message = \"こんにちは\"\n",
    "print(mesage)  # 正しくは message\n",
    "\n",
    "# 定義前に使用\n",
    "print(total)  # total はまだ定義されていない\n",
    "total = 0\n"
   ]
  },
  {
   "cell_type": "markdown",
   "metadata": {},
   "source": [
    "型エラーの例"
   ]
  },
  {
   "cell_type": "code",
   "execution_count": null,
   "metadata": {},
   "outputs": [],
   "source": [
    "# 文字列と数値の足し算\n",
    "name = \"山田\"\n",
    "age = 15\n",
    "result = name + age  # 文字列と数値は直接足せない\n",
    "\n",
    "# 数値でない物に掛け算\n",
    "result = \"hello\" * \"world\"  # 文字列同士の掛け算はできない"
   ]
  },
  {
   "cell_type": "markdown",
   "metadata": {},
   "source": [
    "インデックスエラーの例"
   ]
  },
  {
   "cell_type": "code",
   "execution_count": null,
   "metadata": {},
   "outputs": [],
   "source": [
    "fruits = [\"りんご\", \"バナナ\", \"オレンジ\"]\n",
    "print(fruits[3])  # インデックスは 0, 1, 2 しかない\n",
    "\n",
    "name = \"Python\"\n",
    "print(name[10])  # 文字列の長さは 6 なので 10 番目の文字はない"
   ]
  },
  {
   "cell_type": "markdown",
   "metadata": {},
   "source": [
    "属性エラーの例"
   ]
  },
  {
   "cell_type": "code",
   "execution_count": null,
   "metadata": {},
   "outputs": [],
   "source": [
    "number = 42\n",
    "number.append(10)  # 数値型には append メソッドはない\n",
    "\n",
    "text = \"Hello\"\n",
    "text.update()  # 文字列型には update メソッドはない"
   ]
  },
  {
   "cell_type": "markdown",
   "metadata": {},
   "source": [
    "タイプミスの例と対策"
   ]
  },
  {
   "cell_type": "code",
   "execution_count": null,
   "metadata": {},
   "outputs": [],
   "source": [
    "# 間違った例\n",
    "counter = 0\n",
    "conter = conter + 1  # counter のタイプミス\n",
    "\n",
    "# 対策：変数名を統一し、わかりやすい命名を心がける\n",
    "counter = 0\n",
    "counter = counter + 1  # 正しく counter と書く"
   ]
  },
  {
   "cell_type": "markdown",
   "metadata": {},
   "source": [
    "カッコの対応忘れの例と対策"
   ]
  },
  {
   "cell_type": "code",
   "execution_count": null,
   "metadata": {},
   "outputs": [],
   "source": [
    "# 間違った例\n",
    "print(\"Hello\", (2 + 3 * 4)  # 閉じカッコが足りない\n",
    "\n",
    "# 対策：エディタの括弧強調機能を使う\n",
    "print(\"Hello\", (2 + 3 * 4))  # 正しく閉じカッコを入れる"
   ]
  },
  {
   "cell_type": "markdown",
   "metadata": {},
   "source": [
    "インデントのズレの例と対策"
   ]
  },
  {
   "cell_type": "code",
   "execution_count": null,
   "metadata": {},
   "outputs": [],
   "source": [
    "# 間違った例\n",
    "if x > 5:\n",
    "    print(\"x は 5 より大きい\")\n",
    "   print(\"処理を続けます\")  # インデントが揃っていない\n",
    "\n",
    "# 対策：インデントを揃える\n",
    "if x > 5:\n",
    "    print(\"x は 5 より大きい\")\n",
    "    print(\"処理を続けます\")  # インデントを揃える"
   ]
  },
  {
   "cell_type": "markdown",
   "metadata": {},
   "source": [
    "型の混在の例と対策"
   ]
  },
  {
   "cell_type": "code",
   "execution_count": null,
   "metadata": {},
   "outputs": [],
   "source": [
    "# 間違った例\n",
    "age = input(\"年齢を入力してください: \")\n",
    "birth_year = 2023 - age  # input は文字列を返すので計算できない\n",
    "\n",
    "# 対策：適切な型変換を行う\n",
    "age = input(\"年齢を入力してください: \")\n",
    "birth_year = 2023 - int(age)  # int() で数値に変換"
   ]
  },
  {
   "cell_type": "markdown",
   "metadata": {},
   "source": [
    "基本的な try-except"
   ]
  },
  {
   "cell_type": "code",
   "execution_count": null,
   "metadata": {},
   "outputs": [],
   "source": [
    "try:\n",
    "    # エラーが発生するかもしれない処理\n",
    "    number = int(input(\"数字を入力してください：\"))\n",
    "    print(f\"入力された数字は {number} です\")\n",
    "except ValueError:\n",
    "    # 数値に変換できないときの処理\n",
    "    print(\"数字以外が入力されました\")"
   ]
  },
  {
   "cell_type": "markdown",
   "metadata": {},
   "source": [
    "複数のエラーを扱う"
   ]
  },
  {
   "cell_type": "code",
   "execution_count": null,
   "metadata": {},
   "outputs": [],
   "source": [
    "try:\n",
    "    num1 = int(input(\"1つ目の数字：\"))\n",
    "    num2 = int(input(\"2つ目の数字：\"))\n",
    "    result = num1 / num2\n",
    "    print(f\"結果：{result}\")\n",
    "except ValueError:\n",
    "    # 数値への変換に失敗した場合\n",
    "    print(\"数字を入力してください\")\n",
    "except ZeroDivisionError:\n",
    "    # 0 で割ろうとした場合\n",
    "    print(\"0 で割ることはできません\")\n",
    "except Exception:\n",
    "    # その他のすべてのエラー\n",
    "    print(\"予期せぬエラーが発生しました\")"
   ]
  },
  {
   "cell_type": "markdown",
   "metadata": {},
   "source": [
    "else と finally を使った完全な形"
   ]
  },
  {
   "cell_type": "code",
   "execution_count": null,
   "metadata": {},
   "outputs": [],
   "source": [
    "try:\n",
    "    number = int(input(\"数字を入力してください：\"))\n",
    "except ValueError:\n",
    "    print(\"数字以外が入力されました\")\n",
    "else:\n",
    "    # エラーが発生しなかった場合に実行される\n",
    "    print(f\"正しく数字 {number} が入力されました\")\n",
    "finally:\n",
    "    # エラーの有無にかかわらず必ず実行される\n",
    "    print(\"処理を終了します\")"
   ]
  },
  {
   "cell_type": "markdown",
   "metadata": {},
   "source": [
    "インデックスエラーの修正"
   ]
  },
  {
   "cell_type": "code",
   "execution_count": null,
   "metadata": {},
   "outputs": [],
   "source": [
    "# エラーコード\n",
    "fruits = [\"りんご\", \"バナナ\", \"オレンジ\"]\n",
    "print(fruits[3])  # IndexError: list index out of range\n",
    "\n",
    "# 修正方法 1: 正しいインデックスを使用\n",
    "print(fruits[2])  # オレンジ（3番目の要素はインデックス2）\n",
    "\n",
    "# 修正方法 2: インデックスの範囲をチェック\n",
    "if len(fruits) > 3:\n",
    "    print(fruits[3])\n",
    "else:\n",
    "    print(\"インデックスが範囲外です\")"
   ]
  },
  {
   "cell_type": "markdown",
   "metadata": {},
   "source": [
    "名前エラーの修正"
   ]
  },
  {
   "cell_type": "code",
   "execution_count": null,
   "metadata": {},
   "outputs": [],
   "source": [
    "# エラーコード\n",
    "price = 1200\n",
    "total = price * quantity  # NameError: name 'quantity' is not defined\n",
    "\n",
    "# 修正方法: 変数を事前に定義する\n",
    "price = 1200\n",
    "quantity = 3  # 変数を定義\n",
    "total = price * quantity  # これで正しく動作"
   ]
  },
  {
   "cell_type": "markdown",
   "metadata": {},
   "source": [
    "型エラーの修正"
   ]
  },
  {
   "cell_type": "code",
   "execution_count": null,
   "metadata": {},
   "outputs": [],
   "source": [
    "# エラーコード\n",
    "text = \"答え：\" + 42  # TypeError: can only concatenate str (not \"int\") to str\n",
    "\n",
    "# 修正方法 1: 整数を文字列に変換\n",
    "text = \"答え：\" + str(42)  # str() で整数を文字列に変換\n",
    "\n",
    "# 修正方法 2: f文字列を使用\n",
    "text = f\"答え：{42}\"  # f文字列なら型を気にする必要がない"
   ]
  },
  {
   "cell_type": "markdown",
   "metadata": {},
   "source": [
    "基本的な print デバッグ"
   ]
  },
  {
   "cell_type": "code",
   "execution_count": null,
   "metadata": {},
   "outputs": [],
   "source": [
    "def calculate_total(items):\n",
    "    total = 0\n",
    "    print(f\"計算開始：items = {items}\")  # デバッグ用出力\n",
    "\n",
    "    for item in items:\n",
    "        print(f\"処理中：item = {item}\")  # 各ステップの確認\n",
    "        total += item\n",
    "        print(f\"現在の合計：{total}\")  # 中間結果の確認\n",
    "\n",
    "    print(f\"計算終了：total = {total}\")  # 最終結果の確認\n",
    "    return total\n",
    "\n",
    "\n",
    "# プログラムの実行\n",
    "numbers = [10, 20, 30]\n",
    "result = calculate_total(numbers)"
   ]
  },
  {
   "cell_type": "markdown",
   "metadata": {},
   "source": [
    "目印をつけた print デバッグ"
   ]
  },
  {
   "cell_type": "code",
   "execution_count": null,
   "metadata": {},
   "outputs": [],
   "source": [
    "x = 10\n",
    "y = 20\n",
    "\n",
    "print(\"===== [DEBUG] 関数開始 =====\")\n",
    "print(f\"[DEBUG] 変数 x の値: {x}\")\n",
    "print(f\"[DEBUG] 変数 y の値: {y}\")\n",
    "print(\"===== [DEBUG] 関数終了 =====\")"
   ]
  },
  {
   "cell_type": "markdown",
   "metadata": {},
   "source": [
    "変数の型を確認する"
   ]
  },
  {
   "cell_type": "code",
   "execution_count": null,
   "metadata": {},
   "outputs": [],
   "source": [
    "value = input(\"数値を入力: \")\n",
    "print(f\"[DEBUG] value の値: {value}, 型: {type(value)}\")\n",
    "# 出力例: [DEBUG] value の値: 123, 型: <class 'str'>\n",
    "\n",
    "# 数値計算の前に型を確認し、必要に応じて変換\n",
    "if isinstance(value, str):\n",
    "    value = int(value)"
   ]
  },
  {
   "cell_type": "markdown",
   "metadata": {},
   "source": [
    "条件分岐の追跡"
   ]
  },
  {
   "cell_type": "code",
   "execution_count": null,
   "metadata": {},
   "outputs": [],
   "source": [
    "score = 75\n",
    "\n",
    "print(f\"[DEBUG] score の値: {score}\")\n",
    "\n",
    "if score >= 90:\n",
    "    print(\"[DEBUG] 条件1が True: score >= 90\")\n",
    "    grade = \"A\"\n",
    "elif score >= 80:\n",
    "    print(\"[DEBUG] 条件2が True: score >= 80\")\n",
    "    grade = \"B\"\n",
    "elif score >= 70:\n",
    "    print(\"[DEBUG] 条件3が True: score >= 70\")\n",
    "    grade = \"C\"\n",
    "else:\n",
    "    print(\"[DEBUG] すべての条件が False\")\n",
    "    grade = \"D\"\n",
    "\n",
    "print(f\"[DEBUG] 最終的な grade: {grade}\")"
   ]
  },
  {
   "cell_type": "markdown",
   "metadata": {},
   "source": [
    "ループの追跡"
   ]
  },
  {
   "cell_type": "code",
   "execution_count": null,
   "metadata": {},
   "outputs": [],
   "source": [
    "numbers = [10, -5, 20, -8, 15]\n",
    "positive_sum = 0\n",
    "\n",
    "print(f\"[DEBUG] 入力リスト: {numbers}\")\n",
    "\n",
    "for i, num in enumerate(numbers):\n",
    "    print(f\"[DEBUG] ループ {i + 1}回目: num = {num}\")\n",
    "\n",
    "    if num > 0:\n",
    "        print(f\"[DEBUG] 正の数を検出: {num}\")\n",
    "        positive_sum += num\n",
    "        print(f\"[DEBUG] 現在の positive_sum: {positive_sum}\")\n",
    "\n",
    "print(f\"[DEBUG] 最終的な正の数の合計: {positive_sum}\")"
   ]
  },
  {
   "cell_type": "markdown",
   "metadata": {},
   "source": [
    "読みやすいコード（良い例）"
   ]
  },
  {
   "cell_type": "code",
   "execution_count": null,
   "metadata": {},
   "outputs": [],
   "source": [
    "def calculate_result(base_num: int, add_num: int, multiplier: int) -> int | float:\n",
    "    \"\"\"2 つの数の和を計算し、条件に応じて乗算または除算を行う.\n",
    "\n",
    "    Args:\n",
    "        base_num: 基準となる数\n",
    "        add_num: 加算する数\n",
    "        multiplier: 乗除算に使う数\n",
    "\n",
    "    Returns:\n",
    "        int: 計算結果\n",
    "    \"\"\"\n",
    "    # 最初の 2 つの数を加算\n",
    "    sum_result = base_num + add_num\n",
    "\n",
    "    # 合計が 10 より大きければ乗算、それ以外は除算\n",
    "    if sum_result > 10:\n",
    "        final_result = sum_result * multiplier\n",
    "    else:\n",
    "        final_result = sum_result / multiplier\n",
    "\n",
    "    return final_result\n",
    "\n",
    "\n",
    "print(calculate_result(1, 2, 3))"
   ]
  },
  {
   "cell_type": "markdown",
   "metadata": {},
   "source": [
    "変数名の良い例と悪い例"
   ]
  },
  {
   "cell_type": "code",
   "execution_count": null,
   "metadata": {},
   "outputs": [],
   "source": [
    "# 悪い例\n",
    "a = 15  # 何を表す変数か分からない\n",
    "lst = [10, 20, 30]  # 中身が分からない\n",
    "tmp = \"東京都\"  # 一時的な変数なのか、何のデータなのか不明\n",
    "\n",
    "# 良い例\n",
    "age = 15  # 年齢であることが明確\n",
    "scores = [10, 20, 30]  # 点数のリストであることが分かる\n",
    "city_name = \"東京都\"  # 都市名であることが分かる\n"
   ]
  },
  {
   "cell_type": "markdown",
   "metadata": {},
   "source": [
    "関数名の良い例と悪い例"
   ]
  },
  {
   "cell_type": "code",
   "execution_count": null,
   "metadata": {},
   "outputs": [],
   "source": [
    "# 悪い例\n",
    "def calc(scores):  # 何を計算するのか不明\n",
    "    return sum(scores) / len(scores)\n",
    "\n",
    "\n",
    "# 良い例\n",
    "def calculate_average(scores):  # 平均値を計算することが明確\n",
    "    return sum(scores) / len(scores)"
   ]
  },
  {
   "cell_type": "markdown",
   "metadata": {},
   "source": [
    "ドキュメンテーション文字列"
   ]
  },
  {
   "cell_type": "code",
   "execution_count": null,
   "metadata": {},
   "outputs": [],
   "source": [
    "def calculate_discount(price, discount_rate):\n",
    "    \"\"\"\n",
    "    商品の割引後価格を計算する関数\n",
    "\n",
    "    Args:\n",
    "        price: 元の価格\n",
    "        discount_rate: 割引率（0.0〜1.0）\n",
    "\n",
    "    Returns:\n",
    "        割引後の価格（小数点以下切り捨て）\n",
    "    \"\"\"\n",
    "    discounted_price = price * (1 - discount_rate)\n",
    "    return int(discounted_price)"
   ]
  },
  {
   "cell_type": "markdown",
   "metadata": {},
   "source": [
    "コード説明コメントの例"
   ]
  },
  {
   "cell_type": "code",
   "execution_count": null,
   "metadata": {},
   "outputs": [],
   "source": [
    "# ユーザー入力の値を数値に変換し、エラー処理を行う\n",
    "try:\n",
    "    user_input = input(\"数値を入力してください: \")\n",
    "    number = float(user_input)\n",
    "except ValueError:\n",
    "    print(\"有効な数値を入力してください\")\n",
    "    number = 0"
   ]
  },
  {
   "cell_type": "markdown",
   "metadata": {},
   "source": [
    "警告コメントの例"
   ]
  },
  {
   "cell_type": "code",
   "execution_count": null,
   "metadata": {},
   "outputs": [],
   "source": [
    "def fetch_data_from_api(user_id: str) -> None:\n",
    "    \"\"\"API からデータを取得する関数.\n",
    "\n",
    "    Args:\n",
    "        user_id: ユーザーの ID\n",
    "    \"\"\"\n",
    "    pass\n",
    "\n",
    "\n",
    "# 注意: この API は 1 分間に最大 60 回までしか呼び出せません\n",
    "# 頻繁に呼び出すとエラーになる可能性があります\n",
    "fetch_data_from_api(user_id=\"1234567890\")"
   ]
  },
  {
   "cell_type": "markdown",
   "metadata": {},
   "source": [
    "インデントと空白の例"
   ]
  },
  {
   "cell_type": "code",
   "execution_count": null,
   "metadata": {},
   "outputs": [],
   "source": [
    "# 良い例 （一貫したインデント、適切な空白）\n",
    "def calculate(a, b):\n",
    "    result = a + b\n",
    "\n",
    "    if result > 10:\n",
    "        return result * 2\n",
    "    else:\n",
    "        return result"
   ]
  },
  {
   "cell_type": "markdown",
   "metadata": {},
   "source": [
    "空行による区切りの例"
   ]
  },
  {
   "cell_type": "code",
   "execution_count": null,
   "metadata": {},
   "outputs": [],
   "source": [
    "# 入力を受け取る\n",
    "name = input(\"名前を入力してください: \")\n",
    "age = int(input(\"年齢を入力してください: \"))\n",
    "\n",
    "# 条件に基づいて処理\n",
    "if age >= 20:\n",
    "    message = f\"{name}さんは成人です\"\n",
    "else:\n",
    "    message = f\"{name}さんは未成年です\"\n",
    "\n",
    "# 結果を表示\n",
    "print(message)"
   ]
  },
  {
   "cell_type": "markdown",
   "metadata": {},
   "source": [
    "基本的なエラー"
   ]
  },
  {
   "cell_type": "code",
   "execution_count": null,
   "metadata": {},
   "outputs": [],
   "source": [
    "def practice_errors():\n",
    "    # 1. NameError: 定義されていない変数を使用\n",
    "    try:\n",
    "        print(undefined_name)  # この変数は定義されていない\n",
    "    except NameError as e:\n",
    "        print(f\"変数が定義されていません：{e}\")\n",
    "        print(f\"エラーの種類：{type(e).__name__}\")\n",
    "        print(\"--------------------\")\n",
    "\n",
    "    # 2. TypeError: 異なる型の演算\n",
    "    try:\n",
    "        result = \"hello\" + 123  # 文字列と数値は直接足せない\n",
    "    except TypeError as e:\n",
    "        print(f\"型が合っていません：{e}\")\n",
    "        print(f\"エラーの種類：{type(e).__name__}\")\n",
    "        print(\"--------------------\")\n",
    "\n",
    "    # 3. IndexError: リストの範囲外にアクセス\n",
    "    try:\n",
    "        list_data = [1, 2, 3]\n",
    "        print(list_data[10])  # リストの範囲外のインデックス\n",
    "    except IndexError as e:\n",
    "        print(f\"リストの範囲外です：{e}\")\n",
    "        print(f\"エラーの種類：{type(e).__name__}\")\n",
    "        print(\"--------------------\")\n",
    "\n",
    "\n",
    "# 実行\n",
    "practice_errors()"
   ]
  },
  {
   "cell_type": "markdown",
   "metadata": {},
   "source": [
    "例外クラスの階層を確認"
   ]
  },
  {
   "cell_type": "code",
   "execution_count": null,
   "metadata": {},
   "outputs": [],
   "source": [
    "def explore_exception_hierarchy():\n",
    "    # 例外クラスの階層を確認\n",
    "    import builtins\n",
    "\n",
    "    # 組み込み例外の一覧を取得\n",
    "    exception_classes = []\n",
    "\n",
    "    for name in dir(builtins):\n",
    "        obj = getattr(builtins, name)\n",
    "        if isinstance(obj, type) and issubclass(obj, BaseException):\n",
    "            exception_classes.append(obj)\n",
    "\n",
    "    # 例外の階層を表示\n",
    "    for exc_class in exception_classes:\n",
    "        if exc_class.__base__ is BaseException or exc_class.__base__ is Exception:\n",
    "            print(f\"{exc_class.__name__}\")\n",
    "\n",
    "            # サブクラスを表示\n",
    "            for sub_class in exception_classes:\n",
    "                if sub_class.__base__ is exc_class and sub_class is not exc_class:\n",
    "                    print(f\"  └─ {sub_class.__name__}\")\n",
    "\n",
    "\n",
    "explore_exception_hierarchy()"
   ]
  },
  {
   "cell_type": "markdown",
   "metadata": {},
   "source": [
    "Student クラスの例"
   ]
  },
  {
   "cell_type": "code",
   "execution_count": null,
   "metadata": {},
   "outputs": [],
   "source": [
    "class Student:\n",
    "    def __init__(self, name: str, age: int):\n",
    "        self.name = name\n",
    "        self.age = age\n",
    "\n",
    "    def calculate_grade(self, score: int) -> str:\n",
    "        \"\"\"点数から成績を計算するメソッド.\n",
    "\n",
    "        Args:\n",
    "            score (int): 点数\n",
    "\n",
    "        Returns:\n",
    "            str: 成績\n",
    "        \"\"\"\n",
    "        if score < 0 or score > 100:\n",
    "            raise ValueError(\"点数は0〜100の範囲で入力してください\")\n",
    "\n",
    "        if score >= 80:\n",
    "            return \"A\"\n",
    "        elif score >= 70:\n",
    "            return \"B\"\n",
    "        elif score >= 60:\n",
    "            return \"C\"\n",
    "        else:\n",
    "            return \"D\""
   ]
  },
  {
   "cell_type": "markdown",
   "metadata": {},
   "source": [
    "Student オブジェクトの作成"
   ]
  },
  {
   "cell_type": "code",
   "execution_count": null,
   "metadata": {},
   "outputs": [],
   "source": [
    "student_1 = Student(\"John\", 20)\n",
    "student_2 = Student(\"Michel\", 22)"
   ]
  },
  {
   "cell_type": "markdown",
   "metadata": {},
   "source": [
    "HighSchoolStudent クラスの作成"
   ]
  },
  {
   "cell_type": "code",
   "execution_count": null,
   "metadata": {},
   "outputs": [],
   "source": [
    "class HighSchoolStudent(Student):\n",
    "    def __init__(self, name: str, age: int, grade: int):\n",
    "        super().__init__(name, age)\n",
    "        self.grade = grade"
   ]
  },
  {
   "cell_type": "markdown",
   "metadata": {},
   "source": [
    "HighSchoolStudent オブジェクトの作成"
   ]
  },
  {
   "cell_type": "code",
   "execution_count": null,
   "metadata": {},
   "outputs": [],
   "source": [
    "high_school_student = HighSchoolStudent(\"John\", 20, 3)"
   ]
  },
  {
   "cell_type": "markdown",
   "metadata": {},
   "source": [
    "基本的なテスト"
   ]
  },
  {
   "cell_type": "code",
   "execution_count": null,
   "metadata": {},
   "outputs": [],
   "source": [
    "def test_calculation_functions():\n",
    "    \"\"\"計算関数のテスト\"\"\"\n",
    "\n",
    "    # 足し算のテスト\n",
    "    assert add(2, 3) == 5, \"2 + 3 は 5 になるはず\"\n",
    "    assert add(-1, 1) == 0, \"-1 + 1 は 0 になるはず\"\n",
    "\n",
    "    # 掛け算のテスト\n",
    "    assert multiply(2, 3) == 6, \"2 * 3 は 6 になるはず\"\n",
    "    assert multiply(0, 5) == 0, \"0 * 5 は 0 になるはず\"\n",
    "\n",
    "    print(\"すべてのテストが成功しました！\")\n",
    "\n",
    "\n",
    "def add(a, b):\n",
    "    return a + b\n",
    "\n",
    "\n",
    "def multiply(a, b):\n",
    "    return a * b\n",
    "\n",
    "\n",
    "try:\n",
    "    test_calculation_functions()\n",
    "except AssertionError as e:\n",
    "    print(f\"テストが失敗しました：{e}\")\n"
   ]
  },
  {
   "cell_type": "markdown",
   "metadata": {},
   "source": [
    "doctest を使ったテスト"
   ]
  },
  {
   "cell_type": "code",
   "execution_count": null,
   "metadata": {},
   "outputs": [],
   "source": [
    "import doctest\n",
    "\n",
    "\n",
    "def add(a, b):\n",
    "    \"\"\"\n",
    "    2つの数を足して返す関数.\n",
    "\n",
    "    >>> add(1, 2)\n",
    "    3\n",
    "    \"\"\"\n",
    "    return a + b\n",
    "\n",
    "\n",
    "if __name__ == \"__main__\":\n",
    "    doctest.testmod(verbose=True)"
   ]
  },
  {
   "cell_type": "markdown",
   "metadata": {},
   "source": [
    "unittest を使ったテスト"
   ]
  },
  {
   "cell_type": "code",
   "execution_count": null,
   "metadata": {},
   "outputs": [],
   "source": [
    "import unittest\n",
    "\n",
    "\n",
    "class TestCalculationFunctions(unittest.TestCase):\n",
    "    def test_add(self):\n",
    "        \"\"\"add 関数のテスト\"\"\"\n",
    "        self.assertEqual(add(2, 3), 5)\n",
    "        self.assertEqual(add(-1, 1), 0)\n",
    "\n",
    "    def test_multiply(self):\n",
    "        \"\"\"multiply 関数のテスト\"\"\"\n",
    "        self.assertEqual(multiply(2, 3), 6)\n",
    "        self.assertEqual(multiply(0, 5), 0)\n",
    "\n",
    "    def test_average(self):\n",
    "        \"\"\"average 関数のテスト\"\"\"\n",
    "        self.assertEqual(average([1, 2, 3]), 2)\n",
    "        self.assertEqual(average([5, 5, 5]), 5)\n",
    "        self.assertEqual(average([]), 0)\n",
    "\n",
    "\n",
    "def add(a, b):\n",
    "    return a + b\n",
    "\n",
    "\n",
    "def multiply(a, b):\n",
    "    return a * b\n",
    "\n",
    "\n",
    "def average(numbers):\n",
    "    if not numbers:\n",
    "        return 0\n",
    "\n",
    "    return sum(numbers) / len(numbers)\n",
    "\n",
    "\n",
    "if __name__ == \"__main__\":\n",
    "    # 通常のプログラムの場合\n",
    "    # unittest.main()\n",
    "\n",
    "    # Google Colab で実行する場合\n",
    "    unittest.main(argv=[\"first-arg-is-ignored\"], exit=False)"
   ]
  },
  {
   "cell_type": "markdown",
   "metadata": {},
   "source": [
    "入力ミスがあっても止まらず再入力を促す計算プログラム"
   ]
  },
  {
   "cell_type": "code",
   "execution_count": null,
   "metadata": {},
   "outputs": [],
   "source": [
    "def get_number(prompt: str) -> int:\n",
    "    \"\"\"数値を安全に入力させる関数.\"\"\"\n",
    "    while True:\n",
    "        try:\n",
    "            value = int(input(prompt))\n",
    "            return value\n",
    "        except ValueError:\n",
    "            print(\"数字を入力してください\")\n",
    "\n",
    "\n",
    "def safe_calculator() -> None:\n",
    "    \"\"\"エラーに強い電卓プログラム.\"\"\"\n",
    "    while True:\n",
    "        try:\n",
    "            # 数値の入力\n",
    "            num1 = get_number(\"1つ目の数字を入力：\")\n",
    "            num2 = get_number(\"2つ目の数字を入力：\")\n",
    "\n",
    "            # 演算子の入力\n",
    "            operator = input(\"演算子を入力（+, -, *, /）：\")\n",
    "\n",
    "            # 計算実行\n",
    "            if operator == \"+\":\n",
    "                result = num1 + num2\n",
    "            elif operator == \"-\":\n",
    "                result = num1 - num2\n",
    "            elif operator == \"*\":\n",
    "                result = num1 * num2\n",
    "            elif operator == \"/\":\n",
    "                if num2 == 0:\n",
    "                    print(\"0での割り算はできません\")\n",
    "                    continue\n",
    "                result = num1 / num2\n",
    "            else:\n",
    "                print(\"無効な演算子です\")\n",
    "                continue\n",
    "\n",
    "            # 結果表示\n",
    "            print(f\"結果：{result}\")\n",
    "\n",
    "            # 継続確認\n",
    "            if input(\"続けますか？(y/n)：\") != \"y\":\n",
    "                break\n",
    "\n",
    "        except Exception as e:\n",
    "            print(f\"エラーが発生しました：{e}\")\n",
    "            print(\"もう一度試してください\")\n",
    "\n",
    "\n",
    "safe_calculator()"
   ]
  },
  {
   "cell_type": "markdown",
   "metadata": {},
   "source": [
    "存在しないファイルを開こうとしたときにエラーを回避するプログラム"
   ]
  },
  {
   "cell_type": "code",
   "execution_count": null,
   "metadata": {},
   "outputs": [],
   "source": [
    "class VirtualFileSystem:\n",
    "    \"\"\"仮想ファイルシステムクラス.\"\"\"\n",
    "\n",
    "    def __init__(self) -> None:\n",
    "        # 仮想ファイルディレクトリ\n",
    "        self.files = {\n",
    "            \"sample.txt\": \"これはサンプルファイルです。\\n複数行のテキストを含んでいます。\\nPythonプログラミングは楽しいですね。\",\n",
    "            \"data.csv\": \"名前,年齢,職業\\n田中,25,エンジニア\\n佐藤,30,デザイナー\\n鈴木,28,マーケター\",\n",
    "            \"secret.txt\": \"このファイルはアクセス権限が必要です。\",\n",
    "        }\n",
    "\n",
    "        # ファイルのアクセス権限 （True ならアクセス可能）\n",
    "        self.permissions = {\"sample.txt\": True, \"data.csv\": True, \"secret.txt\": False}\n",
    "\n",
    "    def list_files(self) -> None:\n",
    "        \"\"\"利用可能なファイル一覧を表示.\"\"\"\n",
    "        print(\"利用可能なファイル一覧：\")\n",
    "        for filename in self.files.keys():\n",
    "            print(f\"- {filename}\")\n",
    "\n",
    "    def read_file(self, filename: str) -> str | None:\n",
    "        \"\"\"ファイルを安全に読み込む.\"\"\"\n",
    "        try:\n",
    "            if filename not in self.files:\n",
    "                raise FileNotFoundError(f\"ファイル '{filename}' が見つかりません\")\n",
    "\n",
    "            return self.files[filename]\n",
    "\n",
    "        except FileNotFoundError as e:\n",
    "            print(str(e))\n",
    "            return None\n",
    "        except Exception as e:\n",
    "            print(f\"予期せぬエラーが発生しました：{e}\")\n",
    "            return None\n",
    "\n",
    "\n",
    "def process_file() -> None:\n",
    "    \"\"\"ファイル処理プログラム.\"\"\"\n",
    "    # 仮想ファイルシステムの初期化\n",
    "    vfs = VirtualFileSystem()\n",
    "\n",
    "    while True:\n",
    "        print(\"\\n\")\n",
    "        vfs.list_files()\n",
    "        filename = input(\"\\n処理するファイル名を入力してください：\")\n",
    "\n",
    "        # ファイルの読み込み\n",
    "        content = vfs.read_file(filename)\n",
    "\n",
    "        if content is not None:\n",
    "            # ファイルの内容を処理\n",
    "            print(\"\\nファイルの内容:\")\n",
    "            print(content)\n",
    "\n",
    "        # 継続確認\n",
    "        if input(\"\\n他のファイルを処理しますか？(y/n)：\") != \"y\":\n",
    "            break\n",
    "\n",
    "\n",
    "process_file()"
   ]
  }
 ],
 "metadata": {
  "language_info": {
   "name": "python"
  }
 },
 "nbformat": 4,
 "nbformat_minor": 2
}
