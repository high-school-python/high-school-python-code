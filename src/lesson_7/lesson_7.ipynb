{
 "cells": [
  {
   "cell_type": "markdown",
   "metadata": {},
   "source": [
    "構文エラーの例"
   ]
  },
  {
   "cell_type": "code",
   "execution_count": null,
   "metadata": {},
   "outputs": [],
   "source": [
    "# カッコの閉じ忘れ\n",
    "print(\"Hello World\"  # 閉じカッコがない\n",
    "\n",
    "# コロンの忘れ\n",
    "if x > 5\n",
    "    print(\"x は 5 より大きい\")  # if 文の後のコロンがない"
   ]
  },
  {
   "cell_type": "markdown",
   "metadata": {},
   "source": [
    "インデントエラーの例"
   ]
  },
  {
   "cell_type": "code",
   "execution_count": null,
   "metadata": {},
   "outputs": [],
   "source": [
    "if x > 5:\n",
    "print(\"x は 5 より大きい\")  # インデントがない\n",
    "\n",
    "# または混在したインデント\n",
    "if x > 5:\n",
    "    print(\"正しいインデント\")\n",
    "   print(\"間違ったインデント\")  # スペースの数が違う"
   ]
  },
  {
   "cell_type": "markdown",
   "metadata": {},
   "source": [
    "名前エラーの例"
   ]
  },
  {
   "cell_type": "code",
   "execution_count": null,
   "metadata": {},
   "outputs": [],
   "source": [
    "# 変数名のタイプミス\n",
    "message = \"こんにちは\"\n",
    "print(mesage)  # 正しくは message\n",
    "\n",
    "# 定義前に使用\n",
    "print(total)  # total はまだ定義されていない\n",
    "total = 0\n"
   ]
  },
  {
   "cell_type": "markdown",
   "metadata": {},
   "source": [
    "型エラーの例"
   ]
  },
  {
   "cell_type": "code",
   "execution_count": null,
   "metadata": {},
   "outputs": [],
   "source": [
    "# 文字列と数値の足し算\n",
    "name = \"山田\"\n",
    "age = 15\n",
    "result = name + age  # 文字列と数値は直接足せない\n",
    "\n",
    "# 数値でない物に掛け算\n",
    "result = \"hello\" * \"world\"  # 文字列同士の掛け算はできない"
   ]
  },
  {
   "cell_type": "markdown",
   "metadata": {},
   "source": [
    "インデックスエラーの例"
   ]
  },
  {
   "cell_type": "code",
   "execution_count": null,
   "metadata": {},
   "outputs": [],
   "source": [
    "fruits = [\"りんご\", \"バナナ\", \"オレンジ\"]\n",
    "print(fruits[3])  # インデックスは 0, 1, 2 しかない\n",
    "\n",
    "name = \"Python\"\n",
    "print(name[10])  # 文字列の長さは 6 なので 10 番目の文字はない"
   ]
  },
  {
   "cell_type": "markdown",
   "metadata": {},
   "source": [
    "属性エラーの例"
   ]
  },
  {
   "cell_type": "code",
   "execution_count": null,
   "metadata": {},
   "outputs": [],
   "source": [
    "number = 42\n",
    "number.append(10)  # 数値型には append メソッドはない\n",
    "\n",
    "text = \"Hello\"\n",
    "text.update()  # 文字列型には update メソッドはない"
   ]
  },
  {
   "cell_type": "markdown",
   "metadata": {},
   "source": [
    "タイプミスの例と対策"
   ]
  },
  {
   "cell_type": "code",
   "execution_count": null,
   "metadata": {},
   "outputs": [],
   "source": [
    "# 間違った例\n",
    "counter = 0\n",
    "conter = conter + 1  # counter のタイプミス\n",
    "\n",
    "# 対策：変数名を統一し、わかりやすい命名を心がける\n",
    "counter = 0\n",
    "counter = counter + 1  # 正しく counter と書く"
   ]
  },
  {
   "cell_type": "markdown",
   "metadata": {},
   "source": [
    "カッコの対応忘れの例と対策"
   ]
  },
  {
   "cell_type": "code",
   "execution_count": null,
   "metadata": {},
   "outputs": [],
   "source": [
    "# 間違った例\n",
    "print(\"Hello\", (2 + 3 * 4)  # 閉じカッコが足りない\n",
    "\n",
    "# 対策：エディタの括弧強調機能を使う\n",
    "print(\"Hello\", (2 + 3 * 4))  # 正しく閉じカッコを入れる"
   ]
  },
  {
   "cell_type": "markdown",
   "metadata": {},
   "source": [
    "インデントのズレの例と対策"
   ]
  },
  {
   "cell_type": "code",
   "execution_count": null,
   "metadata": {},
   "outputs": [],
   "source": [
    "# 間違った例\n",
    "if x > 5:\n",
    "    print(\"x は 5 より大きい\")\n",
    "   print(\"処理を続けます\")  # インデントが揃っていない\n",
    "\n",
    "# 対策：インデントを揃える\n",
    "if x > 5:\n",
    "    print(\"x は 5 より大きい\")\n",
    "    print(\"処理を続けます\")  # インデントを揃える"
   ]
  },
  {
   "cell_type": "markdown",
   "metadata": {},
   "source": [
    "型の混在の例と対策"
   ]
  },
  {
   "cell_type": "code",
   "execution_count": null,
   "metadata": {},
   "outputs": [],
   "source": [
    "# 間違った例\n",
    "age = input(\"年齢を入力してください: \")\n",
    "birth_year = 2023 - age  # input は文字列を返すので計算できない\n",
    "\n",
    "# 対策：適切な型変換を行う\n",
    "age = input(\"年齢を入力してください: \")\n",
    "birth_year = 2023 - int(age)  # int() で数値に変換"
   ]
  }
 ],
 "metadata": {
  "language_info": {
   "name": "python"
  }
 },
 "nbformat": 4,
 "nbformat_minor": 2
}
