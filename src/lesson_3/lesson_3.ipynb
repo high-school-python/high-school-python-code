{
 "cells": [
  {
   "cell_type": "markdown",
   "metadata": {},
   "source": [
    "色々な条件分岐"
   ]
  },
  {
   "cell_type": "code",
   "execution_count": null,
   "metadata": {},
   "outputs": [],
   "source": [
    "# 天気による判断\n",
    "weather = \"雨\"\n",
    "if weather == \"雨\":\n",
    "    print(\"傘を持っていきましょう\")\n",
    "\n",
    "# 点数による判断\n",
    "score = 85\n",
    "if score >= 80:\n",
    "    print(\"よくできました！\")\n",
    "\n",
    "# 気温による判断\n",
    "temperature = 32\n",
    "if temperature >= 30:\n",
    "    print(\"暑いので水分補給を忘れずに！\")"
   ]
  },
  {
   "cell_type": "markdown",
   "metadata": {},
   "source": [
    "コロンを忘れた例"
   ]
  },
  {
   "cell_type": "code",
   "execution_count": null,
   "metadata": {},
   "outputs": [],
   "source": [
    "if score >= 80\n",
    "    print(\"合格です\")  # SyntaxError: invalid syntax"
   ]
  },
  {
   "cell_type": "markdown",
   "metadata": {},
   "source": [
    "字下げした例"
   ]
  },
  {
   "cell_type": "code",
   "execution_count": null,
   "metadata": {},
   "outputs": [],
   "source": [
    "temperature = 32\n",
    "\n",
    "if temperature >= 30:\n",
    "    # 字下げあり\n",
    "    print(\"暑いです\")\n",
    "\n",
    "# 字下げなし （if 文の外）\n",
    "print(\"気温は32度です\")"
   ]
  },
  {
   "cell_type": "markdown",
   "metadata": {},
   "source": [
    "字下げを忘れた例"
   ]
  },
  {
   "cell_type": "code",
   "execution_count": null,
   "metadata": {},
   "outputs": [],
   "source": [
    "temperature = 32\n",
    "\n",
    "if temperature >= 30:\n",
    "print(\"暑いです\")  # IndentationError: expected an indented block"
   ]
  },
  {
   "cell_type": "markdown",
   "metadata": {},
   "source": [
    "複数の処理を書いた例"
   ]
  },
  {
   "cell_type": "code",
   "execution_count": null,
   "metadata": {},
   "outputs": [],
   "source": [
    "score = 95\n",
    "\n",
    "if score >= 90:\n",
    "    print(\"大変よくできました！\")\n",
    "    print(\"次も頑張りましょう！\")\n",
    "    print(\"シールを貼りますね\")"
   ]
  },
  {
   "cell_type": "markdown",
   "metadata": {},
   "source": [
    "if 文の間違いの例"
   ]
  },
  {
   "cell_type": "code",
   "execution_count": null,
   "metadata": {},
   "outputs": [],
   "source": [
    "if score = 80: # = を使っている\n",
    "if score == 80 # コロンがない\n",
    "if score == 80: print(\"合格\") # インデントがない"
   ]
  },
  {
   "cell_type": "markdown",
   "metadata": {},
   "source": [
    "数値の比較"
   ]
  },
  {
   "cell_type": "code",
   "execution_count": null,
   "metadata": {},
   "outputs": [],
   "source": [
    "age = 16\n",
    "\n",
    "if age >= 16:  # 16歳以上\n",
    "    pass\n",
    "if age < 20:  # 20歳未満\n",
    "    pass\n",
    "if age == 18:  # ちょうど18歳\n",
    "    pass"
   ]
  },
  {
   "cell_type": "markdown",
   "metadata": {},
   "source": [
    "文字列の比較"
   ]
  },
  {
   "cell_type": "code",
   "execution_count": null,
   "metadata": {},
   "outputs": [],
   "source": [
    "name = \"山田\"\n",
    "\n",
    "if name == \"山田\":  # 文字列が完全に一致\n",
    "    pass\n",
    "if \"山\" in name:  # 文字列を含むか\n",
    "    pass"
   ]
  },
  {
   "cell_type": "markdown",
   "metadata": {},
   "source": [
    "真偽値の判定"
   ]
  },
  {
   "cell_type": "code",
   "execution_count": null,
   "metadata": {},
   "outputs": [],
   "source": [
    "is_student = True\n",
    "\n",
    "if is_student:  # True かどうか\n",
    "    pass\n",
    "if not is_student:  # False かどうか\n",
    "    pass"
   ]
  },
  {
   "cell_type": "markdown",
   "metadata": {},
   "source": [
    "合格判定の例"
   ]
  },
  {
   "cell_type": "code",
   "execution_count": null,
   "metadata": {},
   "outputs": [],
   "source": [
    "score = 65\n",
    "if score >= 70:\n",
    "    print(\"合格です！\")\n",
    "    print(\"次のステージに進めます\")\n",
    "else:\n",
    "    print(\"残念、不合格です\")\n",
    "    print(\"もう一度チャレンジしましょう\")"
   ]
  },
  {
   "cell_type": "markdown",
   "metadata": {},
   "source": [
    "天気予報の例"
   ]
  },
  {
   "cell_type": "code",
   "execution_count": null,
   "metadata": {},
   "outputs": [],
   "source": [
    "weather = \"晴れ\"\n",
    "if weather == \"雨\":\n",
    "    print(\"傘を持っていきましょう\")\n",
    "else:\n",
    "    print(\"良い天気です\")"
   ]
  },
  {
   "cell_type": "markdown",
   "metadata": {},
   "source": [
    "インデントを揃える"
   ]
  },
  {
   "cell_type": "code",
   "execution_count": null,
   "metadata": {},
   "outputs": [],
   "source": [
    "if score >= 80:\n",
    "    print(\"合格！\")  # if ブロックは 4 スペース\n",
    "else:  # else は if と同じ位置\n",
    "    print(\"不合格\")  # else ブロックも 4 スペース"
   ]
  },
  {
   "cell_type": "markdown",
   "metadata": {},
   "source": [
    "else は if の直後"
   ]
  },
  {
   "cell_type": "code",
   "execution_count": null,
   "metadata": {},
   "outputs": [],
   "source": [
    "# 正しい例\n",
    "if score >= 80:\n",
    "    print(\"合格\")\n",
    "else:\n",
    "    print(\"不合格\")\n",
    "\n",
    "# 間違った例\n",
    "if score >= 80:\n",
    "    print(\"合格\")\n",
    "# 間に他の処理を入れるとエラー\n",
    "print(\"判定終了\")\n",
    "else:  # IndentationError: expected an indented block\n",
    "    print(\"不合格\")"
   ]
  },
  {
   "cell_type": "markdown",
   "metadata": {},
   "source": [
    "テストの成績判定"
   ]
  },
  {
   "cell_type": "code",
   "execution_count": null,
   "metadata": {},
   "outputs": [],
   "source": [
    "score = 82\n",
    "\n",
    "if score >= 90:\n",
    "    print(\"評価: A\")\n",
    "elif score >= 80:\n",
    "    print(\"評価: B\")\n",
    "elif score >= 70:\n",
    "    print(\"評価: C\")\n",
    "else:\n",
    "    print(\"評価: D\")"
   ]
  },
  {
   "cell_type": "markdown",
   "metadata": {},
   "source": [
    "条件チェックの順序が重要"
   ]
  },
  {
   "cell_type": "code",
   "execution_count": null,
   "metadata": {},
   "outputs": [],
   "source": [
    "# 間違った例\n",
    "score = 95\n",
    "if score >= 60:  # ここで True になってしまう\n",
    "    print(\"合格\")\n",
    "elif score >= 80:  # ここはチェックされない\n",
    "    print(\"よくできました\")\n",
    "elif score >= 90:  # ここもチェックされない\n",
    "    print(\"大変よくできました\")\n",
    "\n",
    "# 正しい例 （条件を上から厳しくする）\n",
    "if score >= 90:\n",
    "    print(\"大変よくできました\")\n",
    "elif score >= 80:\n",
    "    print(\"よくできました\")\n",
    "elif score >= 60:\n",
    "    print(\"合格\")"
   ]
  },
  {
   "cell_type": "markdown",
   "metadata": {},
   "source": [
    "料金判定の例"
   ]
  },
  {
   "cell_type": "code",
   "execution_count": null,
   "metadata": {},
   "outputs": [],
   "source": [
    "age = 16\n",
    "\n",
    "if age < 0:  # 例外的な条件 （最初に）\n",
    "    print(\"エラー\")\n",
    "elif age <= 12:  # より具体的な条件 （子供）\n",
    "    print(\"600円\")\n",
    "elif age <= 18:  # 次に具体的な条件 （学生）\n",
    "    print(\"800円\")\n",
    "else:  # 最も広い条件 （大人）\n",
    "    print(\"1000円\")"
   ]
  },
  {
   "cell_type": "markdown",
   "metadata": {},
   "source": [
    "高校生で成績優秀な場合を判定"
   ]
  },
  {
   "cell_type": "code",
   "execution_count": null,
   "metadata": {},
   "outputs": [],
   "source": [
    "age = 16\n",
    "score = 85\n",
    "\n",
    "if age >= 15 and score >= 80:\n",
    "    print(\"高校生で成績優秀です！\")\n",
    "    print(\"表彰状を贈ります\")"
   ]
  },
  {
   "cell_type": "markdown",
   "metadata": {},
   "source": [
    "蒸し暑い日を判定"
   ]
  },
  {
   "cell_type": "code",
   "execution_count": null,
   "metadata": {},
   "outputs": [],
   "source": [
    "temperature = 32\n",
    "humidity = 75\n",
    "\n",
    "if temperature >= 30 and humidity >= 70:\n",
    "    print(\"蒸し暑い日です\")\n",
    "    print(\"熱中症に注意しましょう\")"
   ]
  },
  {
   "cell_type": "markdown",
   "metadata": {},
   "source": [
    "点数が範囲外かどうかを判定"
   ]
  },
  {
   "cell_type": "code",
   "execution_count": null,
   "metadata": {},
   "outputs": [],
   "source": [
    "score = 120\n",
    "\n",
    "if score < 0 or score > 100:\n",
    "    print(\"点数が範囲外です\")\n",
    "    print(\"0から100の間で入力してください\")"
   ]
  },
  {
   "cell_type": "markdown",
   "metadata": {},
   "source": [
    "休日かどうかを判定"
   ]
  },
  {
   "cell_type": "code",
   "execution_count": null,
   "metadata": {},
   "outputs": [],
   "source": [
    "is_weekend = True\n",
    "is_holiday = False\n",
    "\n",
    "if is_weekend or is_holiday:\n",
    "    print(\"今日は休みです\")\n",
    "    print(\"ゆっくり過ごしましょう\")"
   ]
  },
  {
   "cell_type": "markdown",
   "metadata": {},
   "source": [
    "晴れではないなら傘を持っていく"
   ]
  },
  {
   "cell_type": "code",
   "execution_count": null,
   "metadata": {},
   "outputs": [],
   "source": [
    "sunny = False\n",
    "\n",
    "if not sunny:\n",
    "    print(\"今日は曇りか雨です\")\n",
    "    print(\"傘を持っていきましょう\")"
   ]
  },
  {
   "cell_type": "markdown",
   "metadata": {},
   "source": [
    "宿題が終わっているかどうかを判定"
   ]
  },
  {
   "cell_type": "code",
   "execution_count": null,
   "metadata": {},
   "outputs": [],
   "source": [
    "has_homework = True\n",
    "\n",
    "if not has_homework:\n",
    "    print(\"宿題は終わっています\")\n",
    "else:\n",
    "    print(\"まだ宿題が残っています\")"
   ]
  },
  {
   "cell_type": "markdown",
   "metadata": {},
   "source": [
    "カッコがあると優先順位が明確になる"
   ]
  },
  {
   "cell_type": "code",
   "execution_count": null,
   "metadata": {},
   "outputs": [],
   "source": [
    "temperature = 28\n",
    "humidity = 80\n",
    "is_raining = True\n",
    "\n",
    "# カッコがないと意図が分かりにくい\n",
    "if temperature >= 30 and humidity >= 70 or is_raining:\n",
    "    print(\"1. 傘を持って行きましょう\")\n",
    "\n",
    "# カッコをつけて意図を明確にした\n",
    "if (temperature >= 30 and humidity >= 70) or is_raining:\n",
    "    # 雨が降っているので実行される\n",
    "    print(\"2. 傘を持って行きましょう\")\n",
    "\n",
    "# 別の意図の例\n",
    "if temperature >= 30 and (humidity >= 70 or is_raining):\n",
    "    # 気温が 30 度未満なので実行されない\n",
    "    print(\"3. 傘を持って行きましょう\")"
   ]
  },
  {
   "cell_type": "markdown",
   "metadata": {},
   "source": [
    "条件を変数にまとめる"
   ]
  },
  {
   "cell_type": "code",
   "execution_count": null,
   "metadata": {},
   "outputs": [],
   "source": [
    "age = 16\n",
    "score = 85\n",
    "attendance = 95\n",
    "\n",
    "# 整理する前\n",
    "if age >= 15 and age <= 18 and score >= 80 and attendance >= 90:\n",
    "    print(\"表彰の対象です\")\n",
    "\n",
    "# 整理した後\n",
    "is_high_school_student = age >= 15 and age <= 18\n",
    "has_good_score = score >= 80\n",
    "has_good_attendance = attendance >= 90\n",
    "\n",
    "if is_high_school_student and has_good_score and has_good_attendance:\n",
    "    print(\"表彰の対象です\")"
   ]
  },
  {
   "cell_type": "markdown",
   "metadata": {},
   "source": [
    "変数名で条件の意味を明確にする"
   ]
  },
  {
   "cell_type": "code",
   "execution_count": null,
   "metadata": {},
   "outputs": [],
   "source": [
    "# 商品の注文システム\n",
    "quantity = 10\n",
    "price = 1200\n",
    "total = 10000\n",
    "is_member = True\n",
    "is_premium_member = False\n",
    "\n",
    "is_in_stock = quantity > 0\n",
    "is_valid_price = price >= 100 and price <= 10000\n",
    "can_use_coupon = total >= 3000 and is_member\n",
    "is_free_shipping = total >= 5000 or is_premium_member\n",
    "\n",
    "if is_in_stock and is_valid_price:\n",
    "    if can_use_coupon:\n",
    "        print(\"クーポンが使えます\")\n",
    "    if is_free_shipping:\n",
    "        print(\"送料無料です\")"
   ]
  },
  {
   "cell_type": "markdown",
   "metadata": {},
   "source": [
    "段階的にチェックする"
   ]
  },
  {
   "cell_type": "code",
   "execution_count": null,
   "metadata": {},
   "outputs": [],
   "source": [
    "score = 85\n",
    "\n",
    "# 最初に異常値をチェック\n",
    "if score < 0 or score > 100:\n",
    "    print(\"エラー：不正な点数です\")\n",
    "else:\n",
    "    # 成績の判定\n",
    "    if score >= 90:\n",
    "        print(\"評価: A\")\n",
    "    elif score >= 80:\n",
    "        print(\"評価: B\")\n",
    "    elif score >= 70:\n",
    "        print(\"評価: C\")\n",
    "    else:\n",
    "        print(\"評価: D\")"
   ]
  },
  {
   "cell_type": "markdown",
   "metadata": {},
   "source": [
    "部活動の練習場所"
   ]
  },
  {
   "cell_type": "code",
   "execution_count": null,
   "metadata": {},
   "outputs": [],
   "source": [
    "day = \"月曜日\"\n",
    "weather = \"雨\"\n",
    "\n",
    "if day == \"月曜日\":\n",
    "    if weather == \"晴れ\":\n",
    "        print(\"グラウンドで練習です\")\n",
    "    else:\n",
    "        print(\"体育館で練習です\")\n",
    "else:\n",
    "    print(\"今日は部活動はありません\")"
   ]
  },
  {
   "cell_type": "markdown",
   "metadata": {},
   "source": [
    "商品の購入判断"
   ]
  },
  {
   "cell_type": "code",
   "execution_count": null,
   "metadata": {},
   "outputs": [],
   "source": [
    "price = 1200  # 商品の値段\n",
    "money = 1000  # 持っているお金\n",
    "discount = True  # 割引クーポンを持っている\n",
    "\n",
    "if money >= price:\n",
    "    print(\"購入できます\")\n",
    "    print(f\"残金：{money - price}円\")\n",
    "else:\n",
    "    if discount:\n",
    "        # 20% オフ\n",
    "        discounted_price = price * 0.8\n",
    "\n",
    "        if money >= discounted_price:\n",
    "            print(\"割引価格なら購入できます\")\n",
    "            print(f\"割引後価格：{discounted_price}円\")\n",
    "            print(f\"残金：{money - discounted_price}円\")\n",
    "        else:\n",
    "            print(\"割引されても予算オーバーです\")\n",
    "            print(f\"あと{discounted_price - money}円必要です\")\n",
    "    else:\n",
    "        print(\"予算が足りません\")\n",
    "        print(f\"あと{price - money}円必要です\")"
   ]
  },
  {
   "cell_type": "markdown",
   "metadata": {},
   "source": [
    "年齢に応じたメッセージ"
   ]
  },
  {
   "cell_type": "code",
   "execution_count": null,
   "metadata": {},
   "outputs": [],
   "source": [
    "age = int(input(\"年齢を入力してください：\"))\n",
    "\n",
    "if age < 0:\n",
    "    print(\"エラー：正しい年齢を入力してください\")\n",
    "elif age < 13:\n",
    "    print(\"子供料金：600円です\")\n",
    "elif age < 65:\n",
    "    print(\"大人料金：1200円です\")\n",
    "else:\n",
    "    print(\"シニア料金：800円です\")"
   ]
  },
  {
   "cell_type": "markdown",
   "metadata": {},
   "source": [
    "パスワードの安全性チェック"
   ]
  },
  {
   "cell_type": "code",
   "execution_count": null,
   "metadata": {},
   "outputs": [],
   "source": [
    "password = input(\"パスワードを入力してください：\")\n",
    "\n",
    "if len(password) < 8:\n",
    "    print(\"パスワードが短すぎます\")\n",
    "    print(\"8文字以上にしてください\")\n",
    "elif password.isdigit():\n",
    "    print(\"数字だけのパスワードは危険です\")\n",
    "    print(\"文字も混ぜてください\")\n",
    "elif password.isalpha():\n",
    "    print(\"文字だけのパスワードは危険です\")\n",
    "    print(\"数字も混ぜてください\")\n",
    "else:\n",
    "    print(\"パスワードOK!\")"
   ]
  },
  {
   "cell_type": "markdown",
   "metadata": {},
   "source": [
    "点数を入力し、合否判定するプログラム"
   ]
  },
  {
   "cell_type": "code",
   "execution_count": null,
   "metadata": {},
   "outputs": [],
   "source": [
    "score = int(input(\"点数を入力してください (0 〜 100):\"))\n",
    "\n",
    "if score < 0 or score > 100:\n",
    "    print(\"エラー: 0 から 100 の間の点数を入力してください\")\n",
    "else:\n",
    "    # 判定処理\n",
    "    if score >= 90:\n",
    "        print(\"評価: A+\")\n",
    "        print(\"素晴らしい成績です！\")\n",
    "    elif score >= 80:\n",
    "        print(\"評価: A\")\n",
    "        print(\"よくできました！\")\n",
    "    elif score >= 70:\n",
    "        print(\"評価: B\")\n",
    "        print(\"がんばりました\")\n",
    "    elif score >= 60:\n",
    "        print(\"評価: C\")\n",
    "        print(\"合格です\")\n",
    "    else:\n",
    "        print(\"評価: D\")\n",
    "        print(\"残念ながら不合格です\")"
   ]
  },
  {
   "cell_type": "markdown",
   "metadata": {},
   "source": [
    "1 から 100 までの数字で FizzBuzz ゲーム"
   ]
  },
  {
   "cell_type": "code",
   "execution_count": null,
   "metadata": {},
   "outputs": [],
   "source": [
    "for num in range(1, 101):\n",
    "    if num % 15 == 0:\n",
    "        # 15 の倍数のとき\n",
    "        print(\"FizzBuzz\")\n",
    "    elif num % 3 == 0:\n",
    "        # 3 の倍数のとき\n",
    "        print(\"Fizz\")\n",
    "    elif num % 5 == 0:\n",
    "        # 5 の倍数のとき\n",
    "        print(\"Buzz\")\n",
    "    else:\n",
    "        # それ以外のとき\n",
    "        print(num)"
   ]
  }
 ],
 "metadata": {
  "language_info": {
   "name": "python"
  }
 },
 "nbformat": 4,
 "nbformat_minor": 2
}
