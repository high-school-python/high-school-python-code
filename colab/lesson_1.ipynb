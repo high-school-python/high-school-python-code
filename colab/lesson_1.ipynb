{
 "cells": [
  {
   "cell_type": "markdown",
   "metadata": {},
   "source": [
    "print 関数で文字や数字を表示する"
   ]
  },
  {
   "cell_type": "code",
   "execution_count": null,
   "metadata": {},
   "outputs": [],
   "source": [
    "# 文字を表示する\n",
    "print(\"Hello, World!\")  # Hello, World! と表示されます\n",
    "print(\"私の名前は太郎です\")  # 日本語もOK！\n",
    "\n",
    "# 数字を表示する\n",
    "print(42)  # 42 と表示されます"
   ]
  }
 ],
 "metadata": {
  "language_info": {
   "name": "python"
  }
 },
 "nbformat": 4,
 "nbformat_minor": 2
}
